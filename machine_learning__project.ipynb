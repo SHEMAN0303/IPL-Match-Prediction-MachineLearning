{
  "cells": [
    {
      "cell_type": "code",
      "execution_count": null,
      "id": "06e26285-5ae0-40fe-a7db-859bbe424daf",
      "metadata": {
        "colab": {
          "base_uri": "https://localhost:8080/",
          "height": 1000
        },
        "id": "06e26285-5ae0-40fe-a7db-859bbe424daf",
        "outputId": "617b6390-6a8c-4f1a-d4b8-8d4f139c9120"
      },
      "outputs": [
        {
          "output_type": "display_data",
          "data": {
            "text/plain": [
              "<IPython.core.display.HTML object>"
            ],
            "text/html": [
              "\n",
              "     <input type=\"file\" id=\"files-9080d9ef-ee7c-4d73-89d8-404ceb644244\" name=\"files[]\" multiple disabled\n",
              "        style=\"border:none\" />\n",
              "     <output id=\"result-9080d9ef-ee7c-4d73-89d8-404ceb644244\">\n",
              "      Upload widget is only available when the cell has been executed in the\n",
              "      current browser session. Please rerun this cell to enable.\n",
              "      </output>\n",
              "      <script>// Copyright 2017 Google LLC\n",
              "//\n",
              "// Licensed under the Apache License, Version 2.0 (the \"License\");\n",
              "// you may not use this file except in compliance with the License.\n",
              "// You may obtain a copy of the License at\n",
              "//\n",
              "//      http://www.apache.org/licenses/LICENSE-2.0\n",
              "//\n",
              "// Unless required by applicable law or agreed to in writing, software\n",
              "// distributed under the License is distributed on an \"AS IS\" BASIS,\n",
              "// WITHOUT WARRANTIES OR CONDITIONS OF ANY KIND, either express or implied.\n",
              "// See the License for the specific language governing permissions and\n",
              "// limitations under the License.\n",
              "\n",
              "/**\n",
              " * @fileoverview Helpers for google.colab Python module.\n",
              " */\n",
              "(function(scope) {\n",
              "function span(text, styleAttributes = {}) {\n",
              "  const element = document.createElement('span');\n",
              "  element.textContent = text;\n",
              "  for (const key of Object.keys(styleAttributes)) {\n",
              "    element.style[key] = styleAttributes[key];\n",
              "  }\n",
              "  return element;\n",
              "}\n",
              "\n",
              "// Max number of bytes which will be uploaded at a time.\n",
              "const MAX_PAYLOAD_SIZE = 100 * 1024;\n",
              "\n",
              "function _uploadFiles(inputId, outputId) {\n",
              "  const steps = uploadFilesStep(inputId, outputId);\n",
              "  const outputElement = document.getElementById(outputId);\n",
              "  // Cache steps on the outputElement to make it available for the next call\n",
              "  // to uploadFilesContinue from Python.\n",
              "  outputElement.steps = steps;\n",
              "\n",
              "  return _uploadFilesContinue(outputId);\n",
              "}\n",
              "\n",
              "// This is roughly an async generator (not supported in the browser yet),\n",
              "// where there are multiple asynchronous steps and the Python side is going\n",
              "// to poll for completion of each step.\n",
              "// This uses a Promise to block the python side on completion of each step,\n",
              "// then passes the result of the previous step as the input to the next step.\n",
              "function _uploadFilesContinue(outputId) {\n",
              "  const outputElement = document.getElementById(outputId);\n",
              "  const steps = outputElement.steps;\n",
              "\n",
              "  const next = steps.next(outputElement.lastPromiseValue);\n",
              "  return Promise.resolve(next.value.promise).then((value) => {\n",
              "    // Cache the last promise value to make it available to the next\n",
              "    // step of the generator.\n",
              "    outputElement.lastPromiseValue = value;\n",
              "    return next.value.response;\n",
              "  });\n",
              "}\n",
              "\n",
              "/**\n",
              " * Generator function which is called between each async step of the upload\n",
              " * process.\n",
              " * @param {string} inputId Element ID of the input file picker element.\n",
              " * @param {string} outputId Element ID of the output display.\n",
              " * @return {!Iterable<!Object>} Iterable of next steps.\n",
              " */\n",
              "function* uploadFilesStep(inputId, outputId) {\n",
              "  const inputElement = document.getElementById(inputId);\n",
              "  inputElement.disabled = false;\n",
              "\n",
              "  const outputElement = document.getElementById(outputId);\n",
              "  outputElement.innerHTML = '';\n",
              "\n",
              "  const pickedPromise = new Promise((resolve) => {\n",
              "    inputElement.addEventListener('change', (e) => {\n",
              "      resolve(e.target.files);\n",
              "    });\n",
              "  });\n",
              "\n",
              "  const cancel = document.createElement('button');\n",
              "  inputElement.parentElement.appendChild(cancel);\n",
              "  cancel.textContent = 'Cancel upload';\n",
              "  const cancelPromise = new Promise((resolve) => {\n",
              "    cancel.onclick = () => {\n",
              "      resolve(null);\n",
              "    };\n",
              "  });\n",
              "\n",
              "  // Wait for the user to pick the files.\n",
              "  const files = yield {\n",
              "    promise: Promise.race([pickedPromise, cancelPromise]),\n",
              "    response: {\n",
              "      action: 'starting',\n",
              "    }\n",
              "  };\n",
              "\n",
              "  cancel.remove();\n",
              "\n",
              "  // Disable the input element since further picks are not allowed.\n",
              "  inputElement.disabled = true;\n",
              "\n",
              "  if (!files) {\n",
              "    return {\n",
              "      response: {\n",
              "        action: 'complete',\n",
              "      }\n",
              "    };\n",
              "  }\n",
              "\n",
              "  for (const file of files) {\n",
              "    const li = document.createElement('li');\n",
              "    li.append(span(file.name, {fontWeight: 'bold'}));\n",
              "    li.append(span(\n",
              "        `(${file.type || 'n/a'}) - ${file.size} bytes, ` +\n",
              "        `last modified: ${\n",
              "            file.lastModifiedDate ? file.lastModifiedDate.toLocaleDateString() :\n",
              "                                    'n/a'} - `));\n",
              "    const percent = span('0% done');\n",
              "    li.appendChild(percent);\n",
              "\n",
              "    outputElement.appendChild(li);\n",
              "\n",
              "    const fileDataPromise = new Promise((resolve) => {\n",
              "      const reader = new FileReader();\n",
              "      reader.onload = (e) => {\n",
              "        resolve(e.target.result);\n",
              "      };\n",
              "      reader.readAsArrayBuffer(file);\n",
              "    });\n",
              "    // Wait for the data to be ready.\n",
              "    let fileData = yield {\n",
              "      promise: fileDataPromise,\n",
              "      response: {\n",
              "        action: 'continue',\n",
              "      }\n",
              "    };\n",
              "\n",
              "    // Use a chunked sending to avoid message size limits. See b/62115660.\n",
              "    let position = 0;\n",
              "    do {\n",
              "      const length = Math.min(fileData.byteLength - position, MAX_PAYLOAD_SIZE);\n",
              "      const chunk = new Uint8Array(fileData, position, length);\n",
              "      position += length;\n",
              "\n",
              "      const base64 = btoa(String.fromCharCode.apply(null, chunk));\n",
              "      yield {\n",
              "        response: {\n",
              "          action: 'append',\n",
              "          file: file.name,\n",
              "          data: base64,\n",
              "        },\n",
              "      };\n",
              "\n",
              "      let percentDone = fileData.byteLength === 0 ?\n",
              "          100 :\n",
              "          Math.round((position / fileData.byteLength) * 100);\n",
              "      percent.textContent = `${percentDone}% done`;\n",
              "\n",
              "    } while (position < fileData.byteLength);\n",
              "  }\n",
              "\n",
              "  // All done.\n",
              "  yield {\n",
              "    response: {\n",
              "      action: 'complete',\n",
              "    }\n",
              "  };\n",
              "}\n",
              "\n",
              "scope.google = scope.google || {};\n",
              "scope.google.colab = scope.google.colab || {};\n",
              "scope.google.colab._files = {\n",
              "  _uploadFiles,\n",
              "  _uploadFilesContinue,\n",
              "};\n",
              "})(self);\n",
              "</script> "
            ]
          },
          "metadata": {}
        },
        {
          "output_type": "stream",
          "name": "stdout",
          "text": [
            "Saving ipl_matches.csv to ipl_matches.csv\n"
          ]
        },
        {
          "output_type": "execute_result",
          "data": {
            "text/plain": [
              "{'ipl_matches.csv': b'id,Season,city,date,team1,team2,toss_winner,toss_decision,result,dl_applied,winner,win_by_runs,win_by_wickets,player_of_match,venue,umpire1,umpire2,umpire3\\r\\n1,IPL-2017,Hyderabad,05-04-2017,Sunrisers Hyderabad,Royal Challengers Bangalore,Royal Challengers Bangalore,field,normal,0,Sunrisers Hyderabad,35,0,Yuvraj Singh,\"Rajiv Gandhi International Stadium, Uppal\",AY Dandekar,NJ Llong,\\r\\n2,IPL-2017,Pune,06-04-2017,Mumbai Indians,Rising Pune Supergiant,Rising Pune Supergiant,field,normal,0,Rising Pune Supergiant,0,7,SPD Smith,Maharashtra Cricket Association Stadium,A Nand Kishore,S Ravi,\\r\\n3,IPL-2017,Rajkot,07-04-2017,Gujarat Lions,Kolkata Knight Riders,Kolkata Knight Riders,field,normal,0,Kolkata Knight Riders,0,10,CA Lynn,Saurashtra Cricket Association Stadium,Nitin Menon,CK Nandan,\\r\\n4,IPL-2017,Indore,08-04-2017,Rising Pune Supergiant,Kings XI Punjab,Kings XI Punjab,field,normal,0,Kings XI Punjab,0,6,GJ Maxwell,Holkar Cricket Stadium,AK Chaudhary,C Shamshuddin,\\r\\n5,IPL-2017,Bangalore,08-04-2017,Royal Challengers Bangalore,Delhi Daredevils,Royal Challengers Bangalore,bat,normal,0,Royal Challengers Bangalore,15,0,KM Jadhav,M Chinnaswamy Stadium,,,\\r\\n6,IPL-2017,Hyderabad,09-04-2017,Gujarat Lions,Sunrisers Hyderabad,Sunrisers Hyderabad,field,normal,0,Sunrisers Hyderabad,0,9,Rashid Khan,\"Rajiv Gandhi International Stadium, Uppal\",A Deshmukh,NJ Llong,\\r\\n7,IPL-2017,Mumbai,09-04-2017,Kolkata Knight Riders,Mumbai Indians,Mumbai Indians,field,normal,0,Mumbai Indians,0,4,N Rana,Wankhede Stadium,Nitin Menon,CK Nandan,\\r\\n8,IPL-2017,Indore,10-04-2017,Royal Challengers Bangalore,Kings XI Punjab,Royal Challengers Bangalore,bat,normal,0,Kings XI Punjab,0,8,AR Patel,Holkar Cricket Stadium,AK Chaudhary,C Shamshuddin,\\r\\n9,IPL-2017,Pune,11-04-2017,Delhi Daredevils,Rising Pune Supergiant,Rising Pune Supergiant,field,normal,0,Delhi Daredevils,97,0,SV Samson,Maharashtra Cricket Association Stadium,AY Dandekar,S Ravi,\\r\\n10,IPL-2017,Mumbai,12-04-2017,Sunrisers Hyderabad,Mumbai Indians,Mumbai Indians,field,normal,0,Mumbai Indians,0,4,JJ Bumrah,Wankhede Stadium,Nitin Menon,CK Nandan,\\r\\n11,IPL-2017,Kolkata,13-04-2017,Kings XI Punjab,Kolkata Knight Riders,Kolkata Knight Riders,field,normal,0,Kolkata Knight Riders,0,8,SP Narine,Eden Gardens,A Deshmukh,NJ Llong,\\r\\n12,IPL-2017,Bangalore,14-04-2017,Royal Challengers Bangalore,Mumbai Indians,Mumbai Indians,field,normal,0,Mumbai Indians,0,4,KA Pollard,M Chinnaswamy Stadium,KN Ananthapadmanabhan,AK Chaudhary,\\r\\n13,IPL-2017,Rajkot,14-04-2017,Rising Pune Supergiant,Gujarat Lions,Gujarat Lions,field,normal,0,Gujarat Lions,0,7,AJ Tye,Saurashtra Cricket Association Stadium,A Nand Kishore,S Ravi,\\r\\n14,IPL-2017,Kolkata,15-04-2017,Kolkata Knight Riders,Sunrisers Hyderabad,Sunrisers Hyderabad,field,normal,0,Kolkata Knight Riders,17,0,RV Uthappa,Eden Gardens,AY Dandekar,NJ Llong,\\r\\n15,IPL-2017,Delhi,15-04-2017,Delhi Daredevils,Kings XI Punjab,Delhi Daredevils,bat,normal,0,Delhi Daredevils,51,0,CJ Anderson,Feroz Shah Kotla,YC Barde,Nitin Menon,\\r\\n16,IPL-2017,Mumbai,16-04-2017,Gujarat Lions,Mumbai Indians,Mumbai Indians,field,normal,0,Mumbai Indians,0,6,N Rana,Wankhede Stadium,A Nand Kishore,S Ravi,\\r\\n17,IPL-2017,Bangalore,16-04-2017,Rising Pune Supergiant,Royal Challengers Bangalore,Royal Challengers Bangalore,field,normal,0,Rising Pune Supergiant,27,0,BA Stokes,M Chinnaswamy Stadium,KN Ananthapadmanabhan,C Shamshuddin,\\r\\n18,IPL-2017,Delhi,17-04-2017,Delhi Daredevils,Kolkata Knight Riders,Delhi Daredevils,bat,normal,0,Kolkata Knight Riders,0,4,NM Coulter-Nile,Feroz Shah Kotla,Nitin Menon,CK Nandan,\\r\\n19,IPL-2017,Hyderabad,17-04-2017,Sunrisers Hyderabad,Kings XI Punjab,Kings XI Punjab,field,normal,0,Sunrisers Hyderabad,5,0,B Kumar,\"Rajiv Gandhi International Stadium, Uppal\",AY Dandekar,A Deshmukh,\\r\\n20,IPL-2017,Rajkot,18-04-2017,Royal Challengers Bangalore,Gujarat Lions,Gujarat Lions,field,normal,0,Royal Challengers Bangalore,21,0,CH Gayle,Saurashtra Cricket Association Stadium,S Ravi,VK Sharma,\\r\\n21,IPL-2017,Hyderabad,19-04-2017,Sunrisers Hyderabad,Delhi Daredevils,Sunrisers Hyderabad,bat,normal,0,Sunrisers Hyderabad,15,0,KS Williamson,\"Rajiv Gandhi International Stadium, Uppal\",CB Gaffaney,NJ Llong,\\r\\n22,IPL-2017,Indore,20-04-2017,Kings XI Punjab,Mumbai Indians,Mumbai Indians,field,normal,0,Mumbai Indians,0,8,JC Buttler,Holkar Cricket Stadium,M Erasmus,C Shamshuddin,\\r\\n23,IPL-2017,Kolkata,21-04-2017,Kolkata Knight Riders,Gujarat Lions,Gujarat Lions,field,normal,0,Gujarat Lions,0,4,SK Raina,Eden Gardens,CB Gaffaney,Nitin Menon,\\r\\n24,IPL-2017,Mumbai,22-04-2017,Mumbai Indians,Delhi Daredevils,Delhi Daredevils,field,normal,0,Mumbai Indians,14,0,MJ McClenaghan,Wankhede Stadium,A Nand Kishore,S Ravi,\\r\\n25,IPL-2017,Pune,22-04-2017,Sunrisers Hyderabad,Rising Pune Supergiant,Rising Pune Supergiant,field,normal,0,Rising Pune Supergiant,0,6,MS Dhoni,Maharashtra Cricket Association Stadium,AY Dandekar,A Deshmukh,\\r\\n26,IPL-2017,Rajkot,23-04-2017,Kings XI Punjab,Gujarat Lions,Gujarat Lions,field,normal,0,Kings XI Punjab,26,0,HM Amla,Saurashtra Cricket Association Stadium,AK Chaudhary,M Erasmus,\\r\\n27,IPL-2017,Kolkata,23-04-2017,Kolkata Knight Riders,Royal Challengers Bangalore,Royal Challengers Bangalore,field,normal,0,Kolkata Knight Riders,82,0,NM Coulter-Nile,Eden Gardens,CB Gaffaney,CK Nandan,\\r\\n28,IPL-2017,Mumbai,24-04-2017,Rising Pune Supergiant,Mumbai Indians,Mumbai Indians,field,normal,0,Rising Pune Supergiant,3,0,BA Stokes,Wankhede Stadium,A Nand Kishore,S Ravi,\\r\\n29,IPL-2017,Pune,26-04-2017,Rising Pune Supergiant,Kolkata Knight Riders,Kolkata Knight Riders,field,normal,0,Kolkata Knight Riders,0,7,RV Uthappa,Maharashtra Cricket Association Stadium,AY Dandekar,NJ Llong,\\r\\n30,IPL-2017,Bangalore,27-04-2017,Royal Challengers Bangalore,Gujarat Lions,Gujarat Lions,field,normal,0,Gujarat Lions,0,7,AJ Tye,M Chinnaswamy Stadium,AK Chaudhary,C Shamshuddin,\\r\\n31,IPL-2017,Kolkata,28-04-2017,Delhi Daredevils,Kolkata Knight Riders,Kolkata Knight Riders,field,normal,0,Kolkata Knight Riders,0,7,G Gambhir,Eden Gardens,NJ Llong,S Ravi,\\r\\n32,IPL-2017,Chandigarh,28-04-2017,Sunrisers Hyderabad,Kings XI Punjab,Kings XI Punjab,field,normal,0,Sunrisers Hyderabad,26,0,Rashid Khan,\"Punjab Cricket Association IS Bindra Stadium, Mohali\",Nitin Menon,CK Nandan,\\r\\n33,IPL-2017,Pune,29-04-2017,Rising Pune Supergiant,Royal Challengers Bangalore,Royal Challengers Bangalore,field,normal,0,Rising Pune Supergiant,61,0,LH Ferguson,Maharashtra Cricket Association Stadium,KN Ananthapadmanabhan,M Erasmus,\\r\\n34,IPL-2017,Rajkot,29-04-2017,Gujarat Lions,Mumbai Indians,Gujarat Lions,bat,tie,0,Mumbai Indians,0,0,KH Pandya,Saurashtra Cricket Association Stadium,AK Chaudhary,CB Gaffaney,\\r\\n35,IPL-2017,Chandigarh,30-04-2017,Delhi Daredevils,Kings XI Punjab,Kings XI Punjab,field,normal,0,Kings XI Punjab,0,10,Sandeep Sharma,\"Punjab Cricket Association IS Bindra Stadium, Mohali\",YC Barde,CK Nandan,\\r\\n36,IPL-2017,Hyderabad,30-04-2017,Sunrisers Hyderabad,Kolkata Knight Riders,Kolkata Knight Riders,field,normal,0,Sunrisers Hyderabad,48,0,DA Warner,\"Rajiv Gandhi International Stadium, Uppal\",AY Dandekar,S Ravi,\\r\\n37,IPL-2017,Mumbai,01-05-2017,Royal Challengers Bangalore,Mumbai Indians,Royal Challengers Bangalore,bat,normal,0,Mumbai Indians,0,5,RG Sharma,Wankhede Stadium,AK Chaudhary,CB Gaffaney,\\r\\n38,IPL-2017,Pune,01-05-2017,Gujarat Lions,Rising Pune Supergiant,Rising Pune Supergiant,field,normal,0,Rising Pune Supergiant,0,5,BA Stokes,Maharashtra Cricket Association Stadium,M Erasmus,C Shamshuddin,\\r\\n39,IPL-2017,Delhi,02-05-2017,Sunrisers Hyderabad,Delhi Daredevils,Delhi Daredevils,field,normal,0,Delhi Daredevils,0,6,Mohammed Shami,Feroz Shah Kotla,YC Barde,Nitin Menon,\\r\\n40,IPL-2017,Kolkata,03-05-2017,Kolkata Knight Riders,Rising Pune Supergiant,Rising Pune Supergiant,field,normal,0,Rising Pune Supergiant,0,4,RA Tripathi,Eden Gardens,KN Ananthapadmanabhan,A Nand Kishore,\\r\\n41,IPL-2017,Delhi,04-05-2017,Gujarat Lions,Delhi Daredevils,Delhi Daredevils,field,normal,0,Delhi Daredevils,0,7,RR Pant,Feroz Shah Kotla,M Erasmus,Nitin Menon,\\r\\n42,IPL-2017,Bangalore,05-05-2017,Kings XI Punjab,Royal Challengers Bangalore,Royal Challengers Bangalore,field,normal,0,Kings XI Punjab,19,0,Sandeep Sharma,M Chinnaswamy Stadium,CB Gaffaney,C Shamshuddin,\\r\\n43,IPL-2017,Hyderabad,06-05-2017,Rising Pune Supergiant,Sunrisers Hyderabad,Sunrisers Hyderabad,field,normal,0,Rising Pune Supergiant,12,0,JD Unadkat,\"Rajiv Gandhi International Stadium, Uppal\",KN Ananthapadmanabhan,AK Chaudhary,\\r\\n44,IPL-2017,Delhi,06-05-2017,Mumbai Indians,Delhi Daredevils,Delhi Daredevils,field,normal,0,Mumbai Indians,146,0,LMP Simmons,Feroz Shah Kotla,Nitin Menon,CK Nandan,\\r\\n45,IPL-2017,Bangalore,07-05-2017,Royal Challengers Bangalore,Kolkata Knight Riders,Kolkata Knight Riders,field,normal,0,Kolkata Knight Riders,0,6,SP Narine,M Chinnaswamy Stadium,AY Dandekar,C Shamshuddin,\\r\\n46,IPL-2017,Chandigarh,07-05-2017,Kings XI Punjab,Gujarat Lions,Gujarat Lions,field,normal,0,Gujarat Lions,0,6,DR Smith,\"Punjab Cricket Association IS Bindra Stadium, Mohali\",A Nand Kishore,VK Sharma,\\r\\n47,IPL-2017,Hyderabad,08-05-2017,Mumbai Indians,Sunrisers Hyderabad,Mumbai Indians,bat,normal,0,Sunrisers Hyderabad,0,7,S Dhawan,\"Rajiv Gandhi International Stadium, Uppal\",KN Ananthapadmanabhan,M Erasmus,\\r\\n48,IPL-2017,Chandigarh,09-05-2017,Kings XI Punjab,Kolkata Knight Riders,Kolkata Knight Riders,field,normal,0,Kings XI Punjab,14,0,MM Sharma,\"Punjab Cricket Association IS Bindra Stadium, Mohali\",A Nand Kishore,S Ravi,\\r\\n49,IPL-2017,Kanpur,10-05-2017,Gujarat Lions,Delhi Daredevils,Delhi Daredevils,field,normal,0,Delhi Daredevils,0,2,SS Iyer,Green Park,YC Barde,AK Chaudhary,\\r\\n50,IPL-2017,Mumbai,11-05-2017,Kings XI Punjab,Mumbai Indians,Mumbai Indians,field,normal,0,Kings XI Punjab,7,0,WP Saha,Wankhede Stadium,A Deshmukh,A Nand Kishore,\\r\\n51,IPL-2017,Delhi,12-05-2017,Delhi Daredevils,Rising Pune Supergiant,Delhi Daredevils,bat,normal,0,Delhi Daredevils,7,0,KK Nair,Feroz Shah Kotla,KN Ananthapadmanabhan,CK Nandan,\\r\\n52,IPL-2017,Kanpur,13-05-2017,Gujarat Lions,Sunrisers Hyderabad,Sunrisers Hyderabad,field,normal,0,Sunrisers Hyderabad,0,8,Mohammed Siraj,Green Park,AK Chaudhary,Nitin Menon,\\r\\n53,IPL-2017,Kolkata,13-05-2017,Mumbai Indians,Kolkata Knight Riders,Kolkata Knight Riders,field,normal,0,Mumbai Indians,9,0,AT Rayudu,Eden Gardens,A Nand Kishore,S Ravi,\\r\\n54,IPL-2017,Pune,14-05-2017,Kings XI Punjab,Rising Pune Supergiant,Rising Pune Supergiant,field,normal,0,Rising Pune Supergiant,0,9,JD Unadkat,Maharashtra Cricket Association Stadium,AY Dandekar,A Deshmukh,\\r\\n55,IPL-2017,Delhi,14-05-2017,Royal Challengers Bangalore,Delhi Daredevils,Royal Challengers Bangalore,bat,normal,0,Royal Challengers Bangalore,10,0,HV Patel,Feroz Shah Kotla,CK Nandan,C Shamshuddin,\\r\\n56,IPL-2017,Mumbai,16-05-2017,Rising Pune Supergiant,Mumbai Indians,Mumbai Indians,field,normal,0,Rising Pune Supergiant,20,0,Washington Sundar,Wankhede Stadium,S Ravi,C Shamshuddin,\\r\\n57,IPL-2017,Bangalore,17-05-2017,Sunrisers Hyderabad,Kolkata Knight Riders,Kolkata Knight Riders,field,normal,1,Kolkata Knight Riders,0,7,NM Coulter-Nile,M Chinnaswamy Stadium,AK Chaudhary,Nitin Menon,\\r\\n58,IPL-2017,Bangalore,19-05-2017,Kolkata Knight Riders,Mumbai Indians,Mumbai Indians,field,normal,0,Mumbai Indians,0,6,KV Sharma,M Chinnaswamy Stadium,NJ Llong,Nitin Menon,\\r\\n59,IPL-2017,Hyderabad,21-05-2017,Mumbai Indians,Rising Pune Supergiant,Mumbai Indians,bat,normal,0,Mumbai Indians,1,0,KH Pandya,\"Rajiv Gandhi International Stadium, Uppal\",NJ Llong,S Ravi,\\r\\n60,IPL-2008,Bangalore,18-04-2008,Kolkata Knight Riders,Royal Challengers Bangalore,Royal Challengers Bangalore,field,normal,0,Kolkata Knight Riders,140,0,BB McCullum,M Chinnaswamy Stadium,Asad Rauf,RE Koertzen,\\r\\n61,IPL-2008,Chandigarh,19-04-2008,Chennai Super Kings,Kings XI Punjab,Chennai Super Kings,bat,normal,0,Chennai Super Kings,33,0,MEK Hussey,\"Punjab Cricket Association Stadium, Mohali\",MR Benson,SL Shastri,\\r\\n62,IPL-2008,Delhi,19-04-2008,Rajasthan Royals,Delhi Daredevils,Rajasthan Royals,bat,normal,0,Delhi Daredevils,0,9,MF Maharoof,Feroz Shah Kotla,Aleem Dar,GA Pratapkumar,\\r\\n63,IPL-2008,Mumbai,20-04-2008,Mumbai Indians,Royal Challengers Bangalore,Mumbai Indians,bat,normal,0,Royal Challengers Bangalore,0,5,MV Boucher,Wankhede Stadium,SJ Davis,DJ Harper,\\r\\n64,IPL-2008,Kolkata,20-04-2008,Deccan Chargers,Kolkata Knight Riders,Deccan Chargers,bat,normal,0,Kolkata Knight Riders,0,5,DJ Hussey,Eden Gardens,BF Bowden,K Hariharan,\\r\\n65,IPL-2008,Jaipur,21-04-2008,Kings XI Punjab,Rajasthan Royals,Kings XI Punjab,bat,normal,0,Rajasthan Royals,0,6,SR Watson,Sawai Mansingh Stadium,Aleem Dar,RB Tiffin,\\r\\n66,IPL-2008,Hyderabad,22-04-2008,Deccan Chargers,Delhi Daredevils,Deccan Chargers,bat,normal,0,Delhi Daredevils,0,9,V Sehwag,\"Rajiv Gandhi International Stadium, Uppal\",IL Howell,AM Saheba,\\r\\n67,IPL-2008,Chennai,23-04-2008,Chennai Super Kings,Mumbai Indians,Mumbai Indians,field,normal,0,Chennai Super Kings,6,0,ML Hayden,\"MA Chidambaram Stadium, Chepauk\",DJ Harper,GA Pratapkumar,\\r\\n68,IPL-2008,Hyderabad,24-04-2008,Deccan Chargers,Rajasthan Royals,Rajasthan Royals,field,normal,0,Rajasthan Royals,0,3,YK Pathan,\"Rajiv Gandhi International Stadium, Uppal\",Asad Rauf,MR Benson,\\r\\n69,IPL-2008,Chandigarh,25-04-2008,Kings XI Punjab,Mumbai Indians,Mumbai Indians,field,normal,0,Kings XI Punjab,66,0,KC Sangakkara,\"Punjab Cricket Association Stadium, Mohali\",Aleem Dar,AM Saheba,\\r\\n70,IPL-2008,Bangalore,26-04-2008,Royal Challengers Bangalore,Rajasthan Royals,Rajasthan Royals,field,normal,0,Rajasthan Royals,0,7,SR Watson,M Chinnaswamy Stadium,MR Benson,IL Howell,\\r\\n71,IPL-2008,Chennai,26-04-2008,Kolkata Knight Riders,Chennai Super Kings,Kolkata Knight Riders,bat,normal,0,Chennai Super Kings,0,9,JDP Oram,\"MA Chidambaram Stadium, Chepauk\",BF Bowden,AV Jayaprakash,\\r\\n72,IPL-2008,Mumbai,27-04-2008,Mumbai Indians,Deccan Chargers,Deccan Chargers,field,normal,0,Deccan Chargers,0,10,AC Gilchrist,Dr DY Patil Sports Academy,Asad Rauf,SL Shastri,\\r\\n73,IPL-2008,Chandigarh,27-04-2008,Delhi Daredevils,Kings XI Punjab,Delhi Daredevils,bat,normal,0,Kings XI Punjab,0,4,SM Katich,\"Punjab Cricket Association Stadium, Mohali\",RE Koertzen,I Shivram,\\r\\n74,IPL-2008,Bangalore,28-04-2008,Chennai Super Kings,Royal Challengers Bangalore,Chennai Super Kings,bat,normal,0,Chennai Super Kings,13,0,MS Dhoni,M Chinnaswamy Stadium,BR Doctrove,RB Tiffin,\\r\\n75,IPL-2008,Kolkata,29-04-2008,Kolkata Knight Riders,Mumbai Indians,Kolkata Knight Riders,bat,normal,0,Mumbai Indians,0,7,ST Jayasuriya,Eden Gardens,BF Bowden,AV Jayaprakash,\\r\\n76,IPL-2008,Delhi,30-04-2008,Delhi Daredevils,Royal Challengers Bangalore,Royal Challengers Bangalore,field,normal,0,Delhi Daredevils,10,0,GD McGrath,Feroz Shah Kotla,Aleem Dar,I Shivram,\\r\\n77,IPL-2008,Hyderabad,01-05-2008,Deccan Chargers,Kings XI Punjab,Kings XI Punjab,field,normal,0,Kings XI Punjab,0,7,SE Marsh,\"Rajiv Gandhi International Stadium, Uppal\",BR Doctrove,RB Tiffin,\\r\\n78,IPL-2008,Jaipur,01-05-2008,Rajasthan Royals,Kolkata Knight Riders,Rajasthan Royals,bat,normal,0,Rajasthan Royals,45,0,SA Asnodkar,Sawai Mansingh Stadium,RE Koertzen,GA Pratapkumar,\\r\\n79,IPL-2008,Chennai,02-05-2008,Chennai Super Kings,Delhi Daredevils,Chennai Super Kings,bat,normal,0,Delhi Daredevils,0,8,V Sehwag,\"MA Chidambaram Stadium, Chepauk\",BF Bowden,K Hariharan,\\r\\n80,IPL-2008,Hyderabad,25-05-2008,Deccan Chargers,Royal Challengers Bangalore,Deccan Chargers,bat,normal,0,Royal Challengers Bangalore,0,5,R Vinay Kumar,\"Rajiv Gandhi International Stadium, Uppal\",Asad Rauf,RE Koertzen,\\r\\n81,IPL-2008,Chandigarh,03-05-2008,Kings XI Punjab,Kolkata Knight Riders,Kings XI Punjab,bat,normal,0,Kings XI Punjab,9,0,IK Pathan,\"Punjab Cricket Association Stadium, Mohali\",DJ Harper,I Shivram,\\r\\n82,IPL-2008,Mumbai,04-05-2008,Mumbai Indians,Delhi Daredevils,Delhi Daredevils,field,normal,0,Mumbai Indians,29,0,SM Pollock,Dr DY Patil Sports Academy,IL Howell,RE Koertzen,\\r\\n83,IPL-2008,Jaipur,04-05-2008,Chennai Super Kings,Rajasthan Royals,Chennai Super Kings,bat,normal,0,Rajasthan Royals,0,8,Sohail Tanvir,Sawai Mansingh Stadium,Asad Rauf,AV Jayaprakash,\\r\\n84,IPL-2008,Bangalore,05-05-2008,Royal Challengers Bangalore,Kings XI Punjab,Kings XI Punjab,field,normal,0,Kings XI Punjab,0,6,S Sreesanth,M Chinnaswamy Stadium,SJ Davis,BR Doctrove,\\r\\n85,IPL-2008,Chennai,06-05-2008,Chennai Super Kings,Deccan Chargers,Deccan Chargers,field,normal,0,Deccan Chargers,0,7,AC Gilchrist,\"MA Chidambaram Stadium, Chepauk\",MR Benson,RB Tiffin,\\r\\n86,IPL-2008,Mumbai,07-05-2008,Rajasthan Royals,Mumbai Indians,Mumbai Indians,field,normal,0,Mumbai Indians,0,7,A Nehra,Dr DY Patil Sports Academy,DJ Harper,RE Koertzen,\\r\\n87,IPL-2008,Delhi,08-05-2008,Delhi Daredevils,Chennai Super Kings,Chennai Super Kings,field,normal,0,Chennai Super Kings,0,4,MS Dhoni,Feroz Shah Kotla,Aleem Dar,RB Tiffin,\\r\\n88,IPL-2008,Kolkata,08-05-2008,Kolkata Knight Riders,Royal Challengers Bangalore,Kolkata Knight Riders,bat,normal,0,Kolkata Knight Riders,5,0,SC Ganguly,Eden Gardens,Asad Rauf,IL Howell,\\r\\n89,IPL-2008,Jaipur,09-05-2008,Deccan Chargers,Rajasthan Royals,Rajasthan Royals,field,normal,0,Rajasthan Royals,0,8,YK Pathan,Sawai Mansingh Stadium,MR Benson,AM Saheba,\\r\\n90,IPL-2008,Bangalore,28-05-2008,Royal Challengers Bangalore,Mumbai Indians,Mumbai Indians,field,normal,0,Mumbai Indians,0,9,CRD Fernando,M Chinnaswamy Stadium,BF Bowden,AV Jayaprakash,\\r\\n91,IPL-2008,Chennai,10-05-2008,Chennai Super Kings,Kings XI Punjab,Kings XI Punjab,field,normal,0,Chennai Super Kings,18,0,L Balaji,\"MA Chidambaram Stadium, Chepauk\",AV Jayaprakash,BG Jerling,\\r\\n92,IPL-2008,Hyderabad,11-05-2008,Kolkata Knight Riders,Deccan Chargers,Kolkata Knight Riders,bat,normal,0,Kolkata Knight Riders,23,0,SC Ganguly,\"Rajiv Gandhi International Stadium, Uppal\",IL Howell,AM Saheba,\\r\\n93,IPL-2008,Jaipur,11-05-2008,Delhi Daredevils,Rajasthan Royals,Rajasthan Royals,field,normal,0,Rajasthan Royals,0,3,SR Watson,Sawai Mansingh Stadium,SJ Davis,RE Koertzen,\\r\\n94,IPL-2008,Chandigarh,12-05-2008,Royal Challengers Bangalore,Kings XI Punjab,Royal Challengers Bangalore,bat,normal,0,Kings XI Punjab,0,9,SE Marsh,\"Punjab Cricket Association Stadium, Mohali\",BR Doctrove,I Shivram,\\r\\n95,IPL-2008,Kolkata,13-05-2008,Kolkata Knight Riders,Delhi Daredevils,Kolkata Knight Riders,bat,normal,0,Kolkata Knight Riders,23,0,Shoaib Akhtar,Eden Gardens,Asad Rauf,IL Howell,\\r\\n96,IPL-2008,Mumbai,14-05-2008,Chennai Super Kings,Mumbai Indians,Mumbai Indians,field,normal,0,Mumbai Indians,0,9,ST Jayasuriya,Wankhede Stadium,BR Doctrove,AM Saheba,\\r\\n97,IPL-2008,Chandigarh,28-05-2008,Kings XI Punjab,Rajasthan Royals,Rajasthan Royals,field,normal,0,Kings XI Punjab,41,0,SE Marsh,\"Punjab Cricket Association Stadium, Mohali\",SJ Davis,K Hariharan,\\r\\n98,IPL-2008,Delhi,15-05-2008,Delhi Daredevils,Deccan Chargers,Deccan Chargers,field,normal,0,Delhi Daredevils,12,0,A Mishra,Feroz Shah Kotla,BG Jerling,GA Pratapkumar,\\r\\n99,IPL-2008,Mumbai,16-05-2008,Kolkata Knight Riders,Mumbai Indians,Mumbai Indians,field,normal,0,Mumbai Indians,0,8,SM Pollock,Wankhede Stadium,BR Doctrove,DJ Harper,\\r\\n100,IPL-2008,Delhi,17-05-2008,Delhi Daredevils,Kings XI Punjab,Delhi Daredevils,bat,normal,1,Kings XI Punjab,6,0,DPMD Jayawardene,Feroz Shah Kotla,AV Jayaprakash,RE Koertzen,\\r\\n101,IPL-2008,Jaipur,17-05-2008,Rajasthan Royals,Royal Challengers Bangalore,Royal Challengers Bangalore,field,normal,0,Rajasthan Royals,65,0,GC Smith,Sawai Mansingh Stadium,BF Bowden,SL Shastri,\\r\\n102,IPL-2008,Hyderabad,18-05-2008,Mumbai Indians,Deccan Chargers,Deccan Chargers,field,normal,0,Mumbai Indians,25,0,DJ Bravo,\"Rajiv Gandhi International Stadium, Uppal\",BR Doctrove,DJ Harper,\\r\\n103,IPL-2008,Kolkata,18-05-2008,Kolkata Knight Riders,Chennai Super Kings,Kolkata Knight Riders,bat,normal,1,Chennai Super Kings,3,0,M Ntini,Eden Gardens,Asad Rauf,K Hariharan,\\r\\n104,IPL-2008,Bangalore,19-05-2008,Royal Challengers Bangalore,Delhi Daredevils,Delhi Daredevils,field,normal,0,Delhi Daredevils,0,5,SP Goswami,M Chinnaswamy Stadium,SJ Davis,GA Pratapkumar,\\r\\n105,IPL-2008,Kolkata,20-05-2008,Kolkata Knight Riders,Rajasthan Royals,Rajasthan Royals,field,normal,0,Rajasthan Royals,0,6,YK Pathan,Eden Gardens,BG Jerling,RE Koertzen,\\r\\n106,IPL-2008,Mumbai,21-05-2008,Kings XI Punjab,Mumbai Indians,Mumbai Indians,field,normal,0,Kings XI Punjab,1,0,SE Marsh,Wankhede Stadium,BF Bowden,GA Pratapkumar,\\r\\n107,IPL-2008,Chennai,21-05-2008,Royal Challengers Bangalore,Chennai Super Kings,Royal Challengers Bangalore,bat,normal,0,Royal Challengers Bangalore,14,0,A Kumble,\"MA Chidambaram Stadium, Chepauk\",DJ Harper,I Shivram,\\r\\n108,IPL-2008,Chandigarh,23-05-2008,Deccan Chargers,Kings XI Punjab,Kings XI Punjab,field,normal,0,Kings XI Punjab,0,6,SE Marsh,\"Punjab Cricket Association Stadium, Mohali\",Asad Rauf,SJ Davis,\\r\\n109,IPL-2008,Delhi,24-05-2008,Mumbai Indians,Delhi Daredevils,Delhi Daredevils,field,normal,0,Delhi Daredevils,0,5,KD Karthik,Feroz Shah Kotla,BF Bowden,K Hariharan,\\r\\n110,IPL-2008,Chennai,24-05-2008,Rajasthan Royals,Chennai Super Kings,Rajasthan Royals,bat,normal,0,Rajasthan Royals,10,0,JA Morkel,\"MA Chidambaram Stadium, Chepauk\",DJ Harper,SL Shastri,\\r\\n111,IPL-2008,Bangalore,03-05-2008,Royal Challengers Bangalore,Deccan Chargers,Deccan Chargers,field,normal,0,Royal Challengers Bangalore,3,0,P Kumar,M Chinnaswamy Stadium,BR Doctrove,SL Shastri,\\r\\n112,IPL-2008,Kolkata,25-05-2008,Kings XI Punjab,Kolkata Knight Riders,Kings XI Punjab,bat,normal,0,Kolkata Knight Riders,0,3,Umar Gul,Eden Gardens,SJ Davis,I Shivram,\\r\\n113,IPL-2008,Jaipur,26-05-2008,Mumbai Indians,Rajasthan Royals,Rajasthan Royals,field,normal,0,Rajasthan Royals,0,5,Sohail Tanvir,Sawai Mansingh Stadium,BF Bowden,K Hariharan,\\r\\n114,IPL-2008,Hyderabad,27-05-2008,Deccan Chargers,Chennai Super Kings,Deccan Chargers,bat,normal,0,Chennai Super Kings,0,7,SK Raina,\"Rajiv Gandhi International Stadium, Uppal\",BG Jerling,AM Saheba,\\r\\n115,IPL-2008,Mumbai,30-05-2008,Rajasthan Royals,Delhi Daredevils,Delhi Daredevils,field,normal,0,Rajasthan Royals,105,0,SR Watson,Wankhede Stadium,BF Bowden,RE Koertzen,\\r\\n116,IPL-2008,Mumbai,31-05-2008,Kings XI Punjab,Chennai Super Kings,Kings XI Punjab,bat,normal,0,Chennai Super Kings,0,9,M Ntini,Wankhede Stadium,Asad Rauf,DJ Harper,\\r\\n117,IPL-2008,Mumbai,01-06-2008,Chennai Super Kings,Rajasthan Royals,Rajasthan Royals,field,normal,0,Rajasthan Royals,0,3,YK Pathan,Dr DY Patil Sports Academy,BF Bowden,RE Koertzen,\\r\\n118,IPL-2009,Cape Town,18-04-2009,Mumbai Indians,Chennai Super Kings,Chennai Super Kings,field,normal,0,Mumbai Indians,19,0,SR Tendulkar,Newlands,BR Doctrove,K Hariharan,\\r\\n119,IPL-2009,Cape Town,18-04-2009,Royal Challengers Bangalore,Rajasthan Royals,Royal Challengers Bangalore,bat,normal,0,Royal Challengers Bangalore,75,0,R Dravid,Newlands,BR Doctrove,RB Tiffin,\\r\\n120,IPL-2009,Cape Town,19-04-2009,Kings XI Punjab,Delhi Daredevils,Delhi Daredevils,field,normal,1,Delhi Daredevils,0,10,DL Vettori,Newlands,MR Benson,SD Ranade,\\r\\n121,IPL-2009,Cape Town,19-04-2009,Kolkata Knight Riders,Deccan Chargers,Kolkata Knight Riders,bat,normal,0,Deccan Chargers,0,8,RP Singh,Newlands,MR Benson,BR Doctrove,\\r\\n122,IPL-2009,Port Elizabeth,20-04-2009,Chennai Super Kings,Royal Challengers Bangalore,Chennai Super Kings,bat,normal,0,Chennai Super Kings,92,0,M Muralitharan,St George\\'s Park,BG Jerling,SJA Taufel,\\r\\n123,IPL-2009,Durban,21-04-2009,Kings XI Punjab,Kolkata Knight Riders,Kolkata Knight Riders,field,normal,1,Kolkata Knight Riders,11,0,CH Gayle,Kingsmead,DJ Harper,SD Ranade,\\r\\n124,IPL-2009,Cape Town,22-04-2009,Deccan Chargers,Royal Challengers Bangalore,Deccan Chargers,bat,normal,0,Deccan Chargers,24,0,AC Gilchrist,Newlands,M Erasmus,AM Saheba,\\r\\n125,IPL-2009,Durban,23-04-2009,Delhi Daredevils,Chennai Super Kings,Delhi Daredevils,bat,normal,0,Delhi Daredevils,9,0,AB de Villiers,Kingsmead,BR Doctrove,SJA Taufel,\\r\\n126,IPL-2009,Cape Town,23-04-2009,Rajasthan Royals,Kolkata Knight Riders,Kolkata Knight Riders,field,tie,0,Rajasthan Royals,0,0,YK Pathan,Newlands,MR Benson,M Erasmus,\\r\\n127,IPL-2009,Durban,24-04-2009,Royal Challengers Bangalore,Kings XI Punjab,Royal Challengers Bangalore,bat,normal,0,Kings XI Punjab,0,7,RS Bopara,Kingsmead,BR Doctrove,TH Wijewardene,\\r\\n128,IPL-2009,Durban,25-04-2009,Deccan Chargers,Mumbai Indians,Deccan Chargers,bat,normal,0,Deccan Chargers,12,0,PP Ojha,Kingsmead,HDPK Dharmasena,SJA Taufel,\\r\\n129,IPL-2009,Port Elizabeth,26-04-2009,Royal Challengers Bangalore,Delhi Daredevils,Royal Challengers Bangalore,bat,normal,0,Delhi Daredevils,0,6,TM Dilshan,St George\\'s Park,S Asnani,BG Jerling,\\r\\n130,IPL-2009,Cape Town,26-04-2009,Kings XI Punjab,Rajasthan Royals,Kings XI Punjab,bat,normal,0,Kings XI Punjab,27,0,KC Sangakkara,Newlands,M Erasmus,K Hariharan,\\r\\n131,IPL-2009,Durban,27-04-2009,Chennai Super Kings,Deccan Chargers,Deccan Chargers,field,normal,0,Deccan Chargers,0,6,HH Gibbs,Kingsmead,IL Howell,TH Wijewardene,\\r\\n132,IPL-2009,Port Elizabeth,27-04-2009,Mumbai Indians,Kolkata Knight Riders,Mumbai Indians,bat,normal,0,Mumbai Indians,92,0,SR Tendulkar,St George\\'s Park,BG Jerling,RB Tiffin,\\r\\n133,IPL-2009,Centurion,28-04-2009,Delhi Daredevils,Rajasthan Royals,Delhi Daredevils,bat,normal,0,Rajasthan Royals,0,5,YK Pathan,SuperSport Park,GAV Baxter,RE Koertzen,\\r\\n134,IPL-2009,Durban,29-04-2009,Kolkata Knight Riders,Royal Challengers Bangalore,Kolkata Knight Riders,bat,normal,0,Royal Challengers Bangalore,0,5,MV Boucher,Kingsmead,MR Benson,TH Wijewardene,\\r\\n135,IPL-2009,Durban,29-04-2009,Kings XI Punjab,Mumbai Indians,Kings XI Punjab,bat,normal,0,Kings XI Punjab,3,0,KC Sangakkara,Kingsmead,MR Benson,SL Shastri,\\r\\n136,IPL-2009,Centurion,30-04-2009,Deccan Chargers,Delhi Daredevils,Delhi Daredevils,field,normal,0,Delhi Daredevils,0,6,DP Nannes,SuperSport Park,GAV Baxter,AM Saheba,\\r\\n137,IPL-2009,Centurion,30-04-2009,Chennai Super Kings,Rajasthan Royals,Rajasthan Royals,field,normal,0,Chennai Super Kings,38,0,SK Raina,SuperSport Park,GAV Baxter,RE Koertzen,\\r\\n138,IPL-2009,East London,01-05-2009,Mumbai Indians,Kolkata Knight Riders,Mumbai Indians,bat,normal,0,Mumbai Indians,9,0,JP Duminy,Buffalo Park,M Erasmus,SK Tarapore,\\r\\n139,IPL-2009,Durban,01-05-2009,Royal Challengers Bangalore,Kings XI Punjab,Royal Challengers Bangalore,bat,normal,0,Royal Challengers Bangalore,8,0,Yuvraj Singh,Kingsmead,HDPK Dharmasena,S Ravi,\\r\\n140,IPL-2009,Port Elizabeth,02-05-2009,Deccan Chargers,Rajasthan Royals,Deccan Chargers,bat,normal,0,Rajasthan Royals,0,3,YK Pathan,St George\\'s Park,S Asnani,BG Jerling,\\r\\n141,IPL-2009,Johannesburg,02-05-2009,Chennai Super Kings,Delhi Daredevils,Delhi Daredevils,field,normal,0,Chennai Super Kings,18,0,SB Jakati,New Wanderers Stadium,DJ Harper,RE Koertzen,\\r\\n142,IPL-2009,Port Elizabeth,03-05-2009,Kolkata Knight Riders,Kings XI Punjab,Kolkata Knight Riders,bat,normal,0,Kings XI Punjab,0,6,DPMD Jayawardene,St George\\'s Park,S Asnani,MR Benson,\\r\\n143,IPL-2009,Johannesburg,03-05-2009,Mumbai Indians,Royal Challengers Bangalore,Mumbai Indians,bat,normal,0,Royal Challengers Bangalore,0,9,JH Kallis,New Wanderers Stadium,RE Koertzen,TH Wijewardene,\\r\\n144,IPL-2009,East London,04-05-2009,Chennai Super Kings,Deccan Chargers,Chennai Super Kings,bat,normal,0,Chennai Super Kings,78,0,MS Dhoni,Buffalo Park,BR Doctrove,M Erasmus,\\r\\n145,IPL-2009,Durban,05-05-2009,Rajasthan Royals,Kings XI Punjab,Kings XI Punjab,field,normal,0,Rajasthan Royals,78,0,GC Smith,Kingsmead,SS Hazare,IL Howell,\\r\\n146,IPL-2009,Durban,05-05-2009,Kolkata Knight Riders,Delhi Daredevils,Kolkata Knight Riders,bat,normal,0,Delhi Daredevils,0,9,G Gambhir,Kingsmead,GAV Baxter,IL Howell,\\r\\n147,IPL-2009,Centurion,06-05-2009,Deccan Chargers,Mumbai Indians,Deccan Chargers,bat,normal,0,Deccan Chargers,19,0,RG Sharma,SuperSport Park,MR Benson,HDPK Dharmasena,\\r\\n148,IPL-2009,Centurion,07-05-2009,Royal Challengers Bangalore,Rajasthan Royals,Rajasthan Royals,field,normal,0,Rajasthan Royals,0,7,A Singh,SuperSport Park,K Hariharan,DJ Harper,\\r\\n149,IPL-2009,Centurion,07-05-2009,Chennai Super Kings,Kings XI Punjab,Chennai Super Kings,bat,normal,1,Chennai Super Kings,12,0,ML Hayden,SuperSport Park,DJ Harper,TH Wijewardene,\\r\\n150,IPL-2009,East London,08-05-2009,Mumbai Indians,Delhi Daredevils,Mumbai Indians,bat,normal,0,Delhi Daredevils,0,7,A Nehra,Buffalo Park,M Erasmus,SK Tarapore,\\r\\n151,IPL-2009,Kimberley,09-05-2009,Deccan Chargers,Kings XI Punjab,Kings XI Punjab,field,normal,0,Kings XI Punjab,0,3,DPMD Jayawardene,De Beers Diamond Oval,GAV Baxter,AM Saheba,\\r\\n152,IPL-2009,Kimberley,09-05-2009,Rajasthan Royals,Chennai Super Kings,Rajasthan Royals,bat,normal,0,Chennai Super Kings,0,7,S Badrinath,De Beers Diamond Oval,GAV Baxter,HDPK Dharmasena,\\r\\n153,IPL-2009,Port Elizabeth,10-05-2009,Mumbai Indians,Royal Challengers Bangalore,Mumbai Indians,bat,normal,0,Mumbai Indians,16,0,JP Duminy,St George\\'s Park,BR Doctrove,BG Jerling,\\r\\n154,IPL-2009,Johannesburg,10-05-2009,Kolkata Knight Riders,Delhi Daredevils,Delhi Daredevils,field,normal,0,Delhi Daredevils,0,7,A Mishra,New Wanderers Stadium,SL Shastri,RB Tiffin,\\r\\n155,IPL-2009,Kimberley,11-05-2009,Deccan Chargers,Rajasthan Royals,Deccan Chargers,bat,normal,0,Deccan Chargers,53,0,DR Smith,De Beers Diamond Oval,GAV Baxter,HDPK Dharmasena,\\r\\n156,IPL-2009,Centurion,12-05-2009,Kolkata Knight Riders,Royal Challengers Bangalore,Royal Challengers Bangalore,field,normal,0,Royal Challengers Bangalore,0,6,LRPL Taylor,SuperSport Park,M Erasmus,SS Hazare,\\r\\n157,IPL-2009,Centurion,12-05-2009,Kings XI Punjab,Mumbai Indians,Kings XI Punjab,bat,normal,0,Mumbai Indians,0,8,Harbhajan Singh,SuperSport Park,SS Hazare,RE Koertzen,\\r\\n158,IPL-2009,Durban,13-05-2009,Delhi Daredevils,Deccan Chargers,Deccan Chargers,field,normal,0,Delhi Daredevils,12,0,R Bhatia,Kingsmead,DJ Harper,SL Shastri,\\r\\n159,IPL-2009,Durban,14-05-2009,Chennai Super Kings,Royal Challengers Bangalore,Chennai Super Kings,bat,normal,0,Royal Challengers Bangalore,0,2,LRPL Taylor,Kingsmead,BR Doctrove,DJ Harper,\\r\\n160,IPL-2009,Durban,14-05-2009,Rajasthan Royals,Mumbai Indians,Rajasthan Royals,bat,normal,0,Rajasthan Royals,2,0,SK Warne,Kingsmead,BR Doctrove,DJ Harper,\\r\\n161,IPL-2009,Bloemfontein,15-05-2009,Delhi Daredevils,Kings XI Punjab,Kings XI Punjab,field,normal,0,Kings XI Punjab,0,6,B Lee,OUTsurance Oval,HDPK Dharmasena,IL Howell,\\r\\n162,IPL-2009,Port Elizabeth,16-05-2009,Mumbai Indians,Chennai Super Kings,Mumbai Indians,bat,normal,0,Chennai Super Kings,0,7,ML Hayden,St George\\'s Park,SK Tarapore,SJA Taufel,\\r\\n163,IPL-2009,Johannesburg,16-05-2009,Kolkata Knight Riders,Deccan Chargers,Deccan Chargers,field,normal,0,Deccan Chargers,0,6,RG Sharma,New Wanderers Stadium,RE Koertzen,S Ravi,\\r\\n164,IPL-2009,Johannesburg,17-05-2009,Kings XI Punjab,Deccan Chargers,Deccan Chargers,field,normal,0,Kings XI Punjab,1,0,Yuvraj Singh,New Wanderers Stadium,S Ravi,RB Tiffin,\\r\\n165,IPL-2009,Bloemfontein,17-05-2009,Delhi Daredevils,Rajasthan Royals,Delhi Daredevils,bat,normal,0,Delhi Daredevils,14,0,AB de Villiers,OUTsurance Oval,SS Hazare,IL Howell,\\r\\n166,IPL-2009,Centurion,18-05-2009,Chennai Super Kings,Kolkata Knight Riders,Chennai Super Kings,bat,normal,0,Kolkata Knight Riders,0,7,BJ Hodge,SuperSport Park,SJA Taufel,RB Tiffin,\\r\\n167,IPL-2009,Johannesburg,19-05-2009,Delhi Daredevils,Royal Challengers Bangalore,Delhi Daredevils,bat,normal,0,Royal Challengers Bangalore,0,7,JH Kallis,New Wanderers Stadium,IL Howell,RB Tiffin,\\r\\n168,IPL-2009,Durban,20-05-2009,Rajasthan Royals,Kolkata Knight Riders,Kolkata Knight Riders,field,normal,0,Kolkata Knight Riders,0,4,LR Shukla,Kingsmead,BG Jerling,SJA Taufel,\\r\\n169,IPL-2009,Durban,20-05-2009,Chennai Super Kings,Kings XI Punjab,Chennai Super Kings,bat,normal,0,Chennai Super Kings,24,0,M Muralitharan,Kingsmead,BG Jerling,SJA Taufel,\\r\\n170,IPL-2009,Centurion,21-05-2009,Mumbai Indians,Delhi Daredevils,Delhi Daredevils,field,normal,0,Delhi Daredevils,0,4,V Sehwag,SuperSport Park,IL Howell,S Ravi,\\r\\n171,IPL-2009,Centurion,21-05-2009,Royal Challengers Bangalore,Deccan Chargers,Royal Challengers Bangalore,bat,normal,0,Royal Challengers Bangalore,12,0,MK Pandey,SuperSport Park,IL Howell,S Ravi,\\r\\n172,IPL-2009,Centurion,22-05-2009,Delhi Daredevils,Deccan Chargers,Deccan Chargers,field,normal,0,Deccan Chargers,0,6,AC Gilchrist,SuperSport Park,BR Doctrove,DJ Harper,\\r\\n173,IPL-2009,Johannesburg,23-05-2009,Chennai Super Kings,Royal Challengers Bangalore,Royal Challengers Bangalore,field,normal,0,Royal Challengers Bangalore,0,6,MK Pandey,New Wanderers Stadium,RE Koertzen,SJA Taufel,\\r\\n174,IPL-2009,Johannesburg,24-05-2009,Deccan Chargers,Royal Challengers Bangalore,Royal Challengers Bangalore,field,normal,0,Deccan Chargers,6,0,A Kumble,New Wanderers Stadium,RE Koertzen,SJA Taufel,\\r\\n175,IPL-2010,Mumbai,12-03-2010,Kolkata Knight Riders,Deccan Chargers,Deccan Chargers,field,normal,0,Kolkata Knight Riders,11,0,AD Mathews,Dr DY Patil Sports Academy,RE Koertzen,RB Tiffin,\\r\\n176,IPL-2010,Mumbai,13-03-2010,Mumbai Indians,Rajasthan Royals,Mumbai Indians,bat,normal,0,Mumbai Indians,4,0,YK Pathan,Brabourne Stadium,RE Koertzen,RB Tiffin,\\r\\n177,IPL-2010,Chandigarh,13-03-2010,Kings XI Punjab,Delhi Daredevils,Delhi Daredevils,field,normal,0,Delhi Daredevils,0,5,G Gambhir,\"Punjab Cricket Association Stadium, Mohali\",BR Doctrove,S Ravi,\\r\\n178,IPL-2010,Kolkata,14-03-2010,Royal Challengers Bangalore,Kolkata Knight Riders,Kolkata Knight Riders,field,normal,0,Kolkata Knight Riders,0,7,MK Tiwary,Eden Gardens,HDPK Dharmasena,AM Saheba,\\r\\n179,IPL-2010,Chennai,14-03-2010,Deccan Chargers,Chennai Super Kings,Deccan Chargers,bat,normal,0,Deccan Chargers,31,0,WPUJC Vaas,\"MA Chidambaram Stadium, Chepauk\",K Hariharan,DJ Harper,\\r\\n180,IPL-2010,Ahmedabad,15-03-2010,Rajasthan Royals,Delhi Daredevils,Delhi Daredevils,field,normal,0,Delhi Daredevils,0,6,V Sehwag,\"Sardar Patel Stadium, Motera\",BG Jerling,RE Koertzen,\\r\\n181,IPL-2010,Bangalore,16-03-2010,Kings XI Punjab,Royal Challengers Bangalore,Kings XI Punjab,bat,normal,0,Royal Challengers Bangalore,0,8,JH Kallis,M Chinnaswamy Stadium,S Das,DJ Harper,\\r\\n182,IPL-2010,Kolkata,16-03-2010,Chennai Super Kings,Kolkata Knight Riders,Chennai Super Kings,bat,normal,0,Chennai Super Kings,55,0,MS Dhoni,Eden Gardens,HDPK Dharmasena,AM Saheba,\\r\\n183,IPL-2010,Delhi,17-03-2010,Mumbai Indians,Delhi Daredevils,Delhi Daredevils,field,normal,0,Mumbai Indians,98,0,SR Tendulkar,Feroz Shah Kotla,BR Doctrove,SK Tarapore,\\r\\n184,IPL-2010,Bangalore,18-03-2010,Rajasthan Royals,Royal Challengers Bangalore,Royal Challengers Bangalore,field,normal,0,Royal Challengers Bangalore,0,10,JH Kallis,M Chinnaswamy Stadium,K Hariharan,DJ Harper,\\r\\n185,IPL-2010,Delhi,19-03-2010,Delhi Daredevils,Chennai Super Kings,Delhi Daredevils,bat,normal,0,Chennai Super Kings,0,5,ML Hayden,Feroz Shah Kotla,BR Doctrove,SK Tarapore,\\r\\n186,IPL-2010,Cuttack,19-03-2010,Deccan Chargers,Kings XI Punjab,Kings XI Punjab,field,normal,0,Deccan Chargers,6,0,A Symonds,Barabati Stadium,BF Bowden,M Erasmus,\\r\\n187,IPL-2010,Ahmedabad,20-03-2010,Rajasthan Royals,Kolkata Knight Riders,Rajasthan Royals,bat,normal,0,Rajasthan Royals,34,0,AA Jhunjhunwala,\"Sardar Patel Stadium, Motera\",RE Koertzen,RB Tiffin,\\r\\n188,IPL-2010,Mumbai,20-03-2010,Mumbai Indians,Royal Challengers Bangalore,Mumbai Indians,bat,normal,0,Royal Challengers Bangalore,0,7,JH Kallis,Brabourne Stadium,HDPK Dharmasena,SS Hazare,\\r\\n189,IPL-2010,Cuttack,21-03-2010,Deccan Chargers,Delhi Daredevils,Deccan Chargers,bat,normal,0,Deccan Chargers,10,0,A Symonds,Barabati Stadium,BF Bowden,M Erasmus,\\r\\n190,IPL-2010,Chennai,21-03-2010,Kings XI Punjab,Chennai Super Kings,Chennai Super Kings,field,tie,0,Kings XI Punjab,0,0,J Theron,\"MA Chidambaram Stadium, Chepauk\",K Hariharan,DJ Harper,\\r\\n191,IPL-2010,Mumbai,22-03-2010,Kolkata Knight Riders,Mumbai Indians,Kolkata Knight Riders,bat,normal,0,Mumbai Indians,0,7,SR Tendulkar,Brabourne Stadium,SS Hazare,SJA Taufel,\\r\\n192,IPL-2010,Bangalore,23-03-2010,Royal Challengers Bangalore,Chennai Super Kings,Chennai Super Kings,field,normal,0,Royal Challengers Bangalore,36,0,RV Uthappa,M Chinnaswamy Stadium,RE Koertzen,RB Tiffin,\\r\\n193,IPL-2010,Chandigarh,24-03-2010,Rajasthan Royals,Kings XI Punjab,Kings XI Punjab,field,normal,0,Rajasthan Royals,31,0,AC Voges,\"Punjab Cricket Association Stadium, Mohali\",BR Doctrove,SK Tarapore,\\r\\n194,IPL-2010,Mumbai,25-03-2010,Chennai Super Kings,Mumbai Indians,Mumbai Indians,field,normal,0,Mumbai Indians,0,5,SR Tendulkar,Brabourne Stadium,BF Bowden,AM Saheba,\\r\\n195,IPL-2010,Ahmedabad,26-03-2010,Deccan Chargers,Rajasthan Royals,Deccan Chargers,bat,normal,0,Rajasthan Royals,0,8,YK Pathan,\"Sardar Patel Stadium, Motera\",HDPK Dharmasena,SJA Taufel,\\r\\n196,IPL-2010,Chandigarh,27-03-2010,Kolkata Knight Riders,Kings XI Punjab,Kolkata Knight Riders,bat,normal,0,Kolkata Knight Riders,39,0,MK Tiwary,\"Punjab Cricket Association Stadium, Mohali\",BR Doctrove,S Ravi,\\r\\n197,IPL-2010,Bangalore,25-03-2010,Delhi Daredevils,Royal Challengers Bangalore,Royal Challengers Bangalore,field,normal,0,Delhi Daredevils,17,0,KM Jadhav,M Chinnaswamy Stadium,BG Jerling,RE Koertzen,\\r\\n198,IPL-2010,Ahmedabad,28-03-2010,Rajasthan Royals,Chennai Super Kings,Rajasthan Royals,bat,normal,0,Rajasthan Royals,17,0,NV Ojha,\"Sardar Patel Stadium, Motera\",SS Hazare,SJA Taufel,\\r\\n199,IPL-2010,Mumbai,28-03-2010,Mumbai Indians,Deccan Chargers,Deccan Chargers,field,normal,0,Mumbai Indians,41,0,Harbhajan Singh,Dr DY Patil Sports Academy,S Das,K Hariharan,\\r\\n200,IPL-2010,Delhi,29-03-2010,Delhi Daredevils,Kolkata Knight Riders,Delhi Daredevils,bat,normal,0,Delhi Daredevils,40,0,DA Warner,Feroz Shah Kotla,SS Hazare,SJA Taufel,\\r\\n201,IPL-2010,Mumbai,30-03-2010,Kings XI Punjab,Mumbai Indians,Mumbai Indians,field,normal,0,Mumbai Indians,0,4,SL Malinga,Brabourne Stadium,BR Doctrove,SK Tarapore,\\r\\n202,IPL-2010,Chennai,31-03-2010,Royal Challengers Bangalore,Chennai Super Kings,Royal Challengers Bangalore,bat,normal,0,Chennai Super Kings,0,5,M Vijay,\"MA Chidambaram Stadium, Chepauk\",BG Jerling,RE Koertzen,\\r\\n203,IPL-2010,Delhi,31-03-2010,Delhi Daredevils,Rajasthan Royals,Delhi Daredevils,bat,normal,0,Delhi Daredevils,67,0,KD Karthik,Feroz Shah Kotla,HDPK Dharmasena,SJA Taufel,\\r\\n204,IPL-2010,Kolkata,01-04-2010,Kolkata Knight Riders,Deccan Chargers,Kolkata Knight Riders,bat,normal,0,Kolkata Knight Riders,24,0,SC Ganguly,Eden Gardens,K Hariharan,DJ Harper,\\r\\n205,IPL-2010,Chandigarh,02-04-2010,Kings XI Punjab,Royal Challengers Bangalore,Kings XI Punjab,bat,normal,0,Royal Challengers Bangalore,0,6,KP Pietersen,\"Punjab Cricket Association Stadium, Mohali\",BF Bowden,M Erasmus,\\r\\n206,IPL-2010,Chennai,03-04-2010,Chennai Super Kings,Rajasthan Royals,Chennai Super Kings,bat,normal,0,Chennai Super Kings,23,0,M Vijay,\"MA Chidambaram Stadium, Chepauk\",RE Koertzen,RB Tiffin,\\r\\n207,IPL-2010,Mumbai,03-04-2010,Mumbai Indians,Deccan Chargers,Mumbai Indians,bat,normal,0,Mumbai Indians,63,0,AT Rayudu,Brabourne Stadium,BR Doctrove,S Ravi,\\r\\n208,IPL-2010,Kolkata,04-04-2010,Kolkata Knight Riders,Kings XI Punjab,Kolkata Knight Riders,bat,normal,0,Kings XI Punjab,0,8,DPMD Jayawardene,Eden Gardens,S Asnani,DJ Harper,\\r\\n209,IPL-2010,Delhi,04-04-2010,Delhi Daredevils,Royal Challengers Bangalore,Delhi Daredevils,bat,normal,0,Delhi Daredevils,37,0,PD Collingwood,Feroz Shah Kotla,BF Bowden,M Erasmus,\\r\\n210,IPL-2010,Nagpur,05-04-2010,Rajasthan Royals,Deccan Chargers,Rajasthan Royals,bat,normal,0,Rajasthan Royals,2,0,SK Warne,\"Vidarbha Cricket Association Stadium, Jamtha\",HDPK Dharmasena,SJA Taufel,\\r\\n211,IPL-2010,Chennai,06-04-2010,Chennai Super Kings,Mumbai Indians,Chennai Super Kings,bat,normal,0,Chennai Super Kings,24,0,SK Raina,\"MA Chidambaram Stadium, Chepauk\",S Asnani,DJ Harper,\\r\\n212,IPL-2010,Jaipur,07-04-2010,Kings XI Punjab,Rajasthan Royals,Kings XI Punjab,bat,normal,0,Rajasthan Royals,0,9,MJ Lumb,Sawai Mansingh Stadium,S Ravi,SK Tarapore,\\r\\n213,IPL-2010,Kolkata,07-04-2010,Kolkata Knight Riders,Delhi Daredevils,Kolkata Knight Riders,bat,normal,0,Kolkata Knight Riders,14,0,SC Ganguly,Eden Gardens,BG Jerling,RE Koertzen,\\r\\n214,IPL-2010,Bangalore,08-04-2010,Royal Challengers Bangalore,Deccan Chargers,Deccan Chargers,field,normal,0,Deccan Chargers,0,7,TL Suman,M Chinnaswamy Stadium,S Asnani,DJ Harper,\\r\\n215,IPL-2010,Chandigarh,09-04-2010,Mumbai Indians,Kings XI Punjab,Mumbai Indians,bat,normal,0,Kings XI Punjab,0,6,KC Sangakkara,\"Punjab Cricket Association Stadium, Mohali\",M Erasmus,AM Saheba,\\r\\n216,IPL-2010,Nagpur,10-04-2010,Chennai Super Kings,Deccan Chargers,Chennai Super Kings,bat,normal,0,Deccan Chargers,0,6,RJ Harris,\"Vidarbha Cricket Association Stadium, Jamtha\",HDPK Dharmasena,SJA Taufel,\\r\\n217,IPL-2010,Bangalore,10-04-2010,Kolkata Knight Riders,Royal Challengers Bangalore,Royal Challengers Bangalore,field,normal,0,Royal Challengers Bangalore,0,7,R Vinay Kumar,M Chinnaswamy Stadium,K Hariharan,DJ Harper,\\r\\n218,IPL-2010,Delhi,11-04-2010,Delhi Daredevils,Kings XI Punjab,Delhi Daredevils,bat,normal,0,Kings XI Punjab,0,7,PP Chawla,Feroz Shah Kotla,BF Bowden,AM Saheba,\\r\\n219,IPL-2010,Jaipur,11-04-2010,Mumbai Indians,Rajasthan Royals,Rajasthan Royals,field,normal,0,Mumbai Indians,37,0,SR Tendulkar,Sawai Mansingh Stadium,BR Doctrove,SK Tarapore,\\r\\n220,IPL-2010,Nagpur,12-04-2010,Deccan Chargers,Royal Challengers Bangalore,Royal Challengers Bangalore,field,normal,0,Deccan Chargers,13,0,Harmeet Singh,\"Vidarbha Cricket Association Stadium, Jamtha\",RE Koertzen,RB Tiffin,\\r\\n221,IPL-2010,Mumbai,13-04-2010,Mumbai Indians,Delhi Daredevils,Mumbai Indians,bat,normal,0,Mumbai Indians,39,0,KA Pollard,Brabourne Stadium,S Asnani,DJ Harper,\\r\\n222,IPL-2010,Chennai,13-04-2010,Kolkata Knight Riders,Chennai Super Kings,Kolkata Knight Riders,bat,normal,0,Chennai Super Kings,0,9,R Ashwin,\"MA Chidambaram Stadium, Chepauk\",SS Hazare,SJA Taufel,\\r\\n223,IPL-2010,Jaipur,14-04-2010,Rajasthan Royals,Royal Challengers Bangalore,Rajasthan Royals,bat,normal,0,Royal Challengers Bangalore,0,5,KP Pietersen,Sawai Mansingh Stadium,BR Doctrove,S Ravi,\\r\\n224,IPL-2010,Chennai,15-04-2010,Chennai Super Kings,Delhi Daredevils,Chennai Super Kings,bat,normal,0,Delhi Daredevils,0,6,G Gambhir,\"MA Chidambaram Stadium, Chepauk\",HDPK Dharmasena,SS Hazare,\\r\\n225,IPL-2010,Dharamsala,16-04-2010,Kings XI Punjab,Deccan Chargers,Deccan Chargers,field,normal,0,Deccan Chargers,0,5,RG Sharma,Himachal Pradesh Cricket Association Stadium,M Erasmus,AM Saheba,\\r\\n226,IPL-2010,Bangalore,17-04-2010,Mumbai Indians,Royal Challengers Bangalore,Royal Challengers Bangalore,field,normal,0,Mumbai Indians,57,0,R McLaren,M Chinnaswamy Stadium,HDPK Dharmasena,SJA Taufel,\\r\\n227,IPL-2010,Kolkata,17-04-2010,Rajasthan Royals,Kolkata Knight Riders,Rajasthan Royals,bat,normal,0,Kolkata Knight Riders,0,8,JD Unadkat,Eden Gardens,BG Jerling,RB Tiffin,\\r\\n228,IPL-2010,Dharamsala,18-04-2010,Kings XI Punjab,Chennai Super Kings,Chennai Super Kings,field,normal,0,Chennai Super Kings,0,6,MS Dhoni,Himachal Pradesh Cricket Association Stadium,BF Bowden,AM Saheba,\\r\\n229,IPL-2010,Delhi,18-04-2010,Deccan Chargers,Delhi Daredevils,Deccan Chargers,bat,normal,0,Deccan Chargers,11,0,A Symonds,Feroz Shah Kotla,BR Doctrove,SK Tarapore,\\r\\n230,IPL-2010,Kolkata,19-04-2010,Mumbai Indians,Kolkata Knight Riders,Mumbai Indians,bat,normal,0,Kolkata Knight Riders,0,9,M Kartik,Eden Gardens,BG Jerling,RE Koertzen,\\r\\n231,IPL-2010,Mumbai,21-04-2010,Mumbai Indians,Royal Challengers Bangalore,Mumbai Indians,bat,normal,0,Mumbai Indians,35,0,KA Pollard,Dr DY Patil Sports Academy,BR Doctrove,RB Tiffin,\\r\\n232,IPL-2010,Mumbai,22-04-2010,Chennai Super Kings,Deccan Chargers,Chennai Super Kings,bat,normal,0,Chennai Super Kings,38,0,DE Bollinger,Dr DY Patil Sports Academy,BR Doctrove,RB Tiffin,\\r\\n233,IPL-2010,Mumbai,24-04-2010,Deccan Chargers,Royal Challengers Bangalore,Deccan Chargers,bat,normal,0,Royal Challengers Bangalore,0,9,A Kumble,Dr DY Patil Sports Academy,RE Koertzen,SJA Taufel,\\r\\n234,IPL-2010,Mumbai,25-04-2010,Chennai Super Kings,Mumbai Indians,Chennai Super Kings,bat,normal,0,Chennai Super Kings,22,0,SK Raina,Dr DY Patil Sports Academy,RE Koertzen,SJA Taufel,\\r\\n235,IPL-2011,Chennai,08-04-2011,Chennai Super Kings,Kolkata Knight Riders,Chennai Super Kings,bat,normal,0,Chennai Super Kings,2,0,S Anirudha,\"MA Chidambaram Stadium, Chepauk\",BR Doctrove,PR Reiffel,\\r\\n236,IPL-2011,Hyderabad,09-04-2011,Deccan Chargers,Rajasthan Royals,Rajasthan Royals,field,normal,0,Rajasthan Royals,0,8,SK Trivedi,\"Rajiv Gandhi International Stadium, Uppal\",RE Koertzen,SK Tarapore,\\r\\n237,IPL-2011,Kochi,09-04-2011,Kochi Tuskers Kerala,Royal Challengers Bangalore,Kochi Tuskers Kerala,bat,normal,0,Royal Challengers Bangalore,0,6,AB de Villiers,Nehru Stadium,HDPK Dharmasena,K Hariharan,\\r\\n238,IPL-2011,Delhi,10-04-2011,Delhi Daredevils,Mumbai Indians,Delhi Daredevils,bat,normal,0,Mumbai Indians,0,8,SL Malinga,Feroz Shah Kotla,AM Saheba,RB Tiffin,\\r\\n239,IPL-2011,Mumbai,10-04-2011,Kings XI Punjab,Pune Warriors,Kings XI Punjab,bat,normal,0,Pune Warriors,0,7,SB Wagh,Dr DY Patil Sports Academy,BR Doctrove,PR Reiffel,\\r\\n240,IPL-2011,Kolkata,11-04-2011,Kolkata Knight Riders,Deccan Chargers,Kolkata Knight Riders,bat,normal,0,Kolkata Knight Riders,9,0,JH Kallis,Eden Gardens,RE Koertzen,SK Tarapore,\\r\\n241,IPL-2011,Jaipur,12-04-2011,Delhi Daredevils,Rajasthan Royals,Delhi Daredevils,bat,normal,0,Rajasthan Royals,0,6,SK Warne,Sawai Mansingh Stadium,Aleem Dar,RB Tiffin,\\r\\n242,IPL-2011,Bangalore,12-04-2011,Royal Challengers Bangalore,Mumbai Indians,Mumbai Indians,field,normal,0,Mumbai Indians,0,9,SR Tendulkar,M Chinnaswamy Stadium,HDPK Dharmasena,AL Hill,\\r\\n243,IPL-2011,Chandigarh,13-04-2011,Chennai Super Kings,Kings XI Punjab,Kings XI Punjab,field,normal,0,Kings XI Punjab,0,6,PC Valthaty,\"Punjab Cricket Association Stadium, Mohali\",Asad Rauf,SL Shastri,\\r\\n244,IPL-2011,Mumbai,13-04-2011,Kochi Tuskers Kerala,Pune Warriors,Kochi Tuskers Kerala,bat,normal,0,Pune Warriors,0,4,MD Mishra,Dr DY Patil Sports Academy,S Asnani,PR Reiffel,\\r\\n245,IPL-2011,Hyderabad,14-04-2011,Deccan Chargers,Royal Challengers Bangalore,Royal Challengers Bangalore,field,normal,0,Deccan Chargers,33,0,DW Steyn,\"Rajiv Gandhi International Stadium, Uppal\",RE Koertzen,S Ravi,\\r\\n246,IPL-2011,Jaipur,15-04-2011,Rajasthan Royals,Kolkata Knight Riders,Kolkata Knight Riders,field,normal,0,Kolkata Knight Riders,0,9,G Gambhir,Sawai Mansingh Stadium,Aleem Dar,SS Hazare,\\r\\n247,IPL-2011,Mumbai,15-04-2011,Mumbai Indians,Kochi Tuskers Kerala,Kochi Tuskers Kerala,field,normal,0,Kochi Tuskers Kerala,0,8,BB McCullum,Wankhede Stadium,BR Doctrove,PR Reiffel,\\r\\n248,IPL-2011,Chennai,16-04-2011,Chennai Super Kings,Royal Challengers Bangalore,Chennai Super Kings,bat,normal,0,Chennai Super Kings,21,0,MEK Hussey,\"MA Chidambaram Stadium, Chepauk\",HDPK Dharmasena,AL Hill,\\r\\n249,IPL-2011,Hyderabad,16-04-2011,Deccan Chargers,Kings XI Punjab,Kings XI Punjab,field,normal,0,Kings XI Punjab,0,8,PC Valthaty,\"Rajiv Gandhi International Stadium, Uppal\",RE Koertzen,S Ravi,\\r\\n250,IPL-2011,Mumbai,17-04-2011,Pune Warriors,Delhi Daredevils,Delhi Daredevils,field,normal,0,Delhi Daredevils,0,3,Yuvraj Singh,Dr DY Patil Sports Academy,Asad Rauf,AM Saheba,\\r\\n251,IPL-2011,Kolkata,17-04-2011,Rajasthan Royals,Kolkata Knight Riders,Kolkata Knight Riders,field,normal,0,Kolkata Knight Riders,0,8,L Balaji,Eden Gardens,Aleem Dar,RB Tiffin,\\r\\n252,IPL-2011,Kochi,18-04-2011,Chennai Super Kings,Kochi Tuskers Kerala,Kochi Tuskers Kerala,field,normal,1,Kochi Tuskers Kerala,0,7,BB McCullum,Nehru Stadium,K Hariharan,AL Hill,\\r\\n253,IPL-2011,Delhi,19-04-2011,Deccan Chargers,Delhi Daredevils,Deccan Chargers,bat,normal,0,Deccan Chargers,16,0,S Sohal,Feroz Shah Kotla,PR Reiffel,RJ Tucker,\\r\\n254,IPL-2011,Mumbai,20-04-2011,Pune Warriors,Mumbai Indians,Pune Warriors,bat,normal,0,Mumbai Indians,0,7,MM Patel,Wankhede Stadium,Asad Rauf,AM Saheba,\\r\\n255,IPL-2011,Kolkata,20-04-2011,Kochi Tuskers Kerala,Kolkata Knight Riders,Kolkata Knight Riders,field,normal,0,Kochi Tuskers Kerala,6,0,DPMD Jayawardene,Eden Gardens,Aleem Dar,RB Tiffin,\\r\\n256,IPL-2011,Chandigarh,21-04-2011,Kings XI Punjab,Rajasthan Royals,Rajasthan Royals,field,normal,0,Kings XI Punjab,48,0,SE Marsh,\"Punjab Cricket Association Stadium, Mohali\",S Asnani,PR Reiffel,\\r\\n257,IPL-2011,Mumbai,22-04-2011,Mumbai Indians,Chennai Super Kings,Chennai Super Kings,field,normal,0,Mumbai Indians,8,0,Harbhajan Singh,Wankhede Stadium,Asad Rauf,AM Saheba,\\r\\n258,IPL-2011,Kolkata,22-04-2011,Kolkata Knight Riders,Royal Challengers Bangalore,Royal Challengers Bangalore,field,normal,0,Royal Challengers Bangalore,0,9,CH Gayle,Eden Gardens,SS Hazare,RB Tiffin,\\r\\n259,IPL-2011,Delhi,23-04-2011,Delhi Daredevils,Kings XI Punjab,Kings XI Punjab,field,normal,0,Delhi Daredevils,29,0,DA Warner,Feroz Shah Kotla,S Asnani,RE Koertzen,\\r\\n260,IPL-2011,Hyderabad,24-04-2011,Mumbai Indians,Deccan Chargers,Deccan Chargers,field,normal,0,Mumbai Indians,37,0,SL Malinga,\"Rajiv Gandhi International Stadium, Uppal\",HDPK Dharmasena,AL Hill,\\r\\n261,IPL-2011,Jaipur,24-04-2011,Kochi Tuskers Kerala,Rajasthan Royals,Rajasthan Royals,field,normal,0,Rajasthan Royals,0,8,SK Warne,Sawai Mansingh Stadium,BR Doctrove,SK Tarapore,\\r\\n262,IPL-2011,Chennai,25-04-2011,Chennai Super Kings,Pune Warriors,Pune Warriors,field,normal,0,Chennai Super Kings,25,0,MEK Hussey,\"MA Chidambaram Stadium, Chepauk\",Aleem Dar,RB Tiffin,\\r\\n263,IPL-2011,Delhi,26-04-2011,Delhi Daredevils,Royal Challengers Bangalore,Royal Challengers Bangalore,field,normal,0,Royal Challengers Bangalore,0,3,V Kohli,Feroz Shah Kotla,S Asnani,RJ Tucker,\\r\\n264,IPL-2011,Mumbai,27-04-2011,Pune Warriors,Chennai Super Kings,Pune Warriors,bat,normal,0,Chennai Super Kings,0,8,DE Bollinger,Dr DY Patil Sports Academy,Asad Rauf,SL Shastri,\\r\\n265,IPL-2011,Kochi,27-04-2011,Deccan Chargers,Kochi Tuskers Kerala,Kochi Tuskers Kerala,field,normal,0,Deccan Chargers,55,0,I Sharma,Nehru Stadium,HDPK Dharmasena,AL Hill,\\r\\n266,IPL-2011,Delhi,28-04-2011,Kolkata Knight Riders,Delhi Daredevils,Delhi Daredevils,field,normal,0,Kolkata Knight Riders,17,0,MK Tiwary,Feroz Shah Kotla,PR Reiffel,RJ Tucker,\\r\\n267,IPL-2011,Jaipur,29-04-2011,Mumbai Indians,Rajasthan Royals,Rajasthan Royals,field,normal,0,Rajasthan Royals,0,7,J Botha,Sawai Mansingh Stadium,Asad Rauf,SK Tarapore,\\r\\n268,IPL-2011,Bangalore,29-04-2011,Royal Challengers Bangalore,Pune Warriors,Pune Warriors,field,normal,0,Royal Challengers Bangalore,26,0,V Kohli,M Chinnaswamy Stadium,Aleem Dar,SS Hazare,\\r\\n269,IPL-2011,Kochi,30-04-2011,Delhi Daredevils,Kochi Tuskers Kerala,Delhi Daredevils,bat,normal,0,Delhi Daredevils,38,0,V Sehwag,Nehru Stadium,HDPK Dharmasena,AL Hill,\\r\\n270,IPL-2011,Kolkata,30-04-2011,Kings XI Punjab,Kolkata Knight Riders,Kolkata Knight Riders,field,normal,0,Kolkata Knight Riders,0,8,Iqbal Abdulla,Eden Gardens,AM Saheba,SL Shastri,\\r\\n271,IPL-2011,Jaipur,01-05-2011,Pune Warriors,Rajasthan Royals,Rajasthan Royals,field,normal,0,Rajasthan Royals,0,6,LRPL Taylor,Sawai Mansingh Stadium,SK Tarapore,SJA Taufel,\\r\\n272,IPL-2011,Chennai,01-05-2011,Chennai Super Kings,Deccan Chargers,Chennai Super Kings,bat,normal,0,Chennai Super Kings,19,0,JA Morkel,\"MA Chidambaram Stadium, Chepauk\",Aleem Dar,RB Tiffin,\\r\\n273,IPL-2011,Mumbai,02-05-2011,Mumbai Indians,Kings XI Punjab,Kings XI Punjab,field,normal,0,Mumbai Indians,23,0,KA Pollard,Wankhede Stadium,HDPK Dharmasena,PR Reiffel,\\r\\n274,IPL-2011,Delhi,02-05-2011,Delhi Daredevils,Kochi Tuskers Kerala,Kochi Tuskers Kerala,field,normal,0,Kochi Tuskers Kerala,0,7,P Parameswaran,Feroz Shah Kotla,Asad Rauf,SL Shastri,\\r\\n275,IPL-2011,Hyderabad,03-05-2011,Kolkata Knight Riders,Deccan Chargers,Deccan Chargers,field,normal,0,Kolkata Knight Riders,20,0,YK Pathan,\"Rajiv Gandhi International Stadium, Uppal\",S Asnani,RJ Tucker,\\r\\n276,IPL-2011,Chennai,04-05-2011,Rajasthan Royals,Chennai Super Kings,Rajasthan Royals,bat,normal,0,Chennai Super Kings,0,8,MEK Hussey,\"MA Chidambaram Stadium, Chepauk\",SS Hazare,RB Tiffin,\\r\\n277,IPL-2011,Mumbai,04-05-2011,Mumbai Indians,Pune Warriors,Pune Warriors,field,normal,0,Mumbai Indians,21,0,R Sharma,Dr DY Patil Sports Academy,HDPK Dharmasena,SJA Taufel,\\r\\n278,IPL-2011,Kochi,05-05-2011,Kochi Tuskers Kerala,Kolkata Knight Riders,Kolkata Knight Riders,field,normal,0,Kochi Tuskers Kerala,17,0,BJ Hodge,Nehru Stadium,S Ravi,RJ Tucker,\\r\\n279,IPL-2011,Hyderabad,05-05-2011,Deccan Chargers,Delhi Daredevils,Delhi Daredevils,field,normal,0,Delhi Daredevils,0,4,V Sehwag,\"Rajiv Gandhi International Stadium, Uppal\",Asad Rauf,AM Saheba,\\r\\n280,IPL-2011,Bangalore,06-05-2011,Royal Challengers Bangalore,Kings XI Punjab,Kings XI Punjab,field,normal,0,Royal Challengers Bangalore,85,0,CH Gayle,M Chinnaswamy Stadium,Aleem Dar,RB Tiffin,\\r\\n281,IPL-2011,Kolkata,07-05-2011,Chennai Super Kings,Kolkata Knight Riders,Chennai Super Kings,bat,normal,1,Kolkata Knight Riders,10,0,Iqbal Abdulla,Eden Gardens,Asad Rauf,PR Reiffel,\\r\\n282,IPL-2011,Mumbai,07-05-2011,Mumbai Indians,Delhi Daredevils,Delhi Daredevils,field,normal,0,Mumbai Indians,32,0,AT Rayudu,Wankhede Stadium,K Hariharan,SJA Taufel,\\r\\n283,IPL-2011,Bangalore,08-05-2011,Kochi Tuskers Kerala,Royal Challengers Bangalore,Kochi Tuskers Kerala,bat,normal,0,Royal Challengers Bangalore,0,9,CH Gayle,M Chinnaswamy Stadium,Aleem Dar,SS Hazare,\\r\\n284,IPL-2011,Chandigarh,08-05-2011,Kings XI Punjab,Pune Warriors,Kings XI Punjab,bat,normal,0,Pune Warriors,0,5,R Sharma,\"Punjab Cricket Association Stadium, Mohali\",SK Tarapore,RJ Tucker,\\r\\n285,IPL-2011,Jaipur,09-05-2011,Chennai Super Kings,Rajasthan Royals,Rajasthan Royals,field,normal,0,Chennai Super Kings,63,0,M Vijay,Sawai Mansingh Stadium,K Hariharan,SJA Taufel,\\r\\n286,IPL-2011,Hyderabad,10-05-2011,Deccan Chargers,Pune Warriors,Deccan Chargers,bat,normal,0,Pune Warriors,0,6,MR Marsh,\"Rajiv Gandhi International Stadium, Uppal\",Asad Rauf,AM Saheba,\\r\\n287,IPL-2011,Chandigarh,10-05-2011,Kings XI Punjab,Mumbai Indians,Mumbai Indians,field,normal,0,Kings XI Punjab,76,0,BA Bhatt,\"Punjab Cricket Association Stadium, Mohali\",SK Tarapore,RJ Tucker,\\r\\n288,IPL-2011,Jaipur,11-05-2011,Rajasthan Royals,Royal Challengers Bangalore,Royal Challengers Bangalore,field,normal,0,Royal Challengers Bangalore,0,9,S Aravind,Sawai Mansingh Stadium,HDPK Dharmasena,K Hariharan,\\r\\n289,IPL-2011,Chennai,12-05-2011,Chennai Super Kings,Delhi Daredevils,Chennai Super Kings,bat,normal,0,Chennai Super Kings,18,0,MS Dhoni,\"MA Chidambaram Stadium, Chepauk\",AM Saheba,SL Shastri,\\r\\n290,IPL-2011,Indore,13-05-2011,Kochi Tuskers Kerala,Kings XI Punjab,Kings XI Punjab,field,normal,0,Kings XI Punjab,0,6,KD Karthik,Holkar Cricket Stadium,S Asnani,RJ Tucker,\\r\\n291,IPL-2011,Bangalore,14-05-2011,Kolkata Knight Riders,Royal Challengers Bangalore,Royal Challengers Bangalore,field,normal,1,Royal Challengers Bangalore,0,4,CH Gayle,M Chinnaswamy Stadium,RE Koertzen,RB Tiffin,\\r\\n292,IPL-2011,Mumbai,14-05-2011,Deccan Chargers,Mumbai Indians,Deccan Chargers,bat,normal,0,Deccan Chargers,10,0,A Mishra,Wankhede Stadium,S Ravi,SK Tarapore,\\r\\n293,IPL-2011,Dharamsala,15-05-2011,Kings XI Punjab,Delhi Daredevils,Delhi Daredevils,field,normal,0,Kings XI Punjab,29,0,PP Chawla,Himachal Pradesh Cricket Association Stadium,Asad Rauf,SL Shastri,\\r\\n294,IPL-2011,Indore,15-05-2011,Rajasthan Royals,Kochi Tuskers Kerala,Kochi Tuskers Kerala,field,normal,0,Kochi Tuskers Kerala,0,8,BJ Hodge,Holkar Cricket Stadium,PR Reiffel,RJ Tucker,\\r\\n295,IPL-2011,Mumbai,16-05-2011,Pune Warriors,Deccan Chargers,Deccan Chargers,field,normal,0,Deccan Chargers,0,6,A Mishra,Dr DY Patil Sports Academy,S Ravi,SK Tarapore,\\r\\n296,IPL-2011,Dharamsala,17-05-2011,Kings XI Punjab,Royal Challengers Bangalore,Kings XI Punjab,bat,normal,0,Kings XI Punjab,111,0,AC Gilchrist,Himachal Pradesh Cricket Association Stadium,Asad Rauf,AM Saheba,\\r\\n297,IPL-2011,Chennai,18-05-2011,Chennai Super Kings,Kochi Tuskers Kerala,Chennai Super Kings,bat,normal,0,Chennai Super Kings,11,0,WP Saha,\"MA Chidambaram Stadium, Chepauk\",HDPK Dharmasena,RE Koertzen,\\r\\n298,IPL-2011,Mumbai,19-05-2011,Pune Warriors,Kolkata Knight Riders,Kolkata Knight Riders,field,normal,0,Kolkata Knight Riders,0,7,YK Pathan,Dr DY Patil Sports Academy,S Ravi,SJA Taufel,\\r\\n299,IPL-2011,Mumbai,20-05-2011,Mumbai Indians,Rajasthan Royals,Mumbai Indians,bat,normal,0,Rajasthan Royals,0,10,SR Watson,Wankhede Stadium,RE Koertzen,PR Reiffel,\\r\\n300,IPL-2011,Dharamsala,21-05-2011,Deccan Chargers,Kings XI Punjab,Kings XI Punjab,field,normal,0,Deccan Chargers,82,0,S Dhawan,Himachal Pradesh Cricket Association Stadium,Asad Rauf,AM Saheba,\\r\\n301,IPL-2011,Delhi,21-05-2011,Delhi Daredevils,Pune Warriors,Delhi Daredevils,bat,no result,0,,0,0,,Feroz Shah Kotla,SS Hazare,RJ Tucker,\\r\\n302,IPL-2011,Bangalore,22-05-2011,Chennai Super Kings,Royal Challengers Bangalore,Royal Challengers Bangalore,field,normal,0,Royal Challengers Bangalore,0,8,CH Gayle,M Chinnaswamy Stadium,K Hariharan,RE Koertzen,\\r\\n303,IPL-2011,Kolkata,22-05-2011,Kolkata Knight Riders,Mumbai Indians,Mumbai Indians,field,normal,0,Mumbai Indians,0,5,JEC Franklin,Eden Gardens,SK Tarapore,SJA Taufel,\\r\\n304,IPL-2011,Mumbai,24-05-2011,Royal Challengers Bangalore,Chennai Super Kings,Chennai Super Kings,field,normal,0,Chennai Super Kings,0,6,SK Raina,Wankhede Stadium,Asad Rauf,SJA Taufel,\\r\\n305,IPL-2011,Mumbai,25-05-2011,Kolkata Knight Riders,Mumbai Indians,Mumbai Indians,field,normal,0,Mumbai Indians,0,4,MM Patel,Wankhede Stadium,Asad Rauf,SJA Taufel,\\r\\n306,IPL-2011,Chennai,27-05-2011,Royal Challengers Bangalore,Mumbai Indians,Mumbai Indians,field,normal,0,Royal Challengers Bangalore,43,0,CH Gayle,\"MA Chidambaram Stadium, Chepauk\",Asad Rauf,SJA Taufel,\\r\\n307,IPL-2011,Chennai,28-05-2011,Chennai Super Kings,Royal Challengers Bangalore,Chennai Super Kings,bat,normal,0,Chennai Super Kings,58,0,M Vijay,\"MA Chidambaram Stadium, Chepauk\",Asad Rauf,SJA Taufel,\\r\\n308,IPL-2012,Chennai,04-04-2012,Chennai Super Kings,Mumbai Indians,Mumbai Indians,field,normal,0,Mumbai Indians,0,8,RE Levi,\"MA Chidambaram Stadium, Chepauk\",JD Cloete,SJA Taufel,\\r\\n309,IPL-2012,Kolkata,05-04-2012,Kolkata Knight Riders,Delhi Daredevils,Delhi Daredevils,field,normal,0,Delhi Daredevils,0,8,IK Pathan,Eden Gardens,S Asnani,HDPK Dharmasena,\\r\\n310,IPL-2012,Mumbai,06-04-2012,Pune Warriors,Mumbai Indians,Mumbai Indians,field,normal,0,Pune Warriors,28,0,SPD Smith,Wankhede Stadium,AK Chaudhary,SJA Taufel,\\r\\n311,IPL-2012,Jaipur,06-04-2012,Rajasthan Royals,Kings XI Punjab,Kings XI Punjab,field,normal,0,Rajasthan Royals,31,0,AM Rahane,Sawai Mansingh Stadium,BF Bowden,SK Tarapore,\\r\\n312,IPL-2012,Bangalore,07-04-2012,Royal Challengers Bangalore,Delhi Daredevils,Delhi Daredevils,field,normal,0,Royal Challengers Bangalore,20,0,AB de Villiers,M Chinnaswamy Stadium,S Asnani,S Ravi,\\r\\n313,IPL-2012,Visakhapatnam,07-04-2012,Chennai Super Kings,Deccan Chargers,Deccan Chargers,field,normal,0,Chennai Super Kings,74,0,RA Jadeja,Dr. Y.S. Rajasekhara Reddy ACA-VDCA Cricket Stadium,JD Cloete,HDPK Dharmasena,\\r\\n314,IPL-2012,Jaipur,08-04-2012,Rajasthan Royals,Kolkata Knight Riders,Kolkata Knight Riders,field,normal,0,Rajasthan Royals,22,0,BJ Hodge,Sawai Mansingh Stadium,BF Bowden,VA Kulkarni,\\r\\n315,IPL-2012,Pune,08-04-2012,Pune Warriors,Kings XI Punjab,Pune Warriors,bat,normal,0,Pune Warriors,22,0,MN Samuels,Subrata Roy Sahara Stadium,S Das,SJA Taufel,\\r\\n316,IPL-2012,Visakhapatnam,09-04-2012,Deccan Chargers,Mumbai Indians,Deccan Chargers,bat,normal,0,Mumbai Indians,0,5,RG Sharma,Dr. Y.S. Rajasekhara Reddy ACA-VDCA Cricket Stadium,AK Chaudhary,JD Cloete,\\r\\n317,IPL-2012,Bangalore,10-04-2012,Kolkata Knight Riders,Royal Challengers Bangalore,Royal Challengers Bangalore,field,normal,0,Kolkata Knight Riders,42,0,L Balaji,M Chinnaswamy Stadium,S Ravi,RJ Tucker,\\r\\n318,IPL-2012,Delhi,10-04-2012,Chennai Super Kings,Delhi Daredevils,Delhi Daredevils,field,normal,0,Delhi Daredevils,0,8,M Morkel,Feroz Shah Kotla,Asad Rauf,SK Tarapore,\\r\\n319,IPL-2012,Mumbai,11-04-2012,Mumbai Indians,Rajasthan Royals,Rajasthan Royals,field,normal,0,Mumbai Indians,27,0,KA Pollard,Wankhede Stadium,Aleem Dar,BNJ Oxenford,\\r\\n320,IPL-2012,Chennai,12-04-2012,Royal Challengers Bangalore,Chennai Super Kings,Royal Challengers Bangalore,bat,normal,0,Chennai Super Kings,0,5,F du Plessis,\"MA Chidambaram Stadium, Chepauk\",HDPK Dharmasena,RJ Tucker,\\r\\n321,IPL-2012,Chandigarh,12-04-2012,Pune Warriors,Kings XI Punjab,Kings XI Punjab,field,normal,0,Kings XI Punjab,0,7,AD Mascarenhas,\"Punjab Cricket Association Stadium, Mohali\",VA Kulkarni,SK Tarapore,\\r\\n322,IPL-2012,Kolkata,13-04-2012,Rajasthan Royals,Kolkata Knight Riders,Rajasthan Royals,bat,normal,0,Kolkata Knight Riders,0,5,Shakib Al Hasan,Eden Gardens,Asad Rauf,S Asnani,\\r\\n323,IPL-2012,Delhi,19-04-2012,Deccan Chargers,Delhi Daredevils,Deccan Chargers,bat,normal,0,Delhi Daredevils,0,5,KP Pietersen,Feroz Shah Kotla,BF Bowden,SK Tarapore,\\r\\n324,IPL-2012,Pune,14-04-2012,Chennai Super Kings,Pune Warriors,Chennai Super Kings,bat,normal,0,Pune Warriors,0,7,JD Ryder,Subrata Roy Sahara Stadium,Aleem Dar,BNJ Oxenford,\\r\\n325,IPL-2012,Kolkata,15-04-2012,Kings XI Punjab,Kolkata Knight Riders,Kolkata Knight Riders,field,normal,0,Kings XI Punjab,2,0,SP Narine,Eden Gardens,Asad Rauf,S Asnani,\\r\\n326,IPL-2012,Bangalore,15-04-2012,Rajasthan Royals,Royal Challengers Bangalore,Rajasthan Royals,bat,normal,0,Rajasthan Royals,59,0,AM Rahane,M Chinnaswamy Stadium,JD Cloete,RJ Tucker,\\r\\n327,IPL-2012,Mumbai,16-04-2012,Mumbai Indians,Delhi Daredevils,Delhi Daredevils,field,normal,0,Delhi Daredevils,0,7,S Nadeem,Wankhede Stadium,BF Bowden,SK Tarapore,\\r\\n328,IPL-2012,Jaipur,17-04-2012,Deccan Chargers,Rajasthan Royals,Deccan Chargers,bat,normal,0,Rajasthan Royals,0,5,BJ Hodge,Sawai Mansingh Stadium,Aleem Dar,BNJ Oxenford,\\r\\n329,IPL-2012,Bangalore,17-04-2012,Pune Warriors,Royal Challengers Bangalore,Pune Warriors,bat,normal,0,Royal Challengers Bangalore,0,6,CH Gayle,M Chinnaswamy Stadium,S Asnani,S Das,\\r\\n330,IPL-2012,Chandigarh,18-04-2012,Kings XI Punjab,Kolkata Knight Riders,Kings XI Punjab,bat,normal,0,Kolkata Knight Riders,0,8,G Gambhir,\"Punjab Cricket Association Stadium, Mohali\",JD Cloete,RJ Tucker,\\r\\n331,IPL-2012,Hyderabad,10-05-2012,Deccan Chargers,Delhi Daredevils,Deccan Chargers,bat,normal,0,Delhi Daredevils,0,9,DA Warner,\"Rajiv Gandhi International Stadium, Uppal\",JD Cloete,SJA Taufel,\\r\\n332,IPL-2012,Chennai,19-04-2012,Chennai Super Kings,Pune Warriors,Pune Warriors,field,normal,0,Chennai Super Kings,13,0,KMDN Kulasekara,\"MA Chidambaram Stadium, Chepauk\",Asad Rauf,S Das,\\r\\n333,IPL-2012,Chandigarh,20-04-2012,Kings XI Punjab,Royal Challengers Bangalore,Royal Challengers Bangalore,field,normal,0,Royal Challengers Bangalore,0,5,CH Gayle,\"Punjab Cricket Association Stadium, Mohali\",S Ravi,RJ Tucker,\\r\\n334,IPL-2012,Chennai,21-04-2012,Rajasthan Royals,Chennai Super Kings,Rajasthan Royals,bat,normal,0,Chennai Super Kings,0,7,F du Plessis,\"MA Chidambaram Stadium, Chepauk\",Aleem Dar,BNJ Oxenford,\\r\\n335,IPL-2012,Delhi,21-04-2012,Pune Warriors,Delhi Daredevils,Delhi Daredevils,field,normal,0,Pune Warriors,20,0,SC Ganguly,Feroz Shah Kotla,Asad Rauf,S Das,\\r\\n336,IPL-2012,Mumbai,22-04-2012,Mumbai Indians,Kings XI Punjab,Mumbai Indians,bat,normal,0,Kings XI Punjab,0,6,SE Marsh,Wankhede Stadium,S Ravi,RJ Tucker,\\r\\n337,IPL-2012,Cuttack,22-04-2012,Deccan Chargers,Kolkata Knight Riders,Kolkata Knight Riders,field,normal,0,Kolkata Knight Riders,0,5,B Lee,Barabati Stadium,BF Bowden,SK Tarapore,\\r\\n338,IPL-2012,Jaipur,23-04-2012,Royal Challengers Bangalore,Rajasthan Royals,Rajasthan Royals,field,normal,0,Royal Challengers Bangalore,46,0,AB de Villiers,Sawai Mansingh Stadium,Asad Rauf,S Asnani,\\r\\n339,IPL-2012,Pune,24-04-2012,Pune Warriors,Delhi Daredevils,Pune Warriors,bat,normal,0,Delhi Daredevils,0,8,V Sehwag,Subrata Roy Sahara Stadium,S Ravi,RJ Tucker,\\r\\n340,IPL-2012,Chandigarh,25-04-2012,Kings XI Punjab,Mumbai Indians,Kings XI Punjab,bat,normal,0,Mumbai Indians,0,4,AT Rayudu,\"Punjab Cricket Association Stadium, Mohali\",Aleem Dar,BNJ Oxenford,\\r\\n341,IPL-2012,Pune,26-04-2012,Deccan Chargers,Pune Warriors,Deccan Chargers,bat,normal,0,Deccan Chargers,18,0,CL White,Subrata Roy Sahara Stadium,S Ravi,RJ Tucker,\\r\\n342,IPL-2012,Delhi,27-04-2012,Delhi Daredevils,Mumbai Indians,Mumbai Indians,field,normal,0,Delhi Daredevils,37,0,V Sehwag,Feroz Shah Kotla,Aleem Dar,BNJ Oxenford,\\r\\n343,IPL-2012,Chennai,28-04-2012,Kings XI Punjab,Chennai Super Kings,Kings XI Punjab,bat,normal,0,Kings XI Punjab,7,0,Mandeep Singh,\"MA Chidambaram Stadium, Chepauk\",BF Bowden,SK Tarapore,\\r\\n344,IPL-2012,Kolkata,28-04-2012,Kolkata Knight Riders,Royal Challengers Bangalore,Kolkata Knight Riders,bat,normal,0,Kolkata Knight Riders,47,0,G Gambhir,Eden Gardens,Asad Rauf,BR Doctrove,\\r\\n345,IPL-2012,Delhi,29-04-2012,Delhi Daredevils,Rajasthan Royals,Delhi Daredevils,bat,normal,0,Delhi Daredevils,1,0,V Sehwag,Feroz Shah Kotla,S Ravi,RJ Tucker,\\r\\n346,IPL-2012,Mumbai,29-04-2012,Deccan Chargers,Mumbai Indians,Mumbai Indians,field,normal,0,Mumbai Indians,0,5,DW Steyn,Wankhede Stadium,AK Chaudhary,BNJ Oxenford,\\r\\n347,IPL-2012,Chennai,30-04-2012,Chennai Super Kings,Kolkata Knight Riders,Chennai Super Kings,bat,normal,0,Kolkata Knight Riders,0,5,G Gambhir,\"MA Chidambaram Stadium, Chepauk\",BF Bowden,C Shamshuddin,\\r\\n348,IPL-2012,Cuttack,01-05-2012,Deccan Chargers,Pune Warriors,Deccan Chargers,bat,normal,0,Deccan Chargers,13,0,KC Sangakkara,Barabati Stadium,Aleem Dar,AK Chaudhary,\\r\\n349,IPL-2012,Jaipur,01-05-2012,Rajasthan Royals,Delhi Daredevils,Rajasthan Royals,bat,normal,0,Delhi Daredevils,0,6,P Negi,Sawai Mansingh Stadium,JD Cloete,SJA Taufel,\\r\\n350,IPL-2012,Bangalore,02-05-2012,Royal Challengers Bangalore,Kings XI Punjab,Kings XI Punjab,field,normal,0,Kings XI Punjab,0,4,Azhar Mahmood,M Chinnaswamy Stadium,BF Bowden,C Shamshuddin,\\r\\n351,IPL-2012,Pune,03-05-2012,Mumbai Indians,Pune Warriors,Mumbai Indians,bat,normal,0,Mumbai Indians,1,0,SL Malinga,Subrata Roy Sahara Stadium,Asad Rauf,S Asnani,\\r\\n352,IPL-2012,Chennai,04-05-2012,Chennai Super Kings,Deccan Chargers,Chennai Super Kings,bat,normal,0,Chennai Super Kings,10,0,SK Raina,\"MA Chidambaram Stadium, Chepauk\",HDPK Dharmasena,BNJ Oxenford,\\r\\n353,IPL-2012,Kolkata,05-05-2012,Kolkata Knight Riders,Pune Warriors,Kolkata Knight Riders,bat,normal,0,Kolkata Knight Riders,7,0,SP Narine,Eden Gardens,BF Bowden,SK Tarapore,\\r\\n354,IPL-2012,Chandigarh,05-05-2012,Rajasthan Royals,Kings XI Punjab,Rajasthan Royals,bat,normal,0,Rajasthan Royals,43,0,SR Watson,\"Punjab Cricket Association Stadium, Mohali\",JD Cloete,SJA Taufel,\\r\\n355,IPL-2012,Mumbai,06-05-2012,Chennai Super Kings,Mumbai Indians,Mumbai Indians,field,normal,0,Mumbai Indians,0,2,DR Smith,Wankhede Stadium,Asad Rauf,S Asnani,\\r\\n356,IPL-2012,Bangalore,06-05-2012,Deccan Chargers,Royal Challengers Bangalore,Royal Challengers Bangalore,field,normal,0,Royal Challengers Bangalore,0,5,AB de Villiers,M Chinnaswamy Stadium,HDPK Dharmasena,BNJ Oxenford,\\r\\n357,IPL-2012,Delhi,07-05-2012,Delhi Daredevils,Kolkata Knight Riders,Delhi Daredevils,bat,normal,0,Kolkata Knight Riders,0,6,JH Kallis,Feroz Shah Kotla,JD Cloete,S Ravi,\\r\\n358,IPL-2012,Pune,08-05-2012,Pune Warriors,Rajasthan Royals,Pune Warriors,bat,normal,0,Rajasthan Royals,0,7,SR Watson,Subrata Roy Sahara Stadium,Asad Rauf,BR Doctrove,\\r\\n359,IPL-2012,Hyderabad,08-05-2012,Kings XI Punjab,Deccan Chargers,Deccan Chargers,field,normal,0,Kings XI Punjab,25,0,Mandeep Singh,\"Rajiv Gandhi International Stadium, Uppal\",HDPK Dharmasena,BNJ Oxenford,\\r\\n360,IPL-2012,Mumbai,09-05-2012,Mumbai Indians,Royal Challengers Bangalore,Royal Challengers Bangalore,field,normal,0,Royal Challengers Bangalore,0,9,CH Gayle,Wankhede Stadium,BF Bowden,VA Kulkarni,\\r\\n361,IPL-2012,Jaipur,10-05-2012,Rajasthan Royals,Chennai Super Kings,Chennai Super Kings,field,normal,0,Chennai Super Kings,0,4,BW Hilfenhaus,Sawai Mansingh Stadium,BNJ Oxenford,C Shamshuddin,\\r\\n362,IPL-2012,Pune,11-05-2012,Royal Challengers Bangalore,Pune Warriors,Pune Warriors,field,normal,0,Royal Challengers Bangalore,35,0,CH Gayle,Subrata Roy Sahara Stadium,BF Bowden,SK Tarapore,\\r\\n363,IPL-2012,Kolkata,12-05-2012,Mumbai Indians,Kolkata Knight Riders,Mumbai Indians,bat,normal,0,Mumbai Indians,27,0,RG Sharma,Eden Gardens,S Ravi,SJA Taufel,\\r\\n364,IPL-2012,Chennai,12-05-2012,Delhi Daredevils,Chennai Super Kings,Chennai Super Kings,field,normal,0,Chennai Super Kings,0,9,BW Hilfenhaus,\"MA Chidambaram Stadium, Chepauk\",S Das,BR Doctrove,\\r\\n365,IPL-2012,Jaipur,13-05-2012,Rajasthan Royals,Pune Warriors,Rajasthan Royals,bat,normal,0,Rajasthan Royals,45,0,A Chandila,Sawai Mansingh Stadium,BF Bowden,SK Tarapore,\\r\\n366,IPL-2012,Chandigarh,13-05-2012,Deccan Chargers,Kings XI Punjab,Deccan Chargers,bat,normal,0,Kings XI Punjab,0,4,DJ Hussey,\"Punjab Cricket Association Stadium, Mohali\",HDPK Dharmasena,BNJ Oxenford,\\r\\n367,IPL-2012,Bangalore,14-05-2012,Royal Challengers Bangalore,Mumbai Indians,Mumbai Indians,field,normal,0,Mumbai Indians,0,5,AT Rayudu,M Chinnaswamy Stadium,S Das,BR Doctrove,\\r\\n368,IPL-2012,Kolkata,14-05-2012,Kolkata Knight Riders,Chennai Super Kings,Chennai Super Kings,field,normal,0,Chennai Super Kings,0,5,MEK Hussey,Eden Gardens,JD Cloete,SJA Taufel,\\r\\n369,IPL-2012,Delhi,15-05-2012,Kings XI Punjab,Delhi Daredevils,Kings XI Punjab,bat,normal,0,Delhi Daredevils,0,5,UT Yadav,Feroz Shah Kotla,HDPK Dharmasena,BNJ Oxenford,\\r\\n370,IPL-2012,Mumbai,16-05-2012,Kolkata Knight Riders,Mumbai Indians,Mumbai Indians,field,normal,0,Kolkata Knight Riders,32,0,SP Narine,Wankhede Stadium,S Das,BR Doctrove,\\r\\n371,IPL-2012,Dharamsala,17-05-2012,Chennai Super Kings,Kings XI Punjab,Kings XI Punjab,field,normal,0,Kings XI Punjab,0,6,AC Gilchrist,Himachal Pradesh Cricket Association Stadium,VA Kulkarni,SK Tarapore,\\r\\n372,IPL-2012,Delhi,17-05-2012,Royal Challengers Bangalore,Delhi Daredevils,Delhi Daredevils,field,normal,0,Royal Challengers Bangalore,21,0,CH Gayle,Feroz Shah Kotla,HDPK Dharmasena,C Shamshuddin,\\r\\n373,IPL-2012,Hyderabad,18-05-2012,Rajasthan Royals,Deccan Chargers,Rajasthan Royals,bat,normal,0,Deccan Chargers,0,5,DW Steyn,\"Rajiv Gandhi International Stadium, Uppal\",S Ravi,SJA Taufel,\\r\\n374,IPL-2012,Dharamsala,19-05-2012,Kings XI Punjab,Delhi Daredevils,Delhi Daredevils,field,normal,0,Delhi Daredevils,0,6,UT Yadav,Himachal Pradesh Cricket Association Stadium,BF Bowden,VA Kulkarni,\\r\\n375,IPL-2012,Pune,19-05-2012,Kolkata Knight Riders,Pune Warriors,Kolkata Knight Riders,bat,normal,0,Kolkata Knight Riders,34,0,Shakib Al Hasan,Subrata Roy Sahara Stadium,S Asnani,BR Doctrove,\\r\\n376,IPL-2012,Hyderabad,20-05-2012,Deccan Chargers,Royal Challengers Bangalore,Royal Challengers Bangalore,field,normal,0,Deccan Chargers,9,0,DW Steyn,\"Rajiv Gandhi International Stadium, Uppal\",S Ravi,SJA Taufel,\\r\\n377,IPL-2012,Jaipur,20-05-2012,Rajasthan Royals,Mumbai Indians,Rajasthan Royals,bat,normal,0,Mumbai Indians,0,10,DR Smith,Sawai Mansingh Stadium,HDPK Dharmasena,C Shamshuddin,\\r\\n378,IPL-2012,Pune,22-05-2012,Kolkata Knight Riders,Delhi Daredevils,Kolkata Knight Riders,bat,normal,0,Kolkata Knight Riders,18,0,YK Pathan,Subrata Roy Sahara Stadium,BR Doctrove,SJA Taufel,\\r\\n379,IPL-2012,Bangalore,23-05-2012,Chennai Super Kings,Mumbai Indians,Mumbai Indians,field,normal,0,Chennai Super Kings,38,0,MS Dhoni,M Chinnaswamy Stadium,BF Bowden,HDPK Dharmasena,\\r\\n380,IPL-2012,Chennai,25-05-2012,Chennai Super Kings,Delhi Daredevils,Delhi Daredevils,field,normal,0,Chennai Super Kings,86,0,M Vijay,\"MA Chidambaram Stadium, Chepauk\",BR Doctrove,SJA Taufel,\\r\\n381,IPL-2012,Chennai,27-05-2012,Chennai Super Kings,Kolkata Knight Riders,Chennai Super Kings,bat,normal,0,Kolkata Knight Riders,0,5,MS Bisla,\"MA Chidambaram Stadium, Chepauk\",BF Bowden,SJA Taufel,\\r\\n382,IPL-2013,Kolkata,03-04-2013,Delhi Daredevils,Kolkata Knight Riders,Kolkata Knight Riders,field,normal,0,Kolkata Knight Riders,0,6,SP Narine,Eden Gardens,S Ravi,SJA Taufel,\\r\\n383,IPL-2013,Bangalore,04-04-2013,Royal Challengers Bangalore,Mumbai Indians,Mumbai Indians,field,normal,0,Royal Challengers Bangalore,2,0,CH Gayle,M Chinnaswamy Stadium,VA Kulkarni,C Shamshuddin,\\r\\n384,IPL-2013,Hyderabad,05-04-2013,Sunrisers Hyderabad,Pune Warriors,Pune Warriors,field,normal,0,Sunrisers Hyderabad,22,0,A Mishra,\"Rajiv Gandhi International Stadium, Uppal\",S Ravi,SJA Taufel,\\r\\n385,IPL-2013,Delhi,06-04-2013,Rajasthan Royals,Delhi Daredevils,Rajasthan Royals,bat,normal,0,Rajasthan Royals,5,0,R Dravid,Feroz Shah Kotla,S Das,C Shamshuddin,\\r\\n386,IPL-2013,Chennai,06-04-2013,Mumbai Indians,Chennai Super Kings,Mumbai Indians,bat,normal,0,Mumbai Indians,9,0,KA Pollard,\"MA Chidambaram Stadium, Chepauk\",M Erasmus,VA Kulkarni,\\r\\n387,IPL-2013,Pune,07-04-2013,Pune Warriors,Kings XI Punjab,Pune Warriors,bat,normal,0,Kings XI Punjab,0,8,M Vohra,Subrata Roy Sahara Stadium,S Asnani,SJA Taufel,\\r\\n388,IPL-2013,Hyderabad,07-04-2013,Royal Challengers Bangalore,Sunrisers Hyderabad,Royal Challengers Bangalore,bat,tie,0,Sunrisers Hyderabad,0,0,GH Vihari,\"Rajiv Gandhi International Stadium, Uppal\",AK Chaudhary,S Ravi,\\r\\n389,IPL-2013,Jaipur,08-04-2013,Rajasthan Royals,Kolkata Knight Riders,Kolkata Knight Riders,field,normal,0,Rajasthan Royals,19,0,SK Trivedi,Sawai Mansingh Stadium,Aleem Dar,S Das,\\r\\n390,IPL-2013,Mumbai,09-04-2013,Mumbai Indians,Delhi Daredevils,Mumbai Indians,bat,normal,0,Mumbai Indians,44,0,KD Karthik,Wankhede Stadium,M Erasmus,VA Kulkarni,\\r\\n391,IPL-2013,Chandigarh,10-04-2013,Kings XI Punjab,Chennai Super Kings,Chennai Super Kings,field,normal,0,Chennai Super Kings,0,10,MEK Hussey,\"Punjab Cricket Association Stadium, Mohali\",Aleem Dar,C Shamshuddin,\\r\\n392,IPL-2013,Bangalore,11-04-2013,Kolkata Knight Riders,Royal Challengers Bangalore,Royal Challengers Bangalore,field,normal,0,Royal Challengers Bangalore,0,8,CH Gayle,M Chinnaswamy Stadium,Asad Rauf,AK Chaudhary,\\r\\n393,IPL-2013,Pune,11-04-2013,Rajasthan Royals,Pune Warriors,Rajasthan Royals,bat,normal,0,Pune Warriors,0,7,AJ Finch,Subrata Roy Sahara Stadium,M Erasmus,K Srinath,\\r\\n394,IPL-2013,Delhi,12-04-2013,Delhi Daredevils,Sunrisers Hyderabad,Delhi Daredevils,bat,normal,0,Sunrisers Hyderabad,0,3,A Mishra,Feroz Shah Kotla,Aleem Dar,Subroto Das,\\r\\n395,IPL-2013,Mumbai,13-04-2013,Mumbai Indians,Pune Warriors,Mumbai Indians,bat,normal,0,Mumbai Indians,41,0,RG Sharma,Wankhede Stadium,S Ravi,SJA Taufel,\\r\\n396,IPL-2013,Chennai,13-04-2013,Royal Challengers Bangalore,Chennai Super Kings,Chennai Super Kings,field,normal,0,Chennai Super Kings,0,4,RA Jadeja,\"MA Chidambaram Stadium, Chepauk\",Asad Rauf,AK Chaudhary,\\r\\n397,IPL-2013,Kolkata,14-04-2013,Kolkata Knight Riders,Sunrisers Hyderabad,Kolkata Knight Riders,bat,normal,0,Kolkata Knight Riders,48,0,G Gambhir,Eden Gardens,M Erasmus,VA Kulkarni,\\r\\n398,IPL-2013,Jaipur,14-04-2013,Kings XI Punjab,Rajasthan Royals,Rajasthan Royals,field,normal,0,Rajasthan Royals,0,6,JP Faulkner,Sawai Mansingh Stadium,Aleem Dar,C Shamshuddin,\\r\\n399,IPL-2013,Chennai,15-04-2013,Pune Warriors,Chennai Super Kings,Pune Warriors,bat,normal,0,Pune Warriors,24,0,SPD Smith,\"MA Chidambaram Stadium, Chepauk\",Asad Rauf,AK Chaudhary,\\r\\n400,IPL-2013,Chandigarh,16-04-2013,Kings XI Punjab,Kolkata Knight Riders,Kolkata Knight Riders,field,normal,0,Kings XI Punjab,4,0,MS Gony,\"Punjab Cricket Association Stadium, Mohali\",CK Nandan,SJA Taufel,\\r\\n401,IPL-2013,Bangalore,16-04-2013,Delhi Daredevils,Royal Challengers Bangalore,Royal Challengers Bangalore,field,tie,0,Royal Challengers Bangalore,0,0,V Kohli,M Chinnaswamy Stadium,M Erasmus,VA Kulkarni,\\r\\n402,IPL-2013,Pune,17-04-2013,Sunrisers Hyderabad,Pune Warriors,Pune Warriors,field,normal,0,Sunrisers Hyderabad,11,0,A Mishra,Subrata Roy Sahara Stadium,Asad Rauf,AK Chaudhary,\\r\\n403,IPL-2013,Jaipur,17-04-2013,Rajasthan Royals,Mumbai Indians,Rajasthan Royals,bat,normal,0,Rajasthan Royals,87,0,AM Rahane,Sawai Mansingh Stadium,Aleem Dar,C Shamshuddin,\\r\\n404,IPL-2013,Delhi,18-04-2013,Chennai Super Kings,Delhi Daredevils,Chennai Super Kings,bat,normal,0,Chennai Super Kings,86,0,MEK Hussey,Feroz Shah Kotla,M Erasmus,VA Kulkarni,\\r\\n405,IPL-2013,Hyderabad,19-04-2013,Kings XI Punjab,Sunrisers Hyderabad,Kings XI Punjab,bat,normal,0,Sunrisers Hyderabad,0,5,GH Vihari,\"Rajiv Gandhi International Stadium, Uppal\",HDPK Dharmasena,CK Nandan,\\r\\n406,IPL-2013,Kolkata,20-04-2013,Kolkata Knight Riders,Chennai Super Kings,Kolkata Knight Riders,bat,normal,0,Chennai Super Kings,0,4,RA Jadeja,Eden Gardens,Asad Rauf,AK Chaudhary,\\r\\n407,IPL-2013,Bangalore,20-04-2013,Rajasthan Royals,Royal Challengers Bangalore,Royal Challengers Bangalore,field,normal,0,Royal Challengers Bangalore,0,7,R Vinay Kumar,M Chinnaswamy Stadium,Aleem Dar,C Shamshuddin,\\r\\n408,IPL-2013,Delhi,21-04-2013,Mumbai Indians,Delhi Daredevils,Mumbai Indians,bat,normal,0,Delhi Daredevils,0,9,V Sehwag,Feroz Shah Kotla,HDPK Dharmasena,S Ravi,\\r\\n409,IPL-2013,Chandigarh,21-04-2013,Pune Warriors,Kings XI Punjab,Kings XI Punjab,field,normal,0,Kings XI Punjab,0,7,DA Miller,\"Punjab Cricket Association Stadium, Mohali\",M Erasmus,K Srinath,\\r\\n410,IPL-2013,Chennai,22-04-2013,Rajasthan Royals,Chennai Super Kings,Rajasthan Royals,bat,normal,0,Chennai Super Kings,0,5,MEK Hussey,\"MA Chidambaram Stadium, Chepauk\",S Asnani,AK Chaudhary,\\r\\n411,IPL-2013,Bangalore,23-04-2013,Royal Challengers Bangalore,Pune Warriors,Pune Warriors,field,normal,0,Royal Challengers Bangalore,130,0,CH Gayle,M Chinnaswamy Stadium,Aleem Dar,C Shamshuddin,\\r\\n412,IPL-2013,Dharamsala,16-05-2013,Kings XI Punjab,Delhi Daredevils,Delhi Daredevils,field,normal,0,Kings XI Punjab,7,0,DA Miller,Himachal Pradesh Cricket Association Stadium,HDPK Dharmasena,S Ravi,\\r\\n413,IPL-2013,Kolkata,24-04-2013,Kolkata Knight Riders,Mumbai Indians,Kolkata Knight Riders,bat,normal,0,Mumbai Indians,0,5,DR Smith,Eden Gardens,HDPK Dharmasena,S Ravi,\\r\\n414,IPL-2013,Chennai,25-04-2013,Sunrisers Hyderabad,Chennai Super Kings,Sunrisers Hyderabad,bat,normal,0,Chennai Super Kings,0,5,MS Dhoni,\"MA Chidambaram Stadium, Chepauk\",Aleem Dar,S Das,\\r\\n415,IPL-2013,Kolkata,26-04-2013,Kings XI Punjab,Kolkata Knight Riders,Kings XI Punjab,bat,normal,0,Kolkata Knight Riders,0,6,JH Kallis,Eden Gardens,CK Nandan,S Ravi,\\r\\n416,IPL-2013,Jaipur,27-04-2013,Sunrisers Hyderabad,Rajasthan Royals,Sunrisers Hyderabad,bat,normal,0,Rajasthan Royals,0,8,JP Faulkner,Sawai Mansingh Stadium,VA Kulkarni,K Srinath,\\r\\n417,IPL-2013,Mumbai,27-04-2013,Mumbai Indians,Royal Challengers Bangalore,Mumbai Indians,bat,normal,0,Mumbai Indians,58,0,DR Smith,Wankhede Stadium,Asad Rauf,S Asnani,\\r\\n418,IPL-2013,Chennai,28-04-2013,Chennai Super Kings,Kolkata Knight Riders,Kolkata Knight Riders,field,normal,0,Chennai Super Kings,14,0,MEK Hussey,\"MA Chidambaram Stadium, Chepauk\",Aleem Dar,SJA Taufel,\\r\\n419,IPL-2013,Raipur,28-04-2013,Delhi Daredevils,Pune Warriors,Pune Warriors,field,normal,0,Delhi Daredevils,15,0,DA Warner,Shaheed Veer Narayan Singh International Stadium,CK Nandan,S Ravi,\\r\\n420,IPL-2013,Jaipur,29-04-2013,Royal Challengers Bangalore,Rajasthan Royals,Rajasthan Royals,field,normal,0,Rajasthan Royals,0,4,SV Samson,Sawai Mansingh Stadium,M Erasmus,K Srinath,\\r\\n421,IPL-2013,Mumbai,29-04-2013,Mumbai Indians,Kings XI Punjab,Mumbai Indians,bat,normal,0,Mumbai Indians,4,0,RG Sharma,Wankhede Stadium,Asad Rauf,AK Chaudhary,\\r\\n422,IPL-2013,Pune,30-04-2013,Chennai Super Kings,Pune Warriors,Chennai Super Kings,bat,normal,0,Chennai Super Kings,37,0,MS Dhoni,Subrata Roy Sahara Stadium,S Das,SJA Taufel,\\r\\n423,IPL-2013,Hyderabad,01-05-2013,Mumbai Indians,Sunrisers Hyderabad,Mumbai Indians,bat,normal,0,Sunrisers Hyderabad,0,7,I Sharma,\"Rajiv Gandhi International Stadium, Uppal\",Asad Rauf,S Asnani,\\r\\n424,IPL-2013,Raipur,01-05-2013,Kolkata Knight Riders,Delhi Daredevils,Kolkata Knight Riders,bat,normal,0,Delhi Daredevils,0,7,DA Warner,Shaheed Veer Narayan Singh International Stadium,HDPK Dharmasena,CK Nandan,\\r\\n425,IPL-2013,Chennai,02-05-2013,Chennai Super Kings,Kings XI Punjab,Chennai Super Kings,bat,normal,0,Chennai Super Kings,15,0,SK Raina,\"MA Chidambaram Stadium, Chepauk\",M Erasmus,VA Kulkarni,\\r\\n426,IPL-2013,Pune,02-05-2013,Royal Challengers Bangalore,Pune Warriors,Royal Challengers Bangalore,bat,normal,0,Royal Challengers Bangalore,17,0,AB de Villiers,Subrata Roy Sahara Stadium,Aleem Dar,C Shamshuddin,\\r\\n427,IPL-2013,Kolkata,03-05-2013,Rajasthan Royals,Kolkata Knight Riders,Rajasthan Royals,bat,normal,0,Kolkata Knight Riders,0,8,YK Pathan,Eden Gardens,HDPK Dharmasena,CK Nandan,\\r\\n428,IPL-2013,Hyderabad,04-05-2013,Delhi Daredevils,Sunrisers Hyderabad,Delhi Daredevils,bat,normal,0,Sunrisers Hyderabad,0,6,DJG Sammy,\"Rajiv Gandhi International Stadium, Uppal\",Asad Rauf,S Asnani,\\r\\n429,IPL-2013,Bangalore,14-05-2013,Royal Challengers Bangalore,Kings XI Punjab,Kings XI Punjab,field,normal,0,Kings XI Punjab,0,7,AC Gilchrist,M Chinnaswamy Stadium,HDPK Dharmasena,S Ravi,\\r\\n430,IPL-2013,Mumbai,05-05-2013,Mumbai Indians,Chennai Super Kings,Mumbai Indians,bat,normal,0,Mumbai Indians,60,0,MG Johnson,Wankhede Stadium,HDPK Dharmasena,CK Nandan,\\r\\n431,IPL-2013,Jaipur,05-05-2013,Pune Warriors,Rajasthan Royals,Pune Warriors,bat,normal,0,Rajasthan Royals,0,5,AM Rahane,Sawai Mansingh Stadium,C Shamshuddin,RJ Tucker,\\r\\n432,IPL-2013,Bangalore,09-04-2013,Sunrisers Hyderabad,Royal Challengers Bangalore,Sunrisers Hyderabad,bat,normal,0,Royal Challengers Bangalore,0,7,V Kohli,M Chinnaswamy Stadium,S Ravi,SJA Taufel,\\r\\n433,IPL-2013,Jaipur,07-05-2013,Delhi Daredevils,Rajasthan Royals,Delhi Daredevils,bat,normal,0,Rajasthan Royals,0,9,AM Rahane,Sawai Mansingh Stadium,Aleem Dar,RJ Tucker,\\r\\n434,IPL-2013,Mumbai,07-05-2013,Mumbai Indians,Kolkata Knight Riders,Mumbai Indians,bat,normal,0,Mumbai Indians,65,0,SR Tendulkar,Wankhede Stadium,HDPK Dharmasena,S Ravi,\\r\\n435,IPL-2013,Hyderabad,08-05-2013,Chennai Super Kings,Sunrisers Hyderabad,Sunrisers Hyderabad,field,normal,0,Chennai Super Kings,77,0,SK Raina,\"Rajiv Gandhi International Stadium, Uppal\",S Das,NJ Llong,\\r\\n436,IPL-2013,Chandigarh,09-05-2013,Kings XI Punjab,Rajasthan Royals,Rajasthan Royals,field,normal,0,Rajasthan Royals,0,8,KK Cooper,\"Punjab Cricket Association Stadium, Mohali\",HDPK Dharmasena,S Ravi,\\r\\n437,IPL-2013,Pune,09-05-2013,Kolkata Knight Riders,Pune Warriors,Kolkata Knight Riders,bat,normal,0,Kolkata Knight Riders,46,0,G Gambhir,Subrata Roy Sahara Stadium,Asad Rauf,S Asnani,\\r\\n438,IPL-2013,Delhi,10-05-2013,Royal Challengers Bangalore,Delhi Daredevils,Delhi Daredevils,field,normal,0,Royal Challengers Bangalore,4,0,JD Unadkat,Feroz Shah Kotla,NJ Llong,K Srinath,\\r\\n439,IPL-2013,Pune,11-05-2013,Pune Warriors,Mumbai Indians,Pune Warriors,bat,normal,0,Mumbai Indians,0,5,MG Johnson,Subrata Roy Sahara Stadium,Asad Rauf,AK Chaudhary,\\r\\n440,IPL-2013,Chandigarh,11-05-2013,Sunrisers Hyderabad,Kings XI Punjab,Kings XI Punjab,field,normal,0,Sunrisers Hyderabad,30,0,PA Patel,\"Punjab Cricket Association Stadium, Mohali\",S Das,RJ Tucker,\\r\\n441,IPL-2013,Ranchi,12-05-2013,Royal Challengers Bangalore,Kolkata Knight Riders,Kolkata Knight Riders,field,normal,0,Kolkata Knight Riders,0,5,JH Kallis,JSCA International Stadium Complex,NJ Llong,K Srinath,\\r\\n442,IPL-2013,Jaipur,12-05-2013,Chennai Super Kings,Rajasthan Royals,Rajasthan Royals,field,normal,0,Rajasthan Royals,0,5,SR Watson,Sawai Mansingh Stadium,HDPK Dharmasena,CK Nandan,\\r\\n443,IPL-2013,Delhi,23-04-2013,Delhi Daredevils,Kings XI Punjab,Kings XI Punjab,field,normal,0,Kings XI Punjab,0,5,Harmeet Singh,Feroz Shah Kotla,VA Kulkarni,K Srinath,\\r\\n444,IPL-2013,Mumbai,13-05-2013,Sunrisers Hyderabad,Mumbai Indians,Sunrisers Hyderabad,bat,normal,0,Mumbai Indians,0,7,KA Pollard,Wankhede Stadium,AK Chaudhary,SJA Taufel,\\r\\n445,IPL-2013,Ranchi,15-05-2013,Pune Warriors,Kolkata Knight Riders,Kolkata Knight Riders,field,normal,0,Pune Warriors,7,0,MK Pandey,JSCA International Stadium Complex,NJ Llong,K Srinath,\\r\\n446,IPL-2013,Chennai,14-05-2013,Chennai Super Kings,Delhi Daredevils,Chennai Super Kings,bat,normal,0,Chennai Super Kings,33,0,MS Dhoni,\"MA Chidambaram Stadium, Chepauk\",C Shamshuddin,RJ Tucker,\\r\\n447,IPL-2013,Mumbai,15-05-2013,Mumbai Indians,Rajasthan Royals,Rajasthan Royals,field,normal,0,Mumbai Indians,14,0,AP Tare,Wankhede Stadium,Asad Rauf,S Asnani,\\r\\n448,IPL-2013,Chandigarh,06-05-2013,Royal Challengers Bangalore,Kings XI Punjab,Kings XI Punjab,field,normal,0,Kings XI Punjab,0,6,DA Miller,\"Punjab Cricket Association Stadium, Mohali\",VA Kulkarni,NJ Llong,\\r\\n449,IPL-2013,Hyderabad,17-05-2013,Sunrisers Hyderabad,Rajasthan Royals,Sunrisers Hyderabad,bat,normal,0,Sunrisers Hyderabad,23,0,A Mishra,\"Rajiv Gandhi International Stadium, Uppal\",Asad Rauf,AK Chaudhary,\\r\\n450,IPL-2013,Dharamsala,18-05-2013,Kings XI Punjab,Mumbai Indians,Mumbai Indians,field,normal,0,Kings XI Punjab,50,0,Azhar Mahmood,Himachal Pradesh Cricket Association Stadium,HDPK Dharmasena,CK Nandan,\\r\\n451,IPL-2013,Pune,19-05-2013,Pune Warriors,Delhi Daredevils,Pune Warriors,bat,normal,0,Pune Warriors,38,0,LJ Wright,Subrata Roy Sahara Stadium,NJ Llong,SJA Taufel,\\r\\n452,IPL-2013,Bangalore,18-05-2013,Royal Challengers Bangalore,Chennai Super Kings,Chennai Super Kings,field,normal,0,Royal Challengers Bangalore,24,0,V Kohli,M Chinnaswamy Stadium,C Shamshuddin,RJ Tucker,\\r\\n453,IPL-2013,Hyderabad,19-05-2013,Kolkata Knight Riders,Sunrisers Hyderabad,Kolkata Knight Riders,bat,normal,0,Sunrisers Hyderabad,0,5,PA Patel,\"Rajiv Gandhi International Stadium, Uppal\",Asad Rauf,S Asnani,\\r\\n454,IPL-2013,Delhi,21-05-2013,Chennai Super Kings,Mumbai Indians,Chennai Super Kings,bat,normal,0,Chennai Super Kings,48,0,MEK Hussey,Feroz Shah Kotla,NJ Llong,RJ Tucker,\\r\\n455,IPL-2013,Delhi,22-05-2013,Sunrisers Hyderabad,Rajasthan Royals,Sunrisers Hyderabad,bat,normal,0,Rajasthan Royals,0,4,BJ Hodge,Feroz Shah Kotla,S Ravi,RJ Tucker,\\r\\n456,IPL-2013,Kolkata,24-05-2013,Rajasthan Royals,Mumbai Indians,Rajasthan Royals,bat,normal,0,Mumbai Indians,0,4,Harbhajan Singh,Eden Gardens,C Shamshuddin,SJA Taufel,\\r\\n457,IPL-2013,Kolkata,26-05-2013,Mumbai Indians,Chennai Super Kings,Mumbai Indians,bat,normal,0,Mumbai Indians,23,0,KA Pollard,Eden Gardens,HDPK Dharmasena,SJA Taufel,\\r\\n458,IPL-2014,Abu Dhabi,16-04-2014,Kolkata Knight Riders,Mumbai Indians,Kolkata Knight Riders,bat,normal,0,Kolkata Knight Riders,41,0,JH Kallis,Sheikh Zayed Stadium,M Erasmus,RK Illingworth,\\r\\n459,IPL-2014,Sharjah,17-04-2014,Delhi Daredevils,Royal Challengers Bangalore,Royal Challengers Bangalore,field,normal,0,Royal Challengers Bangalore,0,8,YS Chahal,Sharjah Cricket Stadium,Aleem Dar,S Ravi,\\r\\n460,IPL-2014,Abu Dhabi,18-04-2014,Chennai Super Kings,Kings XI Punjab,Chennai Super Kings,bat,normal,0,Kings XI Punjab,0,6,GJ Maxwell,Sheikh Zayed Stadium,RK Illingworth,C Shamshuddin,\\r\\n461,IPL-2014,Abu Dhabi,18-04-2014,Sunrisers Hyderabad,Rajasthan Royals,Rajasthan Royals,field,normal,0,Rajasthan Royals,0,4,AM Rahane,Sheikh Zayed Stadium,BF Bowden,RK Illingworth,\\r\\n462,IPL-2014,,19-04-2014,Mumbai Indians,Royal Challengers Bangalore,Royal Challengers Bangalore,field,normal,0,Royal Challengers Bangalore,0,7,PA Patel,Dubai International Cricket Stadium,Aleem Dar,AK Chaudhary,\\r\\n463,IPL-2014,,19-04-2014,Kolkata Knight Riders,Delhi Daredevils,Kolkata Knight Riders,bat,normal,0,Delhi Daredevils,0,4,JP Duminy,Dubai International Cricket Stadium,Aleem Dar,VA Kulkarni,\\r\\n464,IPL-2014,Sharjah,20-04-2014,Rajasthan Royals,Kings XI Punjab,Kings XI Punjab,field,normal,0,Kings XI Punjab,0,7,GJ Maxwell,Sharjah Cricket Stadium,BF Bowden,M Erasmus,\\r\\n465,IPL-2014,Abu Dhabi,21-04-2014,Chennai Super Kings,Delhi Daredevils,Chennai Super Kings,bat,normal,0,Chennai Super Kings,93,0,SK Raina,Sheikh Zayed Stadium,RK Illingworth,C Shamshuddin,\\r\\n466,IPL-2014,Sharjah,22-04-2014,Kings XI Punjab,Sunrisers Hyderabad,Sunrisers Hyderabad,field,normal,0,Kings XI Punjab,72,0,GJ Maxwell,Sharjah Cricket Stadium,M Erasmus,S Ravi,\\r\\n467,IPL-2014,,23-04-2014,Chennai Super Kings,Rajasthan Royals,Rajasthan Royals,field,normal,0,Chennai Super Kings,7,0,RA Jadeja,Dubai International Cricket Stadium,HDPK Dharmasena,RK Illingworth,\\r\\n468,IPL-2014,Sharjah,24-04-2014,Kolkata Knight Riders,Royal Challengers Bangalore,Royal Challengers Bangalore,field,normal,0,Kolkata Knight Riders,2,0,CA Lynn,Sharjah Cricket Stadium,Aleem Dar,VA Kulkarni,\\r\\n469,IPL-2014,,25-04-2014,Sunrisers Hyderabad,Delhi Daredevils,Sunrisers Hyderabad,bat,normal,0,Sunrisers Hyderabad,4,0,AJ Finch,Dubai International Cricket Stadium,M Erasmus,S Ravi,\\r\\n470,IPL-2014,,25-04-2014,Mumbai Indians,Chennai Super Kings,Mumbai Indians,bat,normal,0,Chennai Super Kings,0,7,MM Sharma,Dubai International Cricket Stadium,BF Bowden,M Erasmus,\\r\\n471,IPL-2014,Abu Dhabi,26-04-2014,Royal Challengers Bangalore,Rajasthan Royals,Rajasthan Royals,field,normal,0,Rajasthan Royals,0,6,PV Tambe,Sheikh Zayed Stadium,HDPK Dharmasena,C Shamshuddin,\\r\\n472,IPL-2014,Abu Dhabi,26-04-2014,Kings XI Punjab,Kolkata Knight Riders,Kolkata Knight Riders,field,normal,0,Kings XI Punjab,23,0,Sandeep Sharma,Sheikh Zayed Stadium,HDPK Dharmasena,RK Illingworth,\\r\\n473,IPL-2014,Sharjah,27-04-2014,Mumbai Indians,Delhi Daredevils,Mumbai Indians,bat,normal,0,Delhi Daredevils,0,6,M Vijay,Sharjah Cricket Stadium,Aleem Dar,VA Kulkarni,\\r\\n474,IPL-2014,Sharjah,27-04-2014,Sunrisers Hyderabad,Chennai Super Kings,Sunrisers Hyderabad,bat,normal,0,Chennai Super Kings,0,5,DR Smith,Sharjah Cricket Stadium,AK Chaudhary,VA Kulkarni,\\r\\n475,IPL-2014,,28-04-2014,Royal Challengers Bangalore,Kings XI Punjab,Kings XI Punjab,field,normal,0,Kings XI Punjab,0,5,Sandeep Sharma,Dubai International Cricket Stadium,BF Bowden,S Ravi,\\r\\n476,IPL-2014,Abu Dhabi,29-04-2014,Rajasthan Royals,Kolkata Knight Riders,Rajasthan Royals,bat,tie,0,Rajasthan Royals,0,0,JP Faulkner,Sheikh Zayed Stadium,Aleem Dar,AK Chaudhary,\\r\\n477,IPL-2014,,30-04-2014,Sunrisers Hyderabad,Mumbai Indians,Mumbai Indians,field,normal,0,Sunrisers Hyderabad,15,0,B Kumar,Dubai International Cricket Stadium,HDPK Dharmasena,M Erasmus,\\r\\n478,IPL-2014,Ranchi,02-05-2014,Chennai Super Kings,Kolkata Knight Riders,Chennai Super Kings,bat,normal,0,Chennai Super Kings,34,0,RA Jadeja,JSCA International Stadium Complex,AK Chaudhary,NJ Llong,\\r\\n479,IPL-2014,Mumbai,03-05-2014,Kings XI Punjab,Mumbai Indians,Kings XI Punjab,bat,normal,0,Mumbai Indians,0,5,CJ Anderson,Wankhede Stadium,BNJ Oxenford,C Shamshuddin,\\r\\n480,IPL-2014,Delhi,03-05-2014,Delhi Daredevils,Rajasthan Royals,Rajasthan Royals,field,normal,0,Rajasthan Royals,0,7,KK Nair,Feroz Shah Kotla,SS Hazare,S Ravi,\\r\\n481,IPL-2014,Bangalore,04-05-2014,Sunrisers Hyderabad,Royal Challengers Bangalore,Royal Challengers Bangalore,field,normal,0,Royal Challengers Bangalore,0,4,AB de Villiers,M Chinnaswamy Stadium,HDPK Dharmasena,VA Kulkarni,\\r\\n482,IPL-2014,Ahmedabad,05-05-2014,Rajasthan Royals,Kolkata Knight Riders,Kolkata Knight Riders,field,normal,0,Rajasthan Royals,10,0,PV Tambe,\"Sardar Patel Stadium, Motera\",NJ Llong,CK Nandan,\\r\\n483,IPL-2014,Delhi,05-05-2014,Delhi Daredevils,Chennai Super Kings,Chennai Super Kings,field,normal,0,Chennai Super Kings,0,8,DR Smith,Feroz Shah Kotla,RM Deshpande,BNJ Oxenford,\\r\\n484,IPL-2014,Mumbai,06-05-2014,Mumbai Indians,Royal Challengers Bangalore,Royal Challengers Bangalore,field,normal,0,Mumbai Indians,19,0,RG Sharma,Wankhede Stadium,S Ravi,K Srinath,\\r\\n485,IPL-2014,Delhi,07-05-2014,Delhi Daredevils,Kolkata Knight Riders,Delhi Daredevils,bat,normal,0,Kolkata Knight Riders,0,8,G Gambhir,Feroz Shah Kotla,BNJ Oxenford,C Shamshuddin,\\r\\n486,IPL-2014,Cuttack,07-05-2014,Kings XI Punjab,Chennai Super Kings,Chennai Super Kings,field,normal,0,Kings XI Punjab,44,0,GJ Maxwell,Barabati Stadium,HDPK Dharmasena,PG Pathak,\\r\\n487,IPL-2014,Ahmedabad,08-05-2014,Sunrisers Hyderabad,Rajasthan Royals,Rajasthan Royals,field,normal,0,Sunrisers Hyderabad,32,0,B Kumar,\"Sardar Patel Stadium, Motera\",AK Chaudhary,NJ Llong,\\r\\n488,IPL-2014,Bangalore,09-05-2014,Kings XI Punjab,Royal Challengers Bangalore,Royal Challengers Bangalore,field,normal,0,Kings XI Punjab,32,0,Sandeep Sharma,M Chinnaswamy Stadium,S Ravi,K Srinath,\\r\\n489,IPL-2014,Delhi,10-05-2014,Delhi Daredevils,Sunrisers Hyderabad,Sunrisers Hyderabad,field,normal,1,Sunrisers Hyderabad,0,8,DW Steyn,Feroz Shah Kotla,RM Deshpande,BNJ Oxenford,\\r\\n490,IPL-2014,Mumbai,10-05-2014,Mumbai Indians,Chennai Super Kings,Chennai Super Kings,field,normal,0,Chennai Super Kings,0,4,DR Smith,Wankhede Stadium,HDPK Dharmasena,VA Kulkarni,\\r\\n491,IPL-2014,Cuttack,11-05-2014,Kings XI Punjab,Kolkata Knight Riders,Kolkata Knight Riders,field,normal,0,Kolkata Knight Riders,0,9,G Gambhir,Barabati Stadium,NJ Llong,CK Nandan,\\r\\n492,IPL-2014,Bangalore,11-05-2014,Royal Challengers Bangalore,Rajasthan Royals,Royal Challengers Bangalore,bat,normal,0,Rajasthan Royals,0,5,JP Faulkner,M Chinnaswamy Stadium,S Ravi,RJ Tucker,\\r\\n493,IPL-2014,Hyderabad,12-05-2014,Sunrisers Hyderabad,Mumbai Indians,Sunrisers Hyderabad,bat,normal,0,Mumbai Indians,0,7,AT Rayudu,\"Rajiv Gandhi International Stadium, Uppal\",HDPK Dharmasena,VA Kulkarni,\\r\\n494,IPL-2014,Ranchi,13-05-2014,Rajasthan Royals,Chennai Super Kings,Rajasthan Royals,bat,normal,0,Chennai Super Kings,0,5,RA Jadeja,JSCA International Stadium Complex,BNJ Oxenford,C Shamshuddin,\\r\\n495,IPL-2014,Bangalore,13-05-2014,Royal Challengers Bangalore,Delhi Daredevils,Delhi Daredevils,field,normal,0,Royal Challengers Bangalore,16,0,Yuvraj Singh,M Chinnaswamy Stadium,K Srinath,RJ Tucker,\\r\\n496,IPL-2014,Hyderabad,14-05-2014,Sunrisers Hyderabad,Kings XI Punjab,Kings XI Punjab,field,normal,0,Kings XI Punjab,0,6,WP Saha,\"Rajiv Gandhi International Stadium, Uppal\",VA Kulkarni,PG Pathak,\\r\\n497,IPL-2014,Cuttack,14-05-2014,Mumbai Indians,Kolkata Knight Riders,Kolkata Knight Riders,field,normal,0,Kolkata Knight Riders,0,6,RV Uthappa,Barabati Stadium,AK Chaudhary,NJ Llong,\\r\\n498,IPL-2014,Ahmedabad,15-05-2014,Rajasthan Royals,Delhi Daredevils,Delhi Daredevils,field,normal,0,Rajasthan Royals,62,0,AM Rahane,\"Sardar Patel Stadium, Motera\",S Ravi,RJ Tucker,\\r\\n499,IPL-2014,Ranchi,18-05-2014,Chennai Super Kings,Royal Challengers Bangalore,Chennai Super Kings,bat,normal,0,Royal Challengers Bangalore,0,5,AB de Villiers,JSCA International Stadium Complex,BNJ Oxenford,C Shamshuddin,\\r\\n500,IPL-2014,Hyderabad,18-05-2014,Sunrisers Hyderabad,Kolkata Knight Riders,Sunrisers Hyderabad,bat,normal,0,Kolkata Knight Riders,0,7,UT Yadav,\"Rajiv Gandhi International Stadium, Uppal\",NJ Llong,CK Nandan,\\r\\n501,IPL-2014,Ahmedabad,19-05-2014,Mumbai Indians,Rajasthan Royals,Mumbai Indians,bat,normal,0,Mumbai Indians,25,0,MEK Hussey,\"Sardar Patel Stadium, Motera\",S Ravi,RJ Tucker,\\r\\n502,IPL-2014,Delhi,19-05-2014,Delhi Daredevils,Kings XI Punjab,Kings XI Punjab,field,normal,0,Kings XI Punjab,0,4,AR Patel,Feroz Shah Kotla,HDPK Dharmasena,PG Pathak,\\r\\n503,IPL-2014,Hyderabad,20-05-2014,Royal Challengers Bangalore,Sunrisers Hyderabad,Royal Challengers Bangalore,bat,normal,0,Sunrisers Hyderabad,0,7,DA Warner,\"Rajiv Gandhi International Stadium, Uppal\",AK Chaudhary,NJ Llong,\\r\\n504,IPL-2014,Kolkata,20-05-2014,Chennai Super Kings,Kolkata Knight Riders,Kolkata Knight Riders,field,normal,0,Kolkata Knight Riders,0,8,RV Uthappa,Eden Gardens,RM Deshpande,C Shamshuddin,\\r\\n505,IPL-2014,Chandigarh,21-05-2014,Kings XI Punjab,Mumbai Indians,Mumbai Indians,field,normal,0,Mumbai Indians,0,7,LMP Simmons,\"Punjab Cricket Association Stadium, Mohali\",HDPK Dharmasena,VA Kulkarni,\\r\\n506,IPL-2014,Kolkata,22-05-2014,Kolkata Knight Riders,Royal Challengers Bangalore,Royal Challengers Bangalore,field,normal,0,Kolkata Knight Riders,30,0,RV Uthappa,Eden Gardens,AK Chaudhary,CK Nandan,\\r\\n507,IPL-2014,Ranchi,22-05-2014,Chennai Super Kings,Sunrisers Hyderabad,Sunrisers Hyderabad,field,normal,0,Sunrisers Hyderabad,0,6,DA Warner,JSCA International Stadium Complex,BNJ Oxenford,C Shamshuddin,\\r\\n508,IPL-2014,Mumbai,23-05-2014,Mumbai Indians,Delhi Daredevils,Delhi Daredevils,field,normal,0,Mumbai Indians,15,0,MEK Hussey,Wankhede Stadium,S Ravi,RJ Tucker,\\r\\n509,IPL-2014,Chandigarh,23-05-2014,Kings XI Punjab,Rajasthan Royals,Rajasthan Royals,field,normal,0,Kings XI Punjab,16,0,SE Marsh,\"Punjab Cricket Association Stadium, Mohali\",HDPK Dharmasena,PG Pathak,\\r\\n510,IPL-2014,Bangalore,24-05-2014,Royal Challengers Bangalore,Chennai Super Kings,Chennai Super Kings,field,normal,0,Chennai Super Kings,0,8,MS Dhoni,M Chinnaswamy Stadium,AK Chaudhary,NJ Llong,\\r\\n511,IPL-2014,Kolkata,24-05-2014,Sunrisers Hyderabad,Kolkata Knight Riders,Kolkata Knight Riders,field,normal,0,Kolkata Knight Riders,0,4,YK Pathan,Eden Gardens,RM Deshpande,BNJ Oxenford,\\r\\n512,IPL-2014,Chandigarh,25-05-2014,Delhi Daredevils,Kings XI Punjab,Kings XI Punjab,field,normal,0,Kings XI Punjab,0,7,M Vohra,\"Punjab Cricket Association Stadium, Mohali\",HDPK Dharmasena,VA Kulkarni,\\r\\n513,IPL-2014,Mumbai,25-05-2014,Rajasthan Royals,Mumbai Indians,Mumbai Indians,field,normal,0,Mumbai Indians,0,5,CJ Anderson,Wankhede Stadium,K Srinath,RJ Tucker,\\r\\n514,IPL-2014,Kolkata,27-05-2014,Kolkata Knight Riders,Kings XI Punjab,Kings XI Punjab,field,normal,0,Kolkata Knight Riders,28,0,UT Yadav,Eden Gardens,NJ Llong,S Ravi,\\r\\n515,IPL-2014,Mumbai,28-05-2014,Mumbai Indians,Chennai Super Kings,Chennai Super Kings,field,normal,0,Chennai Super Kings,0,7,SK Raina,Brabourne Stadium,VA Kulkarni,BNJ Oxenford,\\r\\n516,IPL-2014,Mumbai,30-05-2014,Kings XI Punjab,Chennai Super Kings,Chennai Super Kings,field,normal,0,Kings XI Punjab,24,0,V Sehwag,Wankhede Stadium,HDPK Dharmasena,RJ Tucker,\\r\\n517,IPL-2014,Bangalore,01-06-2014,Kings XI Punjab,Kolkata Knight Riders,Kolkata Knight Riders,field,normal,0,Kolkata Knight Riders,0,3,MK Pandey,M Chinnaswamy Stadium,HDPK Dharmasena,BNJ Oxenford,\\r\\n518,IPL-2015,Kolkata,08-04-2015,Mumbai Indians,Kolkata Knight Riders,Kolkata Knight Riders,field,normal,0,Kolkata Knight Riders,0,7,M Morkel,Eden Gardens,S Ravi,C Shamshuddin,\\r\\n519,IPL-2015,Chennai,09-04-2015,Chennai Super Kings,Delhi Daredevils,Delhi Daredevils,field,normal,0,Chennai Super Kings,1,0,A Nehra,\"MA Chidambaram Stadium, Chepauk\",RK Illingworth,VA Kulkarni,\\r\\n520,IPL-2015,Pune,10-04-2015,Rajasthan Royals,Kings XI Punjab,Kings XI Punjab,field,normal,0,Rajasthan Royals,26,0,JP Faulkner,Maharashtra Cricket Association Stadium,SD Fry,CB Gaffaney,\\r\\n521,IPL-2015,Chennai,11-04-2015,Chennai Super Kings,Sunrisers Hyderabad,Chennai Super Kings,bat,normal,0,Chennai Super Kings,45,0,BB McCullum,\"MA Chidambaram Stadium, Chepauk\",RK Illingworth,VA Kulkarni,\\r\\n522,IPL-2015,Kolkata,11-04-2015,Kolkata Knight Riders,Royal Challengers Bangalore,Royal Challengers Bangalore,field,normal,0,Royal Challengers Bangalore,0,3,CH Gayle,Eden Gardens,S Ravi,C Shamshuddin,\\r\\n523,IPL-2015,Delhi,12-04-2015,Delhi Daredevils,Rajasthan Royals,Rajasthan Royals,field,normal,0,Rajasthan Royals,0,3,DJ Hooda,Feroz Shah Kotla,SD Fry,CB Gaffaney,\\r\\n524,IPL-2015,Mumbai,12-04-2015,Kings XI Punjab,Mumbai Indians,Mumbai Indians,field,normal,0,Kings XI Punjab,18,0,GJ Bailey,Wankhede Stadium,AK Chaudhary,K Srinivasan,\\r\\n525,IPL-2015,Bangalore,13-04-2015,Royal Challengers Bangalore,Sunrisers Hyderabad,Sunrisers Hyderabad,field,normal,0,Sunrisers Hyderabad,0,8,DA Warner,M Chinnaswamy Stadium,RM Deshpande,RK Illingworth,\\r\\n526,IPL-2015,Ahmedabad,14-04-2015,Mumbai Indians,Rajasthan Royals,Mumbai Indians,bat,normal,0,Rajasthan Royals,0,7,SPD Smith,\"Sardar Patel Stadium, Motera\",AK Chaudhary,SD Fry,\\r\\n527,IPL-2015,Kolkata,30-04-2015,Chennai Super Kings,Kolkata Knight Riders,Kolkata Knight Riders,field,normal,0,Kolkata Knight Riders,0,7,AD Russell,Eden Gardens,AK Chaudhary,M Erasmus,\\r\\n528,IPL-2015,Pune,15-04-2015,Kings XI Punjab,Delhi Daredevils,Kings XI Punjab,bat,normal,0,Delhi Daredevils,0,5,MA Agarwal,Maharashtra Cricket Association Stadium,CB Gaffaney,K Srinath,\\r\\n529,IPL-2015,Visakhapatnam,16-04-2015,Sunrisers Hyderabad,Rajasthan Royals,Rajasthan Royals,field,normal,0,Rajasthan Royals,0,6,AM Rahane,Dr. Y.S. Rajasekhara Reddy ACA-VDCA Cricket Stadium,PG Pathak,S Ravi,\\r\\n530,IPL-2015,Mumbai,17-04-2015,Mumbai Indians,Chennai Super Kings,Mumbai Indians,bat,normal,0,Chennai Super Kings,0,6,A Nehra,Wankhede Stadium,AK Chaudhary,M Erasmus,\\r\\n531,IPL-2015,Visakhapatnam,18-04-2015,Delhi Daredevils,Sunrisers Hyderabad,Delhi Daredevils,bat,normal,0,Delhi Daredevils,4,0,JP Duminy,Dr. Y.S. Rajasekhara Reddy ACA-VDCA Cricket Stadium,PG Pathak,S Ravi,\\r\\n532,IPL-2015,Pune,18-04-2015,Kings XI Punjab,Kolkata Knight Riders,Kolkata Knight Riders,field,normal,0,Kolkata Knight Riders,0,4,AD Russell,Maharashtra Cricket Association Stadium,SD Fry,CK Nandan,\\r\\n533,IPL-2015,Ahmedabad,19-04-2015,Chennai Super Kings,Rajasthan Royals,Chennai Super Kings,bat,normal,0,Rajasthan Royals,0,8,AM Rahane,\"Sardar Patel Stadium, Motera\",AK Chaudhary,M Erasmus,\\r\\n534,IPL-2015,Bangalore,19-04-2015,Mumbai Indians,Royal Challengers Bangalore,Royal Challengers Bangalore,field,normal,0,Mumbai Indians,18,0,Harbhajan Singh,M Chinnaswamy Stadium,RK Illingworth,VA Kulkarni,\\r\\n535,IPL-2015,Delhi,20-04-2015,Delhi Daredevils,Kolkata Knight Riders,Kolkata Knight Riders,field,normal,0,Kolkata Knight Riders,0,6,UT Yadav,Feroz Shah Kotla,SD Fry,CB Gaffaney,\\r\\n536,IPL-2015,Ahmedabad,21-04-2015,Rajasthan Royals,Kings XI Punjab,Kings XI Punjab,field,tie,0,Kings XI Punjab,0,0,SE Marsh,\"Sardar Patel Stadium, Motera\",M Erasmus,S Ravi,\\r\\n537,IPL-2015,Visakhapatnam,22-04-2015,Sunrisers Hyderabad,Kolkata Knight Riders,Kolkata Knight Riders,field,normal,1,Sunrisers Hyderabad,16,0,DA Warner,Dr. Y.S. Rajasekhara Reddy ACA-VDCA Cricket Stadium,RK Illingworth,VA Kulkarni,\\r\\n538,IPL-2015,Bangalore,22-04-2015,Chennai Super Kings,Royal Challengers Bangalore,Royal Challengers Bangalore,field,normal,0,Chennai Super Kings,27,0,SK Raina,M Chinnaswamy Stadium,JD Cloete,C Shamshuddin,\\r\\n539,IPL-2015,Delhi,23-04-2015,Delhi Daredevils,Mumbai Indians,Mumbai Indians,field,normal,0,Delhi Daredevils,37,0,SS Iyer,Feroz Shah Kotla,SD Fry,CK Nandan,\\r\\n540,IPL-2015,Ahmedabad,24-04-2015,Rajasthan Royals,Royal Challengers Bangalore,Royal Challengers Bangalore,field,normal,0,Royal Challengers Bangalore,0,9,MA Starc,\"Sardar Patel Stadium, Motera\",M Erasmus,S Ravi,\\r\\n541,IPL-2015,Mumbai,25-04-2015,Mumbai Indians,Sunrisers Hyderabad,Mumbai Indians,bat,normal,0,Mumbai Indians,20,0,SL Malinga,Wankhede Stadium,HDPK Dharmasena,CB Gaffaney,\\r\\n542,IPL-2015,Chennai,25-04-2015,Chennai Super Kings,Kings XI Punjab,Chennai Super Kings,bat,normal,0,Chennai Super Kings,97,0,BB McCullum,\"MA Chidambaram Stadium, Chepauk\",JD Cloete,C Shamshuddin,\\r\\n543,IPL-2015,Delhi,26-04-2015,Delhi Daredevils,Royal Challengers Bangalore,Royal Challengers Bangalore,field,normal,0,Royal Challengers Bangalore,0,10,VR Aaron,Feroz Shah Kotla,M Erasmus,S Ravi,\\r\\n544,IPL-2015,Chandigarh,27-04-2015,Sunrisers Hyderabad,Kings XI Punjab,Kings XI Punjab,field,normal,0,Sunrisers Hyderabad,20,0,TA Boult,\"Punjab Cricket Association Stadium, Mohali\",HDPK Dharmasena,CB Gaffaney,\\r\\n545,IPL-2015,Kolkata,07-05-2015,Kolkata Knight Riders,Delhi Daredevils,Kolkata Knight Riders,bat,normal,0,Kolkata Knight Riders,13,0,PP Chawla,Eden Gardens,AK Chaudhary,M Erasmus,\\r\\n546,IPL-2015,Bangalore,29-04-2015,Royal Challengers Bangalore,Rajasthan Royals,Rajasthan Royals,field,no result,0,,0,0,,M Chinnaswamy Stadium,JD Cloete,PG Pathak,\\r\\n547,IPL-2015,Chennai,28-04-2015,Chennai Super Kings,Kolkata Knight Riders,Kolkata Knight Riders,field,normal,0,Chennai Super Kings,2,0,DJ Bravo,\"MA Chidambaram Stadium, Chepauk\",RM Deshpande,VA Kulkarni,\\r\\n548,IPL-2015,Delhi,01-05-2015,Kings XI Punjab,Delhi Daredevils,Delhi Daredevils,field,normal,0,Delhi Daredevils,0,9,NM Coulter-Nile,Feroz Shah Kotla,RK Illingworth,S Ravi,\\r\\n549,IPL-2015,Mumbai,01-05-2015,Mumbai Indians,Rajasthan Royals,Rajasthan Royals,field,normal,0,Mumbai Indians,8,0,AT Rayudu,Wankhede Stadium,HDPK Dharmasena,CK Nandan,\\r\\n550,IPL-2015,Bangalore,02-05-2015,Kolkata Knight Riders,Royal Challengers Bangalore,Royal Challengers Bangalore,field,normal,0,Royal Challengers Bangalore,0,7,Mandeep Singh,M Chinnaswamy Stadium,JD Cloete,PG Pathak,\\r\\n551,IPL-2015,Hyderabad,02-05-2015,Sunrisers Hyderabad,Chennai Super Kings,Chennai Super Kings,field,normal,0,Sunrisers Hyderabad,22,0,DA Warner,\"Rajiv Gandhi International Stadium, Uppal\",AK Chaudhary,K Srinivasan,\\r\\n552,IPL-2015,Chandigarh,03-05-2015,Mumbai Indians,Kings XI Punjab,Mumbai Indians,bat,normal,0,Mumbai Indians,23,0,LMP Simmons,\"Punjab Cricket Association Stadium, Mohali\",RK Illingworth,VA Kulkarni,\\r\\n553,IPL-2015,Mumbai,03-05-2015,Rajasthan Royals,Delhi Daredevils,Delhi Daredevils,field,normal,0,Rajasthan Royals,14,0,AM Rahane,Brabourne Stadium,HDPK Dharmasena,CB Gaffaney,\\r\\n554,IPL-2015,Chennai,04-05-2015,Chennai Super Kings,Royal Challengers Bangalore,Chennai Super Kings,bat,normal,0,Chennai Super Kings,24,0,SK Raina,\"MA Chidambaram Stadium, Chepauk\",C Shamshuddin,K Srinath,\\r\\n555,IPL-2015,Kolkata,04-05-2015,Kolkata Knight Riders,Sunrisers Hyderabad,Sunrisers Hyderabad,field,normal,0,Kolkata Knight Riders,35,0,UT Yadav,Eden Gardens,AK Chaudhary,M Erasmus,\\r\\n556,IPL-2015,Mumbai,05-05-2015,Delhi Daredevils,Mumbai Indians,Delhi Daredevils,bat,normal,0,Mumbai Indians,0,5,Harbhajan Singh,Wankhede Stadium,HDPK Dharmasena,CB Gaffaney,\\r\\n557,IPL-2015,Bangalore,06-05-2015,Royal Challengers Bangalore,Kings XI Punjab,Kings XI Punjab,field,normal,0,Royal Challengers Bangalore,138,0,CH Gayle,M Chinnaswamy Stadium,RK Illingworth,VA Kulkarni,\\r\\n558,IPL-2015,Mumbai,07-05-2015,Sunrisers Hyderabad,Rajasthan Royals,Rajasthan Royals,field,normal,0,Sunrisers Hyderabad,7,0,EJG Morgan,Brabourne Stadium,JD Cloete,C Shamshuddin,\\r\\n559,IPL-2015,Chennai,08-05-2015,Chennai Super Kings,Mumbai Indians,Chennai Super Kings,bat,normal,0,Mumbai Indians,0,6,HH Pandya,\"MA Chidambaram Stadium, Chepauk\",CB Gaffaney,CK Nandan,\\r\\n560,IPL-2015,Kolkata,09-05-2015,Kings XI Punjab,Kolkata Knight Riders,Kings XI Punjab,bat,normal,0,Kolkata Knight Riders,0,1,AD Russell,Eden Gardens,AK Chaudhary,HDPK Dharmasena,\\r\\n561,IPL-2015,Raipur,09-05-2015,Sunrisers Hyderabad,Delhi Daredevils,Sunrisers Hyderabad,bat,normal,0,Sunrisers Hyderabad,6,0,MC Henriques,Shaheed Veer Narayan Singh International Stadium,VA Kulkarni,S Ravi,\\r\\n562,IPL-2015,Mumbai,10-05-2015,Royal Challengers Bangalore,Mumbai Indians,Royal Challengers Bangalore,bat,normal,0,Royal Challengers Bangalore,39,0,AB de Villiers,Wankhede Stadium,JD Cloete,C Shamshuddin,\\r\\n563,IPL-2015,Chennai,10-05-2015,Chennai Super Kings,Rajasthan Royals,Chennai Super Kings,bat,normal,0,Chennai Super Kings,12,0,RA Jadeja,\"MA Chidambaram Stadium, Chepauk\",M Erasmus,CK Nandan,\\r\\n564,IPL-2015,Hyderabad,11-05-2015,Sunrisers Hyderabad,Kings XI Punjab,Sunrisers Hyderabad,bat,normal,0,Sunrisers Hyderabad,5,0,DA Warner,\"Rajiv Gandhi International Stadium, Uppal\",AK Chaudhary,HDPK Dharmasena,\\r\\n565,IPL-2015,Raipur,12-05-2015,Chennai Super Kings,Delhi Daredevils,Chennai Super Kings,bat,normal,0,Delhi Daredevils,0,6,Z Khan,Shaheed Veer Narayan Singh International Stadium,RK Illingworth,VA Kulkarni,\\r\\n566,IPL-2015,Chandigarh,13-05-2015,Kings XI Punjab,Royal Challengers Bangalore,Royal Challengers Bangalore,field,normal,0,Kings XI Punjab,22,0,AR Patel,\"Punjab Cricket Association Stadium, Mohali\",JD Cloete,C Shamshuddin,\\r\\n567,IPL-2015,Mumbai,14-05-2015,Mumbai Indians,Kolkata Knight Riders,Kolkata Knight Riders,field,normal,0,Mumbai Indians,5,0,HH Pandya,Wankhede Stadium,RK Illingworth,VA Kulkarni,\\r\\n568,IPL-2015,Hyderabad,15-05-2015,Sunrisers Hyderabad,Royal Challengers Bangalore,Sunrisers Hyderabad,bat,normal,1,Royal Challengers Bangalore,0,6,V Kohli,\"Rajiv Gandhi International Stadium, Uppal\",AK Chaudhary,HDPK Dharmasena,\\r\\n569,IPL-2015,Chandigarh,16-05-2015,Kings XI Punjab,Chennai Super Kings,Kings XI Punjab,bat,normal,0,Chennai Super Kings,0,7,P Negi,\"Punjab Cricket Association Stadium, Mohali\",CK Nandan,C Shamshuddin,\\r\\n570,IPL-2015,Mumbai,16-05-2015,Rajasthan Royals,Kolkata Knight Riders,Rajasthan Royals,bat,normal,0,Rajasthan Royals,9,0,SR Watson,Brabourne Stadium,RM Deshpande,RK Illingworth,\\r\\n571,IPL-2015,Bangalore,17-05-2015,Delhi Daredevils,Royal Challengers Bangalore,Royal Challengers Bangalore,field,no result,0,,0,0,,M Chinnaswamy Stadium,HDPK Dharmasena,K Srinivasan,\\r\\n572,IPL-2015,Hyderabad,17-05-2015,Sunrisers Hyderabad,Mumbai Indians,Sunrisers Hyderabad,bat,normal,0,Mumbai Indians,0,9,MJ McClenaghan,\"Rajiv Gandhi International Stadium, Uppal\",CB Gaffaney,K Srinath,\\r\\n573,IPL-2015,Mumbai,19-05-2015,Mumbai Indians,Chennai Super Kings,Mumbai Indians,bat,normal,0,Mumbai Indians,25,0,KA Pollard,Wankhede Stadium,HDPK Dharmasena,RK Illingworth,\\r\\n574,IPL-2015,Pune,20-05-2015,Royal Challengers Bangalore,Rajasthan Royals,Royal Challengers Bangalore,bat,normal,0,Royal Challengers Bangalore,71,0,AB de Villiers,Maharashtra Cricket Association Stadium,AK Chaudhary,C Shamshuddin,\\r\\n575,IPL-2015,Ranchi,22-05-2015,Royal Challengers Bangalore,Chennai Super Kings,Chennai Super Kings,field,normal,0,Chennai Super Kings,0,3,A Nehra,JSCA International Stadium Complex,AK Chaudhary,CB Gaffaney,\\r\\n576,IPL-2015,Kolkata,24-05-2015,Mumbai Indians,Chennai Super Kings,Chennai Super Kings,field,normal,0,Mumbai Indians,41,0,RG Sharma,Eden Gardens,HDPK Dharmasena,RK Illingworth,\\r\\n577,IPL-2016,Mumbai,09-04-2016,Mumbai Indians,Rising Pune Supergiants,Mumbai Indians,bat,normal,0,Rising Pune Supergiants,0,9,AM Rahane,Wankhede Stadium,HDPK Dharmasena,CK Nandan,\\r\\n578,IPL-2016,Kolkata,10-04-2016,Delhi Daredevils,Kolkata Knight Riders,Kolkata Knight Riders,field,normal,0,Kolkata Knight Riders,0,9,AD Russell,Eden Gardens,S Ravi,C Shamshuddin,\\r\\n579,IPL-2016,Chandigarh,11-04-2016,Kings XI Punjab,Gujarat Lions,Gujarat Lions,field,normal,0,Gujarat Lions,0,5,AJ Finch,\"Punjab Cricket Association IS Bindra Stadium, Mohali\",AK Chaudhary,VA Kulkarni,\\r\\n580,IPL-2016,Bangalore,12-04-2016,Royal Challengers Bangalore,Sunrisers Hyderabad,Sunrisers Hyderabad,field,normal,0,Royal Challengers Bangalore,45,0,AB de Villiers,M Chinnaswamy Stadium,HDPK Dharmasena,VK Sharma,\\r\\n581,IPL-2016,Kolkata,13-04-2016,Kolkata Knight Riders,Mumbai Indians,Mumbai Indians,field,normal,0,Mumbai Indians,0,6,RG Sharma,Eden Gardens,Nitin Menon,S Ravi,\\r\\n582,IPL-2016,Rajkot,14-04-2016,Rising Pune Supergiants,Gujarat Lions,Rising Pune Supergiants,bat,normal,0,Gujarat Lions,0,7,AJ Finch,Saurashtra Cricket Association Stadium,VA Kulkarni,CK Nandan,\\r\\n583,IPL-2016,Delhi,15-04-2016,Kings XI Punjab,Delhi Daredevils,Delhi Daredevils,field,normal,0,Delhi Daredevils,0,8,A Mishra,Feroz Shah Kotla,S Ravi,C Shamshuddin,\\r\\n584,IPL-2016,Hyderabad,16-04-2016,Sunrisers Hyderabad,Kolkata Knight Riders,Sunrisers Hyderabad,bat,normal,0,Kolkata Knight Riders,0,8,G Gambhir,\"Rajiv Gandhi International Stadium, Uppal\",AK Chaudhary,CK Nandan,\\r\\n585,IPL-2016,Mumbai,16-04-2016,Mumbai Indians,Gujarat Lions,Gujarat Lions,field,normal,0,Gujarat Lions,0,3,AJ Finch,Wankhede Stadium,HDPK Dharmasena,VK Sharma,\\r\\n586,IPL-2016,Chandigarh,17-04-2016,Rising Pune Supergiants,Kings XI Punjab,Rising Pune Supergiants,bat,normal,0,Kings XI Punjab,0,6,M Vohra,\"Punjab Cricket Association IS Bindra Stadium, Mohali\",S Ravi,C Shamshuddin,\\r\\n587,IPL-2016,Bangalore,17-04-2016,Royal Challengers Bangalore,Delhi Daredevils,Delhi Daredevils,field,normal,0,Delhi Daredevils,0,7,Q de Kock,M Chinnaswamy Stadium,VA Kulkarni,A Nand Kishore,\\r\\n588,IPL-2016,Hyderabad,18-04-2016,Mumbai Indians,Sunrisers Hyderabad,Sunrisers Hyderabad,field,normal,0,Sunrisers Hyderabad,0,7,DA Warner,\"Rajiv Gandhi International Stadium, Uppal\",HDPK Dharmasena,VK Sharma,\\r\\n589,IPL-2016,Chandigarh,19-04-2016,Kings XI Punjab,Kolkata Knight Riders,Kolkata Knight Riders,field,normal,0,Kolkata Knight Riders,0,6,RV Uthappa,\"Punjab Cricket Association IS Bindra Stadium, Mohali\",S Ravi,C Shamshuddin,\\r\\n590,IPL-2016,Mumbai,20-04-2016,Royal Challengers Bangalore,Mumbai Indians,Mumbai Indians,field,normal,0,Mumbai Indians,0,6,RG Sharma,Wankhede Stadium,AK Chaudhary,CK Nandan,\\r\\n591,IPL-2016,Rajkot,21-04-2016,Gujarat Lions,Sunrisers Hyderabad,Sunrisers Hyderabad,field,normal,0,Sunrisers Hyderabad,0,10,B Kumar,Saurashtra Cricket Association Stadium,K Bharatan,HDPK Dharmasena,\\r\\n592,IPL-2016,Pune,22-04-2016,Royal Challengers Bangalore,Rising Pune Supergiants,Rising Pune Supergiants,field,normal,0,Royal Challengers Bangalore,13,0,AB de Villiers,Maharashtra Cricket Association Stadium,CB Gaffaney,VK Sharma,\\r\\n593,IPL-2016,Delhi,23-04-2016,Delhi Daredevils,Mumbai Indians,Mumbai Indians,field,normal,0,Delhi Daredevils,10,0,SV Samson,Feroz Shah Kotla,S Ravi,C Shamshuddin,\\r\\n594,IPL-2016,Hyderabad,23-04-2016,Kings XI Punjab,Sunrisers Hyderabad,Sunrisers Hyderabad,field,normal,0,Sunrisers Hyderabad,0,5,Mustafizur Rahman,\"Rajiv Gandhi International Stadium, Uppal\",AK Chaudhary,CK Nandan,\\r\\n595,IPL-2016,Rajkot,24-04-2016,Royal Challengers Bangalore,Gujarat Lions,Royal Challengers Bangalore,bat,normal,0,Gujarat Lions,0,6,V Kohli,Saurashtra Cricket Association Stadium,K Bharatan,BNJ Oxenford,\\r\\n596,IPL-2016,Pune,24-04-2016,Rising Pune Supergiants,Kolkata Knight Riders,Kolkata Knight Riders,field,normal,0,Kolkata Knight Riders,0,2,SA Yadav,Maharashtra Cricket Association Stadium,CB Gaffaney,A Nand Kishore,\\r\\n597,IPL-2016,Chandigarh,25-04-2016,Mumbai Indians,Kings XI Punjab,Kings XI Punjab,field,normal,0,Mumbai Indians,25,0,PA Patel,\"Punjab Cricket Association IS Bindra Stadium, Mohali\",Nitin Menon,RJ Tucker,\\r\\n598,IPL-2016,Hyderabad,26-04-2016,Sunrisers Hyderabad,Rising Pune Supergiants,Rising Pune Supergiants,field,normal,1,Rising Pune Supergiants,34,0,AB Dinda,\"Rajiv Gandhi International Stadium, Uppal\",AY Dandekar,CK Nandan,\\r\\n599,IPL-2016,Delhi,27-04-2016,Gujarat Lions,Delhi Daredevils,Delhi Daredevils,field,normal,0,Gujarat Lions,1,0,CH Morris,Feroz Shah Kotla,M Erasmus,S Ravi,\\r\\n600,IPL-2016,Mumbai,28-04-2016,Kolkata Knight Riders,Mumbai Indians,Mumbai Indians,field,normal,0,Mumbai Indians,0,6,RG Sharma,Wankhede Stadium,Nitin Menon,RJ Tucker,\\r\\n601,IPL-2016,Pune,29-04-2016,Rising Pune Supergiants,Gujarat Lions,Gujarat Lions,field,normal,0,Gujarat Lions,0,3,DR Smith,Maharashtra Cricket Association Stadium,CB Gaffaney,BNJ Oxenford,\\r\\n602,IPL-2016,Delhi,30-04-2016,Delhi Daredevils,Kolkata Knight Riders,Kolkata Knight Riders,field,normal,0,Delhi Daredevils,27,0,CR Brathwaite,Feroz Shah Kotla,KN Ananthapadmanabhan,M Erasmus,\\r\\n603,IPL-2016,Hyderabad,30-04-2016,Sunrisers Hyderabad,Royal Challengers Bangalore,Royal Challengers Bangalore,field,normal,0,Sunrisers Hyderabad,15,0,DA Warner,\"Rajiv Gandhi International Stadium, Uppal\",AK Chaudhary,HDPK Dharmasena,\\r\\n604,IPL-2016,Rajkot,01-05-2016,Kings XI Punjab,Gujarat Lions,Gujarat Lions,field,normal,0,Kings XI Punjab,23,0,AR Patel,Saurashtra Cricket Association Stadium,BNJ Oxenford,VK Sharma,\\r\\n605,IPL-2016,Pune,01-05-2016,Rising Pune Supergiants,Mumbai Indians,Mumbai Indians,field,normal,0,Mumbai Indians,0,8,RG Sharma,Maharashtra Cricket Association Stadium,AY Dandekar,RJ Tucker,\\r\\n606,IPL-2016,Bangalore,02-05-2016,Royal Challengers Bangalore,Kolkata Knight Riders,Kolkata Knight Riders,field,normal,0,Kolkata Knight Riders,0,5,AD Russell,M Chinnaswamy Stadium,M Erasmus,S Ravi,\\r\\n607,IPL-2016,Rajkot,03-05-2016,Gujarat Lions,Delhi Daredevils,Delhi Daredevils,field,normal,0,Delhi Daredevils,0,8,RR Pant,Saurashtra Cricket Association Stadium,CB Gaffaney,BNJ Oxenford,\\r\\n608,IPL-2016,Kolkata,04-05-2016,Kolkata Knight Riders,Kings XI Punjab,Kings XI Punjab,field,normal,0,Kolkata Knight Riders,7,0,AD Russell,Eden Gardens,AK Chaudhary,HDPK Dharmasena,\\r\\n609,IPL-2016,Delhi,05-05-2016,Delhi Daredevils,Rising Pune Supergiants,Rising Pune Supergiants,field,normal,0,Rising Pune Supergiants,0,7,AM Rahane,Feroz Shah Kotla,C Shamshuddin,RJ Tucker,\\r\\n610,IPL-2016,Hyderabad,06-05-2016,Gujarat Lions,Sunrisers Hyderabad,Sunrisers Hyderabad,field,normal,0,Sunrisers Hyderabad,0,5,B Kumar,\"Rajiv Gandhi International Stadium, Uppal\",M Erasmus,S Ravi,\\r\\n611,IPL-2016,Bangalore,07-05-2016,Rising Pune Supergiants,Royal Challengers Bangalore,Royal Challengers Bangalore,field,normal,0,Royal Challengers Bangalore,0,7,V Kohli,M Chinnaswamy Stadium,CB Gaffaney,BNJ Oxenford,\\r\\n612,IPL-2016,Chandigarh,07-05-2016,Kings XI Punjab,Delhi Daredevils,Delhi Daredevils,field,normal,0,Kings XI Punjab,9,0,MP Stoinis,\"Punjab Cricket Association IS Bindra Stadium, Mohali\",HDPK Dharmasena,CK Nandan,\\r\\n613,IPL-2016,Visakhapatnam,08-05-2016,Sunrisers Hyderabad,Mumbai Indians,Mumbai Indians,field,normal,0,Sunrisers Hyderabad,85,0,A Nehra,Dr. Y.S. Rajasekhara Reddy ACA-VDCA Cricket Stadium,S Ravi,C Shamshuddin,\\r\\n614,IPL-2016,Kolkata,08-05-2016,Kolkata Knight Riders,Gujarat Lions,Gujarat Lions,field,normal,0,Gujarat Lions,0,5,P Kumar,Eden Gardens,M Erasmus,RJ Tucker,\\r\\n615,IPL-2016,Chandigarh,09-05-2016,Royal Challengers Bangalore,Kings XI Punjab,Kings XI Punjab,field,normal,0,Royal Challengers Bangalore,1,0,SR Watson,\"Punjab Cricket Association IS Bindra Stadium, Mohali\",AK Chaudhary,HDPK Dharmasena,\\r\\n616,IPL-2016,Visakhapatnam,10-05-2016,Sunrisers Hyderabad,Rising Pune Supergiants,Sunrisers Hyderabad,bat,normal,0,Sunrisers Hyderabad,4,0,A Zampa,Dr. Y.S. Rajasekhara Reddy ACA-VDCA Cricket Stadium,CB Gaffaney,VK Sharma,\\r\\n617,IPL-2016,Bangalore,11-05-2016,Royal Challengers Bangalore,Mumbai Indians,Mumbai Indians,field,normal,0,Mumbai Indians,0,6,KH Pandya,M Chinnaswamy Stadium,AY Dandekar,C Shamshuddin,\\r\\n618,IPL-2016,Hyderabad,12-05-2016,Sunrisers Hyderabad,Delhi Daredevils,Delhi Daredevils,field,normal,0,Delhi Daredevils,0,7,CH Morris,\"Rajiv Gandhi International Stadium, Uppal\",K Bharatan,M Erasmus,\\r\\n619,IPL-2016,Visakhapatnam,13-05-2016,Mumbai Indians,Kings XI Punjab,Mumbai Indians,bat,normal,0,Kings XI Punjab,0,7,MP Stoinis,Dr. Y.S. Rajasekhara Reddy ACA-VDCA Cricket Stadium,HDPK Dharmasena,CK Nandan,\\r\\n620,IPL-2016,Bangalore,14-05-2016,Royal Challengers Bangalore,Gujarat Lions,Gujarat Lions,field,normal,0,Royal Challengers Bangalore,144,0,AB de Villiers,M Chinnaswamy Stadium,AY Dandekar,VK Sharma,\\r\\n621,IPL-2016,Kolkata,14-05-2016,Rising Pune Supergiants,Kolkata Knight Riders,Rising Pune Supergiants,bat,normal,1,Kolkata Knight Riders,0,8,YK Pathan,Eden Gardens,A Nand Kishore,BNJ Oxenford,\\r\\n622,IPL-2016,Chandigarh,15-05-2016,Kings XI Punjab,Sunrisers Hyderabad,Kings XI Punjab,bat,normal,0,Sunrisers Hyderabad,0,7,HM Amla,\"Punjab Cricket Association IS Bindra Stadium, Mohali\",KN Ananthapadmanabhan,M Erasmus,\\r\\n623,IPL-2016,Visakhapatnam,15-05-2016,Mumbai Indians,Delhi Daredevils,Delhi Daredevils,field,normal,0,Mumbai Indians,80,0,KH Pandya,Dr. Y.S. Rajasekhara Reddy ACA-VDCA Cricket Stadium,Nitin Menon,CK Nandan,\\r\\n624,IPL-2016,Kolkata,16-05-2016,Kolkata Knight Riders,Royal Challengers Bangalore,Royal Challengers Bangalore,field,normal,0,Royal Challengers Bangalore,0,9,V Kohli,Eden Gardens,CB Gaffaney,A Nand Kishore,\\r\\n625,IPL-2016,Visakhapatnam,17-05-2016,Delhi Daredevils,Rising Pune Supergiants,Rising Pune Supergiants,field,normal,1,Rising Pune Supergiants,19,0,AB Dinda,Dr. Y.S. Rajasekhara Reddy ACA-VDCA Cricket Stadium,Nitin Menon,C Shamshuddin,\\r\\n626,IPL-2016,Bangalore,18-05-2016,Royal Challengers Bangalore,Kings XI Punjab,Kings XI Punjab,field,normal,1,Royal Challengers Bangalore,82,0,V Kohli,M Chinnaswamy Stadium,KN Ananthapadmanabhan,M Erasmus,\\r\\n627,IPL-2016,Kanpur,19-05-2016,Kolkata Knight Riders,Gujarat Lions,Gujarat Lions,field,normal,0,Gujarat Lions,0,6,DR Smith,Green Park,AK Chaudhary,CK Nandan,\\r\\n628,IPL-2016,Raipur,20-05-2016,Sunrisers Hyderabad,Delhi Daredevils,Delhi Daredevils,field,normal,0,Delhi Daredevils,0,6,KK Nair,Shaheed Veer Narayan Singh International Stadium,A Nand Kishore,BNJ Oxenford,\\r\\n629,IPL-2016,Visakhapatnam,21-05-2016,Kings XI Punjab,Rising Pune Supergiants,Kings XI Punjab,bat,normal,0,Rising Pune Supergiants,0,4,MS Dhoni,Dr. Y.S. Rajasekhara Reddy ACA-VDCA Cricket Stadium,HDPK Dharmasena,Nitin Menon,\\r\\n630,IPL-2016,Kanpur,21-05-2016,Mumbai Indians,Gujarat Lions,Gujarat Lions,field,normal,0,Gujarat Lions,0,6,SK Raina,Green Park,AK Chaudhary,CK Nandan,\\r\\n631,IPL-2016,Kolkata,22-05-2016,Kolkata Knight Riders,Sunrisers Hyderabad,Sunrisers Hyderabad,field,normal,0,Kolkata Knight Riders,22,0,YK Pathan,Eden Gardens,KN Ananthapadmanabhan,M Erasmus,\\r\\n632,IPL-2016,Raipur,22-05-2016,Delhi Daredevils,Royal Challengers Bangalore,Royal Challengers Bangalore,field,normal,0,Royal Challengers Bangalore,0,6,V Kohli,Shaheed Veer Narayan Singh International Stadium,A Nand Kishore,BNJ Oxenford,\\r\\n633,IPL-2016,Bangalore,24-05-2016,Gujarat Lions,Royal Challengers Bangalore,Royal Challengers Bangalore,field,normal,0,Royal Challengers Bangalore,0,4,AB de Villiers,M Chinnaswamy Stadium,AK Chaudhary,HDPK Dharmasena,\\r\\n634,IPL-2016,Delhi,25-05-2016,Sunrisers Hyderabad,Kolkata Knight Riders,Kolkata Knight Riders,field,normal,0,Sunrisers Hyderabad,22,0,MC Henriques,Feroz Shah Kotla,M Erasmus,C Shamshuddin,\\r\\n635,IPL-2016,Delhi,27-05-2016,Gujarat Lions,Sunrisers Hyderabad,Sunrisers Hyderabad,field,normal,0,Sunrisers Hyderabad,0,4,DA Warner,Feroz Shah Kotla,M Erasmus,CK Nandan,\\r\\n636,IPL-2016,Bangalore,29-05-2016,Sunrisers Hyderabad,Royal Challengers Bangalore,Sunrisers Hyderabad,bat,normal,0,Sunrisers Hyderabad,8,0,BCJ Cutting,M Chinnaswamy Stadium,HDPK Dharmasena,BNJ Oxenford,\\r\\n7894,IPL-2018,Mumbai,07-04-2018,Mumbai Indians,Chennai Super Kings,Chennai Super Kings,field,normal,0,Chennai Super Kings,0,1,DJ Bravo,Wankhede Stadium,Chris Gaffaney,A Nanda Kishore,Anil Chaudhary\\r\\n7895,IPL-2018,Mohali,08-04-2018,Delhi Daredevils,Kings XI Punjab,Kings XI Punjab,field,normal,0,Kings XI Punjab,0,6,KL Rahul,\"Punjab Cricket Association IS Bindra Stadium, Mohali\",Rod Tucker,K Ananthapadmanabhan,Nitin Menon\\r\\n7896,IPL-2018,Kolkata,08-04-2018,Royal Challengers Bangalore,Kolkata Knight Riders,Kolkata Knight Riders,field,normal,0,Kolkata Knight Riders,0,4,SP Narine,Eden Gardens,C Shamshuddin,A.D Deshmukh,S Ravi\\r\\n7897,IPL-2018,Hyderabad,09-04-2018,Rajasthan Royals,Sunrisers Hyderabad,Sunrisers Hyderabad,field,normal,0,Sunrisers Hyderabad,0,9,S Dhawan,\"Rajiv Gandhi International Stadium, Uppal\",Nigel Llong,Vineet Kulkarni,O Nandan\\r\\n7898,IPL-2018,Chennai,10-04-2018,Kolkata Knight Riders,Chennai Super Kings,Chennai Super Kings,field,normal,0,Chennai Super Kings,0,5,SW Billings,\"MA Chidambaram Stadium, Chepauk\",Anil Chaudhary,Chris Gaffaney,A Nanda Kishore\\r\\n7899,IPL-2018,Jaipur,11-04-2018,Rajasthan Royals,Delhi Daredevils,Delhi Daredevils,field,normal,1,Rajasthan Royals,10,0,SV Samson,Sawai Mansingh Stadium,K Ananthapadmanabhan,Rod Tucker,Nitin Menon\\r\\n7900,IPL-2018,Hyderabad,12-04-2018,Mumbai Indians,Sunrisers Hyderabad,Sunrisers Hyderabad,field,normal,0,Sunrisers Hyderabad,0,1,Rashid Khan,\"Rajiv Gandhi International Stadium, Uppal\",O Nandan,Nigel Llong,Vineet Kulkarni\\r\\n7901,IPL-2018,Bengaluru,13-04-2018,Kings XI Punjab,Royal Challengers Bangalore,Royal Challengers Bangalore,field,normal,0,Royal Challengers Bangalore,0,4,UT Yadav,M Chinnaswamy Stadium,S Ravi,A.D Deshmukh,C Shamshuddin\\r\\n7902,IPL-2018,Mumbai,14-04-2018,Mumbai Indians,Delhi Daredevils,Delhi Daredevils,field,normal,0,Delhi Daredevils,0,7,JJ Roy,Wankhede Stadium,K Ananthapadmanabhan,Nitin Menon,Rod Tucker\\r\\n7903,IPL-2018,Kolkata,14-04-2018,Kolkata Knight Riders,Sunrisers Hyderabad,Sunrisers Hyderabad,field,normal,0,Sunrisers Hyderabad,0,5,B Stanlake,Eden Gardens,A Nanda Kishore,Anil Chaudhary,Chris Gaffaney\\r\\n7904,IPL-2018,Bengaluru,15-04-2018,Rajasthan Royals,Royal Challengers Bangalore,Royal Challengers Bangalore,field,normal,0,Rajasthan Royals,19,0,SV Samson,M Chinnaswamy Stadium,C Shamshuddin,S Ravi,A.D Deshmukh\\r\\n7905,IPL-2018,Mohali,15-04-2018,Kings XI Punjab,Chennai Super Kings,Chennai Super Kings,field,normal,0,Kings XI Punjab,4,0,CH Gayle,\"Punjab Cricket Association IS Bindra Stadium, Mohali\",Vineet Kulkarni,O Nandan,Nigel Llong\\r\\n7906,IPL-2018,Kolkata,16-04-2018,Kolkata Knight Riders,Delhi Daredevils,Delhi Daredevils,field,normal,0,Kolkata Knight Riders,71,0,N Rana,Eden Gardens,Anil Chaudhary,A Nanda Kishore,Chris Gaffaney\\r\\n7907,IPL-2018,Mumbai,17-04-2018,Mumbai Indians,Royal Challengers Bangalore,Royal Challengers Bangalore,field,normal,0,Mumbai Indians,46,0,RG Sharma,Wankhede Stadium,Rod Tucker,Nitin Menon,K Ananthapadmanabhan\\r\\n7908,IPL-2018,Jaipur,18-04-2018,Rajasthan Royals,Kolkata Knight Riders,Kolkata Knight Riders,field,normal,0,Kolkata Knight Riders,0,7,N Rana,Sawai Mansingh Stadium,S Ravi,A.D Deshmukh,C Shamshuddin\\r\\n7909,IPL-2018,Mohali,19-04-2018,Kings XI Punjab,Sunrisers Hyderabad,Kings XI Punjab,bat,normal,0,Kings XI Punjab,15,0,CH Gayle,\"Punjab Cricket Association IS Bindra Stadium, Mohali\",Nigel Llong,Anil Chaudhary,Vineet Kulkarni\\r\\n7910,IPL-2018,Pune,20-04-2018,Chennai Super Kings,Rajasthan Royals,Rajasthan Royals,field,normal,0,Chennai Super Kings,64,0,SR Watson,Maharashtra Cricket Association Stadium,Nitin Menon,K Ananthapadmanabhan,Rod Tucker\\r\\n7911,IPL-2018,Kolkata,21-04-2018,Kolkata Knight Riders,Kings XI Punjab,Kings XI Punjab,field,normal,1,Kings XI Punjab,0,9,KL Rahul,Eden Gardens,C Shamshuddin,A.D Deshmukh,S Ravi\\r\\n7912,IPL-2018,Bengaluru,21-04-2018,Delhi Daredevils,Royal Challengers Bangalore,Royal Challengers Bangalore,field,normal,0,Royal Challengers Bangalore,0,6,AB de Villiers,M Chinnaswamy Stadium,Chris Gaffaney,O Nandan,A Nanda Kishore\\r\\n7913,IPL-2018,Hyderabad,22-04-2018,Chennai Super Kings,Sunrisers Hyderabad,Sunrisers Hyderabad,field,normal,0,Chennai Super Kings,4,0,AT Rayudu,\"Rajiv Gandhi International Stadium, Uppal\",Anil Chaudhary,Vineet Kulkarni,Nigel Llong\\r\\n7914,IPL-2018,Jaipur,22-04-2018,Mumbai Indians,Rajasthan Royals,Mumbai Indians,bat,normal,0,Rajasthan Royals,0,3,J Archer,Sawai Mansingh Stadium,Rod Tucker,K Ananthapadmanabhan,Nitin Menon\\r\\n7915,IPL-2018,Delhi,23-04-2018,Kings XI Punjab,Delhi Daredevils,Delhi Daredevils,field,normal,0,Kings XI Punjab,4,0,AS Rajpoot,Feroz Shah Kotla,O Nandan,A Nanda Kishore,Chris Gaffaney\\r\\n7916,IPL-2018,Mumbai,24-04-2018,Sunrisers Hyderabad,Mumbai Indians,Mumbai Indians,field,normal,0,Sunrisers Hyderabad,31,0,Rashid Khan,Wankhede Stadium,C Shamshuddin,S Ravi,A.D Deshmukh\\r\\n7917,IPL-2018,Bengaluru,25-04-2018,Royal Challengers Bangalore,Chennai Super Kings,Chennai Super Kings,field,normal,0,Chennai Super Kings,0,5,MS Dhoni,M Chinnaswamy Stadium,Nigel Llong,Virender Kumar Sharma,Anil Chaudhary\\r\\n7918,IPL-2018,Hyderabad,26-04-2018,Sunrisers Hyderabad,Kings XI Punjab,Kings XI Punjab,field,normal,0,Sunrisers Hyderabad,13,0,AS Rajpoot,\"Rajiv Gandhi International Stadium, Uppal\",O Nandan,Yeshwant Barde,Rod Tucker\\r\\n7919,IPL-2018,Delhi,27-04-2018,Delhi Daredevils,Kolkata Knight Riders,Kolkata Knight Riders,field,normal,0,Delhi Daredevils,55,0,SS Iyer,Feroz Shah Kotla,C Shamshuddin,S Ravi,A Nanda Kishore\\r\\n7920,IPL-2018,Pune,28-04-2018,Chennai Super Kings,Mumbai Indians,Mumbai Indians,field,normal,0,Mumbai Indians,0,8,RG Sharma,Maharashtra Cricket Association Stadium,Chris Gaffaney,Nitin Menon,Anil Dandekar\\r\\n7921,IPL-2018,Jaipur,29-04-2018,Sunrisers Hyderabad,Rajasthan Royals,Sunrisers Hyderabad,bat,normal,0,Sunrisers Hyderabad,11,0,KS Williamson,Sawai Mansingh Stadium,Bruce Oxenford,A Nanda Kishore,S Ravi\\r\\n7922,IPL-2018,Bengaluru,29-04-2018,Royal Challengers Bangalore,Kolkata Knight Riders,Kolkata Knight Riders,field,normal,0,Kolkata Knight Riders,0,6,CA Lynn,M Chinnaswamy Stadium,Nigel Llong,Anil Chaudhary,Virender Kumar Sharma\\r\\n7923,IPL-2018,Pune,30-04-2018,Chennai Super Kings,Delhi Daredevils,Delhi Daredevils,field,normal,0,Chennai Super Kings,13,0,SR Watson,Maharashtra Cricket Association Stadium,C Shamshuddin,Anil Dandekar,O Nandan\\r\\n7924,IPL-2018,Bengaluru,01-05-2018,Royal Challengers Bangalore,Mumbai Indians,Mumbai Indians,field,normal,0,Royal Challengers Bangalore,14,0,TG Southee,M Chinnaswamy Stadium,Marais Erasmus,Nitin Menon,Yeshwant Barde\\r\\n7925,IPL-2018,Delhi,02-05-2018,Delhi Daredevils,Rajasthan Royals,Rajasthan Royals,field,normal,1,Delhi Daredevils,4,0,RR Pant,Feroz Shah Kotla,O Nandan,Virender Kumar Sharma,Bruce Oxenford\\r\\n7926,IPL-2018,Kolkata,03-05-2018,Chennai Super Kings,Kolkata Knight Riders,Kolkata Knight Riders,field,normal,0,Kolkata Knight Riders,0,6,SP Narine,Eden Gardens,Kumar Dharmasena,A.D Deshmukh,Anil Chaudhary\\r\\n7927,IPL-2018,Indore,04-05-2018,Kings XI Punjab,Mumbai Indians,Mumbai Indians,field,normal,0,Mumbai Indians,0,6,AS Yadav,Holkar Cricket Stadium,S Ravi,Anil Dandekar,C Shamshuddin\\r\\n7928,IPL-2018,Pune,05-05-2018,Royal Challengers Bangalore,Chennai Super Kings,Chennai Super Kings,field,normal,0,Chennai Super Kings,0,6,RA Jadeja,Maharashtra Cricket Association Stadium,Nitin Menon,Yeshwant Barde,Marais Erasmus\\r\\n7929,IPL-2018,Hyderabad,05-05-2018,Delhi Daredevils,Sunrisers Hyderabad,Delhi Daredevils,bat,normal,0,Sunrisers Hyderabad,0,7,Rashid Khan,\"Rajiv Gandhi International Stadium, Uppal\",Bruce Oxenford,O Nandan,Virender Kumar Sharma\\r\\n7930,IPL-2018,Mumbai,06-05-2018,Mumbai Indians,Kolkata Knight Riders,Kolkata Knight Riders,field,normal,0,Mumbai Indians,13,0,HH Pandya,Wankhede Stadium,Kumar Dharmasena,A.D Deshmukh,Anil Chaudhary\\r\\n7931,IPL-2018,Indore,06-05-2018,Rajasthan Royals,Kings XI Punjab,Kings XI Punjab,field,normal,0,Kings XI Punjab,0,6,M Ur Rahman,Holkar Cricket Stadium,C Shamshuddin,S Ravi,Anil Dandekar\\r\\n7932,IPL-2018,Hyderabad,07-05-2018,Sunrisers Hyderabad,Royal Challengers Bangalore,Royal Challengers Bangalore,field,normal,0,Sunrisers Hyderabad,5,0,KS Williamson,\"Rajiv Gandhi International Stadium, Uppal\",Bruce Oxenford,Virender Kumar Sharma,O Nandan\\r\\n7933,IPL-2018,Jaipur,08-05-2018,Rajasthan Royals,Kings XI Punjab,Rajasthan Royals,bat,normal,0,Rajasthan Royals,15,0,JC Buttler,Sawai Mansingh Stadium,Marais Erasmus,Nitin Menon,Yeshwant Barde\\r\\n7934,IPL-2018,Kolkata,09-05-2018,Mumbai Indians,Kolkata Knight Riders,Kolkata Knight Riders,field,normal,0,Mumbai Indians,102,0,Ishan Kishan,Eden Gardens,Anil Chaudhary,K Ananthapadmanabhan,Kumar Dharmasena\\r\\n7935,IPL-2018,Delhi,10-05-2018,Delhi Daredevils,Sunrisers Hyderabad,Delhi Daredevils,bat,normal,0,Sunrisers Hyderabad,0,9,S Dhawan,Feroz Shah Kotla,C Shamshuddin,Anil Dandekar,S Ravi\\r\\n7936,IPL-2018,Jaipur,11-05-2018,Chennai Super Kings,Rajasthan Royals,Chennai Super Kings,bat,normal,0,Rajasthan Royals,0,4,JC Buttler,Sawai Mansingh Stadium,Marais Erasmus,Yeshwant Barde,Nitin Menon\\r\\n7937,IPL-2018,Indore,12-05-2018,Kolkata Knight Riders,Kings XI Punjab,Kings XI Punjab,field,normal,0,Kolkata Knight Riders,31,0,SP Narine,Holkar Cricket Stadium,O Nandan,Virender Kumar Sharma,Bruce Oxenford\\r\\n7938,IPL-2018,Delhi,12-05-2018,Delhi Daredevils,Royal Challengers Bangalore,Royal Challengers Bangalore,field,normal,0,Royal Challengers Bangalore,0,5,AB de Villiers,Feroz Shah Kotla,Kumar Dharmasena,Anil Chaudhary,K Ananthapadmanabhan\\r\\n7939,IPL-2018,Pune,13-05-2018,Sunrisers Hyderabad,Chennai Super Kings,Chennai Super Kings,field,normal,0,Chennai Super Kings,0,8,AT Rayudu,Maharashtra Cricket Association Stadium,Marais Erasmus,Yeshwant Barde,Anil Dandekar\\r\\n7940,IPL-2018,Mumbai,13-05-2018,Mumbai Indians,Rajasthan Royals,Rajasthan Royals,field,normal,0,Rajasthan Royals,0,7,JC Buttler,Wankhede Stadium,Nitin Menon,S Ravi,C Shamshuddin\\r\\n7941,IPL-2018,Indore,14-05-2018,Kings XI Punjab,Royal Challengers Bangalore,Royal Challengers Bangalore,field,normal,0,Royal Challengers Bangalore,0,10,UT Yadav,Holkar Cricket Stadium,Bruce Oxenford,Virender Kumar Sharma,O Nandan\\r\\n7942,IPL-2018,Kolkata,15-05-2018,Rajasthan Royals,Kolkata Knight Riders,Kolkata Knight Riders,field,normal,0,Kolkata Knight Riders,0,6,Kuldeep Yadav,Eden Gardens,Kumar Dharmasena,Anil Chaudhary,Vineet Kulkarni\\r\\n7943,IPL-2018,Mumbai,16-05-2018,Mumbai Indians,Kings XI Punjab,Kings XI Punjab,field,normal,0,Mumbai Indians,3,0,JJ Bumrah,Wankhede Stadium,Marais Erasmus,Nitin Menon,Yeshwant Barde\\r\\n7944,IPL-2018,Bengaluru,17-05-2018,Royal Challengers Bangalore,Sunrisers Hyderabad,Sunrisers Hyderabad,field,normal,0,Royal Challengers Bangalore,14,0,AB de Villiers,M Chinnaswamy Stadium,S Ravi,Anil Dandekar,C Shamshuddin\\r\\n7945,IPL-2018,Delhi,18-05-2018,Delhi Daredevils,Chennai Super Kings,Chennai Super Kings,field,normal,0,Delhi Daredevils,34,0,HV Patel,Feroz Shah Kotla,Kumar Dharmasena,Vineet Kulkarni,O Nandan\\r\\n7946,IPL-2018,Jaipur,19-05-2018,Rajasthan Royals,Royal Challengers Bangalore,Rajasthan Royals,bat,normal,0,Rajasthan Royals,30,0,S Gopal,Sawai Mansingh Stadium,Bruce Oxenford,Virender Kumar Sharma,C Shamshuddin\\r\\n7947,IPL-2018,Hyderabad,19-05-2018,Sunrisers Hyderabad,Kolkata Knight Riders,Sunrisers Hyderabad,bat,normal,0,Kolkata Knight Riders,0,5,CA Lynn,\"Rajiv Gandhi International Stadium, Uppal\",Anil Chaudhary,S Ravi,Anil Dandekar\\r\\n7948,IPL-2018,Delhi,20-05-2018,Delhi Daredevils,Mumbai Indians,Delhi Daredevils,bat,normal,0,Delhi Daredevils,11,0,A Mishra,Feroz Shah Kotla,Kumar Dharmasena,O Nandan,Vineet Kulkarni\\r\\n7949,IPL-2018,Pune,20-05-2018,Kings XI Punjab,Chennai Super Kings,Chennai Super Kings,field,normal,0,Chennai Super Kings,0,5,L Ngidi,Maharashtra Cricket Association Stadium,Nitin Menon,Yeshwant Barde,Marais Erasmus\\r\\n7950,IPL-2018,Mumbai,22-05-2018,Sunrisers Hyderabad,Chennai Super Kings,Chennai Super Kings,field,normal,0,Chennai Super Kings,0,2,F du Plessis,Wankhede Stadium,Marais Erasmus,C Shamshuddin,S Ravi\\r\\n7951,IPL-2018,Kolkata,23-05-2018,Kolkata Knight Riders,Rajasthan Royals,Rajasthan Royals,field,normal,0,Kolkata Knight Riders,25,0,AD Russell,Eden Gardens,Nitin Menon,Anil Chaudhary,Kumar Dharmasena\\r\\n7952,IPL-2018,Kolkata,25-05-2018,Sunrisers Hyderabad,Kolkata Knight Riders,Kolkata Knight Riders,field,normal,0,Sunrisers Hyderabad,14,0,Rashid Khan,Eden Gardens,Nitin Menon,Kumar Dharmasena,Anil Chaudhary\\r\\n7953,IPL-2018,Mumbai,27-05-2018,Sunrisers Hyderabad,Chennai Super Kings,Chennai Super Kings,field,normal,0,Chennai Super Kings,0,8,SR Watson,Wankhede Stadium,Marais Erasmus,S Ravi,Nitin Menon\\r\\n11137,IPL-2019,Chennai,23-03-2019,Royal Challengers Bangalore,Chennai Super Kings,Chennai Super Kings,field,normal,0,Chennai Super Kings,0,7,Harbhajan Singh,M. A. Chidambaram Stadium,Bruce Oxenford,Anil Dandekar,Nitin Menon\\r\\n11138,IPL-2019,Kolkata,24-03-2019,Sunrisers Hyderabad,Kolkata Knight Riders,Kolkata Knight Riders,field,normal,0,Kolkata Knight Riders,0,6,AD Russell,Eden Gardens,Chris Gaffaney,Anil Chaudhary,Vineet Kulkarni\\r\\n11139,IPL-2019,Mumbai,24-03-2019,Delhi Capitals,Mumbai Indians,Mumbai Indians,field,normal,0,Delhi Capitals,37,0,RR Pant,Wankhede Stadium,S Ravi,Yeshwant Barde,O Nandan\\r\\n11140,IPL-2019,Jaipur,25-03-2019,Kings XI Punjab,Rajasthan Royals,Rajasthan Royals,field,normal,0,Kings XI Punjab,14,0,CH Gayle,Sawai Mansingh Stadium,C Shamshuddin,KN Anantapadmanabhan,Bruce Oxenford\\r\\n11141,IPL-2019,Delhi,26-03-2019,Delhi Capitals,Chennai Super Kings,Delhi Capitals,bat,normal,0,Chennai Super Kings,0,6,SR Watson,Feroz Shah Kotla Ground,Marais Erasmus,Nitin Menon,Anil Dandekar\\r\\n11142,IPL-2019,Kolkata,27-03-2019,Kolkata Knight Riders,Kings XI Punjab,Kings XI Punjab,field,normal,0,Kolkata Knight Riders,28,0,AD Russell,Eden Gardens,Anil Chaudhary,Vineet Kulkarni,Chris Gaffaney\\r\\n11143,IPL-2019,Bengaluru,28-03-2019,Mumbai Indians,Royal Challengers Bangalore,Royal Challengers Bangalore,field,normal,0,Mumbai Indians,6,0,JJ Bumrah,M. Chinnaswamy Stadium,S Ravi,O Nandan,Yeshwant Barde\\r\\n11144,IPL-2019,Hyderabad,29-03-2019,Rajasthan Royals,Sunrisers Hyderabad,Rajasthan Royals,bat,normal,0,Sunrisers Hyderabad,0,5,Rashid Khan,Rajiv Gandhi Intl. Cricket Stadium,Bruce Oxenford,C Shamshuddin,KN Anantapadmanabhan\\r\\n11145,IPL-2019,Mohali,30-03-2019,Mumbai Indians,Kings XI Punjab,Kings XI Punjab,field,normal,0,Kings XI Punjab,0,8,MA Agarwal,IS Bindra Stadium,Vineet Kulkarni,Chris Gaffaney,Anil Chaudhary\\r\\n11146,IPL-2019,Delhi,30-03-2019,Kolkata Knight Riders,Delhi Capitals,Delhi Capitals,field,tie,0,Delhi Capitals,0,0,P Shaw,Feroz Shah Kotla Ground,Anil Dandekar,Nitin Menon,Marais Erasmus\\r\\n11147,IPL-2019,Hyderabad,31-03-2019,Sunrisers Hyderabad,Royal Challengers Bangalore,Royal Challengers Bangalore,field,normal,0,Sunrisers Hyderabad,118,0,J Bairstow,Rajiv Gandhi Intl. Cricket Stadium,S Ravi,KN Anantapadmanabhan,C Shamshuddin\\r\\n11148,IPL-2019,Chennai,31-03-2019,Chennai Super Kings,Rajasthan Royals,Rajasthan Royals,field,normal,0,Chennai Super Kings,8,0,MS Dhoni,M. A. Chidambaram Stadium,O Nandan,Yeshwant Barde,Bruce Oxenford\\r\\n11149,IPL-2019,Mohali,01-04-2019,Kings XI Punjab,Delhi Capitals,Delhi Capitals,field,normal,0,Kings XI Punjab,14,0,S Curran,IS Bindra Stadium,Anil Chaudhary,Chris Gaffaney,Vineet Kulkarni\\r\\n11150,IPL-2019,Jaipur,02-04-2019,Royal Challengers Bangalore,Rajasthan Royals,Rajasthan Royals,field,normal,0,Rajasthan Royals,0,7,S Gopal,Sawai Mansingh Stadium,Marais Erasmus,Anil Dandekar,Nitin Menon\\r\\n11151,IPL-2019,Mumbai,03-04-2019,Mumbai Indians,Chennai Super Kings,Chennai Super Kings,field,normal,0,Mumbai Indians,37,0,HH Pandya,Wankhede Stadium,Bruce Oxenford,Rod Tucker,Yeshwant Barde\\r\\n11152,IPL-2019,Delhi,04-04-2019,Delhi Capitals,Sunrisers Hyderabad,Sunrisers Hyderabad,field,normal,0,Sunrisers Hyderabad,0,5,J Bairstow,Feroz Shah Kotla Ground,C Shamshuddin,KN Anantapadmanabhan,S Ravi\\r\\n11153,IPL-2019,Bengaluru,05-04-2019,Royal Challengers Bangalore,Kolkata Knight Riders,Kolkata Knight Riders,field,normal,0,Kolkata Knight Riders,0,5,AD Russell,M. Chinnaswamy Stadium,Anil Chaudhary,Chris Gaffaney,O Nandan\\r\\n11309,IPL-2019,Chennai,06-04-2019,Chennai Super Kings,Kings XI Punjab,Chennai Super Kings,bat,normal,0,Chennai Super Kings,22,0,Harbhajan Singh,M. A. Chidambaram Stadium,KN Ananthapadmanabhan,Rod Tucker,C Shamshuddin\\r\\n11310,IPL-2019,Hyderabad,06-04-2019,Mumbai Indians,Sunrisers Hyderabad,Sunrisers Hyderabad,field,normal,0,Mumbai Indians,40,0,A Joseph,Rajiv Gandhi Intl. Cricket Stadium,Anil Dandekar,Nitin Menon,Marais Erasmus\\r\\n11311,IPL-2019,Bengaluru,07-04-2019,Royal Challengers Bangalore,Delhi Capitals,Delhi Capitals,field,normal,0,Delhi Capitals,0,4,K Rabada,M. Chinnaswamy Stadium,S Ravi,Yeshwant Barde,O Nandan\\r\\n11312,IPL-2019,Jaipur,07-04-2019,Rajasthan Royals,Kolkata Knight Riders,Kolkata Knight Riders,field,normal,0,Kolkata Knight Riders,0,8,H Gurney,Sawai Mansingh Stadium,Chris Gaffaney,Anil Chaudhary,Bruce Oxenford\\r\\n11313,IPL-2019,Mohali,08-04-2019,Sunrisers Hyderabad,Kings XI Punjab,Kings XI Punjab,field,normal,0,Kings XI Punjab,0,6,KL Rahul,IS Bindra Stadium,Marais Erasmus,Anil Dandekar,Nitin Menon\\r\\n11314,IPL-2019,Chennai,09-04-2019,Kolkata Knight Riders,Chennai Super Kings,Chennai Super Kings,field,normal,0,Chennai Super Kings,0,7,DL Chahar,M. A. Chidambaram Stadium,Rod Tucker,C Shamshuddin,Ulhas Gandhe\\r\\n11315,IPL-2019,Mumbai,10-04-2019,Kings XI Punjab,Mumbai Indians,Mumbai Indians,field,normal,0,Mumbai Indians,0,3,KA Pollard,Wankhede Stadium,Yeshwant Barde,S Ravi,O Nandan\\r\\n11316,IPL-2019,Jaipur,11-04-2019,Rajasthan Royals,Chennai Super Kings,Chennai Super Kings,field,normal,0,Chennai Super Kings,0,4,MS Dhoni,Sawai Mansingh Stadium,Bruce Oxenford,Ulhas Gandhe,Chris Gaffaney\\r\\n11317,IPL-2019,Kolkata,12-04-2019,Kolkata Knight Riders,Delhi Capitals,Delhi Capitals,field,normal,0,Delhi Capitals,0,7,S Dhawan,Eden Gardens,Yeshwant Barde,O Nandan,Rod Tucker\\r\\n11318,IPL-2019,Mumbai,13-04-2019,Mumbai Indians,Rajasthan Royals,Rajasthan Royals,field,normal,0,Rajasthan Royals,0,4,JC Buttler,Wankhede Stadium,Nitin Menon,Nanda Kishore,Marais Erasmus\\r\\n11319,IPL-2019,Mohali,13-04-2019,Kings XI Punjab,Royal Challengers Bangalore,Royal Challengers Bangalore,field,normal,0,Royal Challengers Bangalore,0,8,AB de Villiers,IS Bindra Stadium,S Ravi,Ulhas Gandhe,Nigel Llong\\r\\n11320,IPL-2019,Kolkata,14-04-2019,Kolkata Knight Riders,Chennai Super Kings,Chennai Super Kings,field,normal,0,Chennai Super Kings,0,5,Imran Tahir,Eden Gardens,Rod Tucker,O Nandan,Yeshwant Barde\\r\\n11321,IPL-2019,Hyderabad,14-04-2019,Delhi Capitals,Sunrisers Hyderabad,Sunrisers Hyderabad,field,normal,0,Delhi Capitals,39,0,K Paul,Rajiv Gandhi Intl. Cricket Stadium,Anil Chaudhary,Bruce Oxenford,Chris Gaffaney\\r\\n11322,IPL-2019,Mumbai,15-04-2019,Royal Challengers Bangalore,Mumbai Indians,Mumbai Indians,field,normal,0,Mumbai Indians,0,5,SL Malinga,Wankhede Stadium,Marais Erasmus,Nitin Menon,Nanda Kishore\\r\\n11323,IPL-2019,Mohali,16-04-2019,Kings XI Punjab,Rajasthan Royals,Rajasthan Royals,field,normal,0,Kings XI Punjab,12,0,R Ashwin,IS Bindra Stadium,Anil Chaudhary,Vineet Kulkarni,S Ravi\\r\\n11324,IPL-2019,Hyderabad,17-04-2019,Chennai Super Kings,Sunrisers Hyderabad,Chennai Super Kings,bat,normal,0,Sunrisers Hyderabad,0,6,DA Warner,Rajiv Gandhi Intl. Cricket Stadium,Ian Gould,Ulhas Gandhe,C Shamshuddin\\r\\n11325,IPL-2019,Delhi,18-04-2019,Mumbai Indians,Delhi Capitals,Mumbai Indians,bat,normal,0,Mumbai Indians,40,0,HH Pandya,Feroz Shah Kotla Ground,Nigel Llong,Bruce Oxenford,Anil Chaudhary\\r\\n11326,IPL-2019,Kolkata,19-04-2019,Royal Challengers Bangalore,Kolkata Knight Riders,Kolkata Knight Riders,field,normal,0,Royal Challengers Bangalore,10,0,V Kohli,Eden Gardens,Ian Gould,Nitin Menon,Anil Dandekar\\r\\n11327,IPL-2019,Jaipur,20-04-2019,Mumbai Indians,Rajasthan Royals,Rajasthan Royals,field,normal,0,Rajasthan Royals,0,5,SPD Smith,Sawai Mansingh Stadium,S Ravi,Yeshwant Barde,O Nandan\\r\\n11328,IPL-2019,Delhi,20-04-2019,Kings XI Punjab,Delhi Capitals,Delhi Capitals,field,normal,0,Delhi Capitals,0,5,SS Iyer,Feroz Shah Kotla Ground,Ulhas Gandhe,C Shamshuddin,Bruce Oxenford\\r\\n11329,IPL-2019,Hyderabad,21-04-2019,Kolkata Knight Riders,Sunrisers Hyderabad,Sunrisers Hyderabad,field,normal,0,Sunrisers Hyderabad,0,9,K Ahmed,Rajiv Gandhi Intl. Cricket Stadium,Nitin Menon,Nigel Llong,Ian Gould\\r\\n11330,IPL-2019,Bengaluru,21-04-2019,Royal Challengers Bangalore,Chennai Super Kings,Chennai Super Kings,field,normal,0,Royal Challengers Bangalore,1,0,PA Patel,M. Chinnaswamy Stadium,Vineet Kulkarni,Rod Tucker,Anil Chaudhary\\r\\n11331,IPL-2019,Jaipur,22-04-2019,Rajasthan Royals,Delhi Capitals,Delhi Capitals,field,normal,0,Delhi Capitals,0,6,RR Pant,Sawai Mansingh Stadium,S Ravi,Nanda Kishore,Yeshwant Barde\\r\\n11332,IPL-2019,Chennai,23-04-2019,Sunrisers Hyderabad,Chennai Super Kings,Chennai Super Kings,field,normal,0,Chennai Super Kings,0,6,SR Watson,M. A. Chidambaram Stadium,Nigel Llong,Anil Chaudhary,Vineet Kulkarni\\r\\n11333,IPL-2019,Bengaluru,24-04-2019,Royal Challengers Bangalore,Kings XI Punjab,Kings XI Punjab,field,normal,0,Royal Challengers Bangalore,17,0,AB de Villiers,M. Chinnaswamy Stadium,Bruce Oxenford,C Shamshuddin,Rod Tucker\\r\\n11334,IPL-2019,Kolkata,25-04-2019,Kolkata Knight Riders,Rajasthan Royals,Rajasthan Royals,field,normal,0,Rajasthan Royals,0,3,VR Aaron,Eden Gardens,Ian Gould,Anil Dandekar,Nitin Menon\\r\\n11335,IPL-2019,Chennai,26-04-2019,Mumbai Indians,Chennai Super Kings,Chennai Super Kings,field,normal,0,Mumbai Indians,46,0,RG Sharma,M. A. Chidambaram Stadium,Nigel Llong,Anil Chaudhary,Vineet Kulkarni\\r\\n11336,IPL-2019,Jaipur,27-04-2019,Sunrisers Hyderabad,Rajasthan Royals,Rajasthan Royals,field,normal,0,Rajasthan Royals,0,7,JD Unadkat,Sawai Mansingh Stadium,Yeshwant Barde,Nand Kishore,Sundaram Ravi\\r\\n11337,IPL-2019,Delhi,28-04-2019,Delhi Capitals,Royal Challengers Bangalore,Delhi Capitals,bat,normal,0,Delhi Capitals,16,0,S Dhawan,Feroz Shah Kotla Ground,Bruce Oxenford,KN Ananthapadmanabhan,C Shamshuddin\\r\\n11338,IPL-2019,Kolkata,28-04-2019,Kolkata Knight Riders,Mumbai Indians,Mumbai Indians,field,normal,0,Kolkata Knight Riders,34,0,AD Russell,Eden Gardens,Ian Gould,Nitin Menon,Anil Dandekar\\r\\n11339,IPL-2019,Hyderabad,29-04-2019,Sunrisers Hyderabad,Kings XI Punjab,Kings XI Punjab,field,normal,0,Sunrisers Hyderabad,45,0,DA Warner,Rajiv Gandhi Intl. Cricket Stadium,S Ravi,O Nandan,Nanda Kishore\\r\\n11340,IPL-2019,Bengaluru,30-04-2019,Royal Challengers Bangalore,Rajasthan Royals,Rajasthan Royals,field,no result,0,,0,0,,M. Chinnaswamy Stadium,Nigel Llong,Ulhas Gandhe,Anil Chaudhary\\r\\n11341,IPL-2019,Chennai,01-05-2019,Chennai Super Kings,Delhi Capitals,Delhi Capitals,field,normal,0,Chennai Super Kings,80,0,MS Dhoni,M. A. Chidambaram Stadium,Anil Dandekar,Nitin Menon,Ian Gould\\r\\n11342,IPL-2019,Mumbai,02-05-2019,Mumbai Indians,Sunrisers Hyderabad,Mumbai Indians,bat,tie,0,Mumbai Indians,0,0,JJ Bumrah,Wankhede Stadium,S Ravi,O Nandan,Nanda Kishore\\r\\n11343,IPL-2019,Mohali,03-05-2019,Kings XI Punjab,Kolkata Knight Riders,Kolkata Knight Riders,field,normal,0,Kolkata Knight Riders,0,7,S Gill,IS Bindra Stadium,Bruce Oxenford,C Shamshuddin,KN Ananthapadmanabhan\\r\\n11344,IPL-2019,Delhi,04-05-2019,Rajasthan Royals,Delhi Capitals,Rajasthan Royals,bat,normal,0,Delhi Capitals,0,5,A Mishra,Feroz Shah Kotla Ground,Ian Gould,Anil Dandekar,Nitin Menon\\r\\n11345,IPL-2019,Bengaluru,04-05-2019,Sunrisers Hyderabad,Royal Challengers Bangalore,Royal Challengers Bangalore,field,normal,0,Royal Challengers Bangalore,0,4,S Hetmyer,M. Chinnaswamy Stadium,Nigel Llong,Anil Chaudhary,Ulhas Gandhe\\r\\n11346,IPL-2019,Mohali,05-05-2019,Chennai Super Kings,Kings XI Punjab,Kings XI Punjab,field,normal,0,Kings XI Punjab,0,6,KL Rahul,IS Bindra Stadium,KN Ananthapadmanabhan,C Shamshuddin,Bruce Oxenford\\r\\n11347,IPL-2019,Mumbai,05-05-2019,Kolkata Knight Riders,Mumbai Indians,Mumbai Indians,field,normal,0,Mumbai Indians,0,9,HH Pandya,Wankhede Stadium,Nanda Kishore,O Nandan,S Ravi\\r\\n11412,IPL-2019,Chennai,07-05-2019,Chennai Super Kings,Mumbai Indians,Chennai Super Kings,bat,normal,0,Mumbai Indians,0,6,AS Yadav,M. A. Chidambaram Stadium,Nigel Llong,Nitin Menon,Ian Gould\\r\\n11413,IPL-2019,Visakhapatnam,08-05-2019,Sunrisers Hyderabad,Delhi Capitals,Delhi Capitals,field,normal,0,Delhi Capitals,0,2,RR Pant,ACA-VDCA Stadium,,,\\r\\n11414,IPL-2019,Visakhapatnam,10-05-2019,Delhi Capitals,Chennai Super Kings,Chennai Super Kings,field,normal,0,Chennai Super Kings,0,6,F du Plessis,ACA-VDCA Stadium,Sundaram Ravi,Bruce Oxenford,Chettithody Shamshuddin\\r\\n11415,IPL-2019,Hyderabad,12-05-2019,Mumbai Indians,Chennai Super Kings,Mumbai Indians,bat,normal,0,Mumbai Indians,1,0,JJ Bumrah,Rajiv Gandhi Intl. Cricket Stadium,Nitin Menon,Ian Gould,Nigel Llong\\r\\n'}"
            ]
          },
          "metadata": {},
          "execution_count": 1
        }
      ],
      "source": [
        "import pandas as pd\n",
        "from sklearn.model_selection import train_test_split\n",
        "from sklearn.preprocessing import StandardScaler\n",
        "from sklearn.metrics import accuracy_score, precision_score, recall_score, f1_score, classification_report\n",
        "from sklearn.linear_model import LogisticRegression\n",
        "from sklearn.svm import SVC\n",
        "from sklearn.neighbors import KNeighborsClassifier\n",
        "from sklearn.tree import DecisionTreeClassifier\n",
        "from sklearn.ensemble import RandomForestClassifier\n",
        "from xgboost import XGBClassifier\n",
        "import warnings\n",
        "\n",
        "warnings.filterwarnings(\"ignore\")\n",
        "from google.colab import files\n",
        "files.upload()"
      ]
    },
    {
      "cell_type": "code",
      "execution_count": null,
      "id": "5d199b1d-501c-427b-8a5e-e48fac4e8007",
      "metadata": {
        "colab": {
          "base_uri": "https://localhost:8080/"
        },
        "id": "5d199b1d-501c-427b-8a5e-e48fac4e8007",
        "outputId": "a51d58a5-3e6a-43cc-c0bc-399a0cf9e148"
      },
      "outputs": [
        {
          "output_type": "stream",
          "name": "stdout",
          "text": [
            "        id    Season           city        date                        team1  \\\n",
            "0        1  IPL-2017      Hyderabad  05-04-2017          Sunrisers Hyderabad   \n",
            "1        2  IPL-2017           Pune  06-04-2017               Mumbai Indians   \n",
            "2        3  IPL-2017         Rajkot  07-04-2017                Gujarat Lions   \n",
            "3        4  IPL-2017         Indore  08-04-2017       Rising Pune Supergiant   \n",
            "4        5  IPL-2017      Bangalore  08-04-2017  Royal Challengers Bangalore   \n",
            "..     ...       ...            ...         ...                          ...   \n",
            "751  11347  IPL-2019         Mumbai  05-05-2019        Kolkata Knight Riders   \n",
            "752  11412  IPL-2019        Chennai  07-05-2019          Chennai Super Kings   \n",
            "753  11413  IPL-2019  Visakhapatnam  08-05-2019          Sunrisers Hyderabad   \n",
            "754  11414  IPL-2019  Visakhapatnam  10-05-2019               Delhi Capitals   \n",
            "755  11415  IPL-2019      Hyderabad  12-05-2019               Mumbai Indians   \n",
            "\n",
            "                           team2                  toss_winner toss_decision  \\\n",
            "0    Royal Challengers Bangalore  Royal Challengers Bangalore         field   \n",
            "1         Rising Pune Supergiant       Rising Pune Supergiant         field   \n",
            "2          Kolkata Knight Riders        Kolkata Knight Riders         field   \n",
            "3                Kings XI Punjab              Kings XI Punjab         field   \n",
            "4               Delhi Daredevils  Royal Challengers Bangalore           bat   \n",
            "..                           ...                          ...           ...   \n",
            "751               Mumbai Indians               Mumbai Indians         field   \n",
            "752               Mumbai Indians          Chennai Super Kings           bat   \n",
            "753               Delhi Capitals               Delhi Capitals         field   \n",
            "754          Chennai Super Kings          Chennai Super Kings         field   \n",
            "755          Chennai Super Kings               Mumbai Indians           bat   \n",
            "\n",
            "     result  dl_applied                       winner  win_by_runs  \\\n",
            "0    normal           0          Sunrisers Hyderabad           35   \n",
            "1    normal           0       Rising Pune Supergiant            0   \n",
            "2    normal           0        Kolkata Knight Riders            0   \n",
            "3    normal           0              Kings XI Punjab            0   \n",
            "4    normal           0  Royal Challengers Bangalore           15   \n",
            "..      ...         ...                          ...          ...   \n",
            "751  normal           0               Mumbai Indians            0   \n",
            "752  normal           0               Mumbai Indians            0   \n",
            "753  normal           0               Delhi Capitals            0   \n",
            "754  normal           0          Chennai Super Kings            0   \n",
            "755  normal           0               Mumbai Indians            1   \n",
            "\n",
            "     win_by_wickets player_of_match  \\\n",
            "0                 0    Yuvraj Singh   \n",
            "1                 7       SPD Smith   \n",
            "2                10         CA Lynn   \n",
            "3                 6      GJ Maxwell   \n",
            "4                 0       KM Jadhav   \n",
            "..              ...             ...   \n",
            "751               9       HH Pandya   \n",
            "752               6        AS Yadav   \n",
            "753               2         RR Pant   \n",
            "754               6    F du Plessis   \n",
            "755               0       JJ Bumrah   \n",
            "\n",
            "                                         venue         umpire1  \\\n",
            "0    Rajiv Gandhi International Stadium, Uppal     AY Dandekar   \n",
            "1      Maharashtra Cricket Association Stadium  A Nand Kishore   \n",
            "2       Saurashtra Cricket Association Stadium     Nitin Menon   \n",
            "3                       Holkar Cricket Stadium    AK Chaudhary   \n",
            "4                        M Chinnaswamy Stadium             NaN   \n",
            "..                                         ...             ...   \n",
            "751                           Wankhede Stadium   Nanda Kishore   \n",
            "752                  M. A. Chidambaram Stadium     Nigel Llong   \n",
            "753                           ACA-VDCA Stadium             NaN   \n",
            "754                           ACA-VDCA Stadium   Sundaram Ravi   \n",
            "755         Rajiv Gandhi Intl. Cricket Stadium     Nitin Menon   \n",
            "\n",
            "            umpire2                  umpire3  \n",
            "0          NJ Llong                      NaN  \n",
            "1            S Ravi                      NaN  \n",
            "2         CK Nandan                      NaN  \n",
            "3     C Shamshuddin                      NaN  \n",
            "4               NaN                      NaN  \n",
            "..              ...                      ...  \n",
            "751        O Nandan                   S Ravi  \n",
            "752     Nitin Menon                Ian Gould  \n",
            "753             NaN                      NaN  \n",
            "754  Bruce Oxenford  Chettithody Shamshuddin  \n",
            "755       Ian Gould              Nigel Llong  \n",
            "\n",
            "[756 rows x 18 columns]\n"
          ]
        }
      ],
      "source": [
        "df=pd.read_csv('ipl_matches.csv')\n",
        "print(df)"
      ]
    },
    {
      "cell_type": "code",
      "execution_count": null,
      "id": "fa2d1c3b-828c-4999-80f2-7c0a3e794eae",
      "metadata": {
        "colab": {
          "base_uri": "https://localhost:8080/"
        },
        "id": "fa2d1c3b-828c-4999-80f2-7c0a3e794eae",
        "outputId": "28e3c749-ad6f-475a-bfaa-e020f0a9d945"
      },
      "outputs": [
        {
          "output_type": "stream",
          "name": "stdout",
          "text": [
            "<class 'pandas.core.frame.DataFrame'>\n",
            "RangeIndex: 756 entries, 0 to 755\n",
            "Data columns (total 18 columns):\n",
            " #   Column           Non-Null Count  Dtype \n",
            "---  ------           --------------  ----- \n",
            " 0   id               756 non-null    int64 \n",
            " 1   Season           756 non-null    object\n",
            " 2   city             749 non-null    object\n",
            " 3   date             756 non-null    object\n",
            " 4   team1            756 non-null    object\n",
            " 5   team2            756 non-null    object\n",
            " 6   toss_winner      756 non-null    object\n",
            " 7   toss_decision    756 non-null    object\n",
            " 8   result           756 non-null    object\n",
            " 9   dl_applied       756 non-null    int64 \n",
            " 10  winner           752 non-null    object\n",
            " 11  win_by_runs      756 non-null    int64 \n",
            " 12  win_by_wickets   756 non-null    int64 \n",
            " 13  player_of_match  752 non-null    object\n",
            " 14  venue            756 non-null    object\n",
            " 15  umpire1          754 non-null    object\n",
            " 16  umpire2          754 non-null    object\n",
            " 17  umpire3          119 non-null    object\n",
            "dtypes: int64(4), object(14)\n",
            "memory usage: 106.4+ KB\n",
            "None\n"
          ]
        }
      ],
      "source": [
        "print(df.info())"
      ]
    },
    {
      "cell_type": "code",
      "execution_count": null,
      "id": "226000e1-4c16-4cf0-b28e-817a092e388c",
      "metadata": {
        "colab": {
          "base_uri": "https://localhost:8080/"
        },
        "id": "226000e1-4c16-4cf0-b28e-817a092e388c",
        "outputId": "0dfb210b-bbfd-42a3-8961-803ce19e8e8d"
      },
      "outputs": [
        {
          "output_type": "stream",
          "name": "stdout",
          "text": [
            "id                   0\n",
            "Season               0\n",
            "city                 7\n",
            "date                 0\n",
            "team1                0\n",
            "team2                0\n",
            "toss_winner          0\n",
            "toss_decision        0\n",
            "result               0\n",
            "dl_applied           0\n",
            "winner               4\n",
            "win_by_runs          0\n",
            "win_by_wickets       0\n",
            "player_of_match      4\n",
            "venue                0\n",
            "umpire1              2\n",
            "umpire2              2\n",
            "umpire3            637\n",
            "dtype: int64\n"
          ]
        }
      ],
      "source": [
        "print(df.isnull().sum())"
      ]
    },
    {
      "cell_type": "code",
      "execution_count": null,
      "id": "a5523180-a723-42e8-a5d9-0afd27f9a61a",
      "metadata": {
        "id": "a5523180-a723-42e8-a5d9-0afd27f9a61a"
      },
      "outputs": [],
      "source": [
        "df.dropna(subset=['winner'], inplace=True)"
      ]
    },
    {
      "cell_type": "code",
      "execution_count": null,
      "id": "befbbcb6-6982-4de2-8836-2235f843c955",
      "metadata": {
        "colab": {
          "base_uri": "https://localhost:8080/",
          "height": 842
        },
        "id": "befbbcb6-6982-4de2-8836-2235f843c955",
        "outputId": "f346fcf0-34bb-426d-9297-3537398dfa74"
      },
      "outputs": [
        {
          "output_type": "execute_result",
          "data": {
            "text/plain": [
              "        id    Season           city        date                        team1  \\\n",
              "0        1  IPL-2017      Hyderabad  05-04-2017          Sunrisers Hyderabad   \n",
              "1        2  IPL-2017           Pune  06-04-2017               Mumbai Indians   \n",
              "2        3  IPL-2017         Rajkot  07-04-2017                Gujarat Lions   \n",
              "3        4  IPL-2017         Indore  08-04-2017       Rising Pune Supergiant   \n",
              "4        5  IPL-2017      Bangalore  08-04-2017  Royal Challengers Bangalore   \n",
              "..     ...       ...            ...         ...                          ...   \n",
              "751  11347  IPL-2019         Mumbai  05-05-2019        Kolkata Knight Riders   \n",
              "752  11412  IPL-2019        Chennai  07-05-2019          Chennai Super Kings   \n",
              "753  11413  IPL-2019  Visakhapatnam  08-05-2019          Sunrisers Hyderabad   \n",
              "754  11414  IPL-2019  Visakhapatnam  10-05-2019               Delhi Capitals   \n",
              "755  11415  IPL-2019      Hyderabad  12-05-2019               Mumbai Indians   \n",
              "\n",
              "                           team2                  toss_winner toss_decision  \\\n",
              "0    Royal Challengers Bangalore  Royal Challengers Bangalore         field   \n",
              "1         Rising Pune Supergiant       Rising Pune Supergiant         field   \n",
              "2          Kolkata Knight Riders        Kolkata Knight Riders         field   \n",
              "3                Kings XI Punjab              Kings XI Punjab         field   \n",
              "4               Delhi Daredevils  Royal Challengers Bangalore           bat   \n",
              "..                           ...                          ...           ...   \n",
              "751               Mumbai Indians               Mumbai Indians         field   \n",
              "752               Mumbai Indians          Chennai Super Kings           bat   \n",
              "753               Delhi Capitals               Delhi Capitals         field   \n",
              "754          Chennai Super Kings          Chennai Super Kings         field   \n",
              "755          Chennai Super Kings               Mumbai Indians           bat   \n",
              "\n",
              "     result  dl_applied                       winner  win_by_runs  \\\n",
              "0    normal           0          Sunrisers Hyderabad           35   \n",
              "1    normal           0       Rising Pune Supergiant            0   \n",
              "2    normal           0        Kolkata Knight Riders            0   \n",
              "3    normal           0              Kings XI Punjab            0   \n",
              "4    normal           0  Royal Challengers Bangalore           15   \n",
              "..      ...         ...                          ...          ...   \n",
              "751  normal           0               Mumbai Indians            0   \n",
              "752  normal           0               Mumbai Indians            0   \n",
              "753  normal           0               Delhi Capitals            0   \n",
              "754  normal           0          Chennai Super Kings            0   \n",
              "755  normal           0               Mumbai Indians            1   \n",
              "\n",
              "     win_by_wickets player_of_match  \\\n",
              "0                 0    Yuvraj Singh   \n",
              "1                 7       SPD Smith   \n",
              "2                10         CA Lynn   \n",
              "3                 6      GJ Maxwell   \n",
              "4                 0       KM Jadhav   \n",
              "..              ...             ...   \n",
              "751               9       HH Pandya   \n",
              "752               6        AS Yadav   \n",
              "753               2         RR Pant   \n",
              "754               6    F du Plessis   \n",
              "755               0       JJ Bumrah   \n",
              "\n",
              "                                         venue         umpire1  \\\n",
              "0    Rajiv Gandhi International Stadium, Uppal     AY Dandekar   \n",
              "1      Maharashtra Cricket Association Stadium  A Nand Kishore   \n",
              "2       Saurashtra Cricket Association Stadium     Nitin Menon   \n",
              "3                       Holkar Cricket Stadium    AK Chaudhary   \n",
              "4                        M Chinnaswamy Stadium             NaN   \n",
              "..                                         ...             ...   \n",
              "751                           Wankhede Stadium   Nanda Kishore   \n",
              "752                  M. A. Chidambaram Stadium     Nigel Llong   \n",
              "753                           ACA-VDCA Stadium             NaN   \n",
              "754                           ACA-VDCA Stadium   Sundaram Ravi   \n",
              "755         Rajiv Gandhi Intl. Cricket Stadium     Nitin Menon   \n",
              "\n",
              "            umpire2                  umpire3  \n",
              "0          NJ Llong                      NaN  \n",
              "1            S Ravi                      NaN  \n",
              "2         CK Nandan                      NaN  \n",
              "3     C Shamshuddin                      NaN  \n",
              "4               NaN                      NaN  \n",
              "..              ...                      ...  \n",
              "751        O Nandan                   S Ravi  \n",
              "752     Nitin Menon                Ian Gould  \n",
              "753             NaN                      NaN  \n",
              "754  Bruce Oxenford  Chettithody Shamshuddin  \n",
              "755       Ian Gould              Nigel Llong  \n",
              "\n",
              "[752 rows x 18 columns]"
            ],
            "text/html": [
              "\n",
              "  <div id=\"df-4bfad4e6-77d1-4505-9051-4877e88b3acd\" class=\"colab-df-container\">\n",
              "    <div>\n",
              "<style scoped>\n",
              "    .dataframe tbody tr th:only-of-type {\n",
              "        vertical-align: middle;\n",
              "    }\n",
              "\n",
              "    .dataframe tbody tr th {\n",
              "        vertical-align: top;\n",
              "    }\n",
              "\n",
              "    .dataframe thead th {\n",
              "        text-align: right;\n",
              "    }\n",
              "</style>\n",
              "<table border=\"1\" class=\"dataframe\">\n",
              "  <thead>\n",
              "    <tr style=\"text-align: right;\">\n",
              "      <th></th>\n",
              "      <th>id</th>\n",
              "      <th>Season</th>\n",
              "      <th>city</th>\n",
              "      <th>date</th>\n",
              "      <th>team1</th>\n",
              "      <th>team2</th>\n",
              "      <th>toss_winner</th>\n",
              "      <th>toss_decision</th>\n",
              "      <th>result</th>\n",
              "      <th>dl_applied</th>\n",
              "      <th>winner</th>\n",
              "      <th>win_by_runs</th>\n",
              "      <th>win_by_wickets</th>\n",
              "      <th>player_of_match</th>\n",
              "      <th>venue</th>\n",
              "      <th>umpire1</th>\n",
              "      <th>umpire2</th>\n",
              "      <th>umpire3</th>\n",
              "    </tr>\n",
              "  </thead>\n",
              "  <tbody>\n",
              "    <tr>\n",
              "      <th>0</th>\n",
              "      <td>1</td>\n",
              "      <td>IPL-2017</td>\n",
              "      <td>Hyderabad</td>\n",
              "      <td>05-04-2017</td>\n",
              "      <td>Sunrisers Hyderabad</td>\n",
              "      <td>Royal Challengers Bangalore</td>\n",
              "      <td>Royal Challengers Bangalore</td>\n",
              "      <td>field</td>\n",
              "      <td>normal</td>\n",
              "      <td>0</td>\n",
              "      <td>Sunrisers Hyderabad</td>\n",
              "      <td>35</td>\n",
              "      <td>0</td>\n",
              "      <td>Yuvraj Singh</td>\n",
              "      <td>Rajiv Gandhi International Stadium, Uppal</td>\n",
              "      <td>AY Dandekar</td>\n",
              "      <td>NJ Llong</td>\n",
              "      <td>NaN</td>\n",
              "    </tr>\n",
              "    <tr>\n",
              "      <th>1</th>\n",
              "      <td>2</td>\n",
              "      <td>IPL-2017</td>\n",
              "      <td>Pune</td>\n",
              "      <td>06-04-2017</td>\n",
              "      <td>Mumbai Indians</td>\n",
              "      <td>Rising Pune Supergiant</td>\n",
              "      <td>Rising Pune Supergiant</td>\n",
              "      <td>field</td>\n",
              "      <td>normal</td>\n",
              "      <td>0</td>\n",
              "      <td>Rising Pune Supergiant</td>\n",
              "      <td>0</td>\n",
              "      <td>7</td>\n",
              "      <td>SPD Smith</td>\n",
              "      <td>Maharashtra Cricket Association Stadium</td>\n",
              "      <td>A Nand Kishore</td>\n",
              "      <td>S Ravi</td>\n",
              "      <td>NaN</td>\n",
              "    </tr>\n",
              "    <tr>\n",
              "      <th>2</th>\n",
              "      <td>3</td>\n",
              "      <td>IPL-2017</td>\n",
              "      <td>Rajkot</td>\n",
              "      <td>07-04-2017</td>\n",
              "      <td>Gujarat Lions</td>\n",
              "      <td>Kolkata Knight Riders</td>\n",
              "      <td>Kolkata Knight Riders</td>\n",
              "      <td>field</td>\n",
              "      <td>normal</td>\n",
              "      <td>0</td>\n",
              "      <td>Kolkata Knight Riders</td>\n",
              "      <td>0</td>\n",
              "      <td>10</td>\n",
              "      <td>CA Lynn</td>\n",
              "      <td>Saurashtra Cricket Association Stadium</td>\n",
              "      <td>Nitin Menon</td>\n",
              "      <td>CK Nandan</td>\n",
              "      <td>NaN</td>\n",
              "    </tr>\n",
              "    <tr>\n",
              "      <th>3</th>\n",
              "      <td>4</td>\n",
              "      <td>IPL-2017</td>\n",
              "      <td>Indore</td>\n",
              "      <td>08-04-2017</td>\n",
              "      <td>Rising Pune Supergiant</td>\n",
              "      <td>Kings XI Punjab</td>\n",
              "      <td>Kings XI Punjab</td>\n",
              "      <td>field</td>\n",
              "      <td>normal</td>\n",
              "      <td>0</td>\n",
              "      <td>Kings XI Punjab</td>\n",
              "      <td>0</td>\n",
              "      <td>6</td>\n",
              "      <td>GJ Maxwell</td>\n",
              "      <td>Holkar Cricket Stadium</td>\n",
              "      <td>AK Chaudhary</td>\n",
              "      <td>C Shamshuddin</td>\n",
              "      <td>NaN</td>\n",
              "    </tr>\n",
              "    <tr>\n",
              "      <th>4</th>\n",
              "      <td>5</td>\n",
              "      <td>IPL-2017</td>\n",
              "      <td>Bangalore</td>\n",
              "      <td>08-04-2017</td>\n",
              "      <td>Royal Challengers Bangalore</td>\n",
              "      <td>Delhi Daredevils</td>\n",
              "      <td>Royal Challengers Bangalore</td>\n",
              "      <td>bat</td>\n",
              "      <td>normal</td>\n",
              "      <td>0</td>\n",
              "      <td>Royal Challengers Bangalore</td>\n",
              "      <td>15</td>\n",
              "      <td>0</td>\n",
              "      <td>KM Jadhav</td>\n",
              "      <td>M Chinnaswamy Stadium</td>\n",
              "      <td>NaN</td>\n",
              "      <td>NaN</td>\n",
              "      <td>NaN</td>\n",
              "    </tr>\n",
              "    <tr>\n",
              "      <th>...</th>\n",
              "      <td>...</td>\n",
              "      <td>...</td>\n",
              "      <td>...</td>\n",
              "      <td>...</td>\n",
              "      <td>...</td>\n",
              "      <td>...</td>\n",
              "      <td>...</td>\n",
              "      <td>...</td>\n",
              "      <td>...</td>\n",
              "      <td>...</td>\n",
              "      <td>...</td>\n",
              "      <td>...</td>\n",
              "      <td>...</td>\n",
              "      <td>...</td>\n",
              "      <td>...</td>\n",
              "      <td>...</td>\n",
              "      <td>...</td>\n",
              "      <td>...</td>\n",
              "    </tr>\n",
              "    <tr>\n",
              "      <th>751</th>\n",
              "      <td>11347</td>\n",
              "      <td>IPL-2019</td>\n",
              "      <td>Mumbai</td>\n",
              "      <td>05-05-2019</td>\n",
              "      <td>Kolkata Knight Riders</td>\n",
              "      <td>Mumbai Indians</td>\n",
              "      <td>Mumbai Indians</td>\n",
              "      <td>field</td>\n",
              "      <td>normal</td>\n",
              "      <td>0</td>\n",
              "      <td>Mumbai Indians</td>\n",
              "      <td>0</td>\n",
              "      <td>9</td>\n",
              "      <td>HH Pandya</td>\n",
              "      <td>Wankhede Stadium</td>\n",
              "      <td>Nanda Kishore</td>\n",
              "      <td>O Nandan</td>\n",
              "      <td>S Ravi</td>\n",
              "    </tr>\n",
              "    <tr>\n",
              "      <th>752</th>\n",
              "      <td>11412</td>\n",
              "      <td>IPL-2019</td>\n",
              "      <td>Chennai</td>\n",
              "      <td>07-05-2019</td>\n",
              "      <td>Chennai Super Kings</td>\n",
              "      <td>Mumbai Indians</td>\n",
              "      <td>Chennai Super Kings</td>\n",
              "      <td>bat</td>\n",
              "      <td>normal</td>\n",
              "      <td>0</td>\n",
              "      <td>Mumbai Indians</td>\n",
              "      <td>0</td>\n",
              "      <td>6</td>\n",
              "      <td>AS Yadav</td>\n",
              "      <td>M. A. Chidambaram Stadium</td>\n",
              "      <td>Nigel Llong</td>\n",
              "      <td>Nitin Menon</td>\n",
              "      <td>Ian Gould</td>\n",
              "    </tr>\n",
              "    <tr>\n",
              "      <th>753</th>\n",
              "      <td>11413</td>\n",
              "      <td>IPL-2019</td>\n",
              "      <td>Visakhapatnam</td>\n",
              "      <td>08-05-2019</td>\n",
              "      <td>Sunrisers Hyderabad</td>\n",
              "      <td>Delhi Capitals</td>\n",
              "      <td>Delhi Capitals</td>\n",
              "      <td>field</td>\n",
              "      <td>normal</td>\n",
              "      <td>0</td>\n",
              "      <td>Delhi Capitals</td>\n",
              "      <td>0</td>\n",
              "      <td>2</td>\n",
              "      <td>RR Pant</td>\n",
              "      <td>ACA-VDCA Stadium</td>\n",
              "      <td>NaN</td>\n",
              "      <td>NaN</td>\n",
              "      <td>NaN</td>\n",
              "    </tr>\n",
              "    <tr>\n",
              "      <th>754</th>\n",
              "      <td>11414</td>\n",
              "      <td>IPL-2019</td>\n",
              "      <td>Visakhapatnam</td>\n",
              "      <td>10-05-2019</td>\n",
              "      <td>Delhi Capitals</td>\n",
              "      <td>Chennai Super Kings</td>\n",
              "      <td>Chennai Super Kings</td>\n",
              "      <td>field</td>\n",
              "      <td>normal</td>\n",
              "      <td>0</td>\n",
              "      <td>Chennai Super Kings</td>\n",
              "      <td>0</td>\n",
              "      <td>6</td>\n",
              "      <td>F du Plessis</td>\n",
              "      <td>ACA-VDCA Stadium</td>\n",
              "      <td>Sundaram Ravi</td>\n",
              "      <td>Bruce Oxenford</td>\n",
              "      <td>Chettithody Shamshuddin</td>\n",
              "    </tr>\n",
              "    <tr>\n",
              "      <th>755</th>\n",
              "      <td>11415</td>\n",
              "      <td>IPL-2019</td>\n",
              "      <td>Hyderabad</td>\n",
              "      <td>12-05-2019</td>\n",
              "      <td>Mumbai Indians</td>\n",
              "      <td>Chennai Super Kings</td>\n",
              "      <td>Mumbai Indians</td>\n",
              "      <td>bat</td>\n",
              "      <td>normal</td>\n",
              "      <td>0</td>\n",
              "      <td>Mumbai Indians</td>\n",
              "      <td>1</td>\n",
              "      <td>0</td>\n",
              "      <td>JJ Bumrah</td>\n",
              "      <td>Rajiv Gandhi Intl. Cricket Stadium</td>\n",
              "      <td>Nitin Menon</td>\n",
              "      <td>Ian Gould</td>\n",
              "      <td>Nigel Llong</td>\n",
              "    </tr>\n",
              "  </tbody>\n",
              "</table>\n",
              "<p>752 rows × 18 columns</p>\n",
              "</div>\n",
              "    <div class=\"colab-df-buttons\">\n",
              "\n",
              "  <div class=\"colab-df-container\">\n",
              "    <button class=\"colab-df-convert\" onclick=\"convertToInteractive('df-4bfad4e6-77d1-4505-9051-4877e88b3acd')\"\n",
              "            title=\"Convert this dataframe to an interactive table.\"\n",
              "            style=\"display:none;\">\n",
              "\n",
              "  <svg xmlns=\"http://www.w3.org/2000/svg\" height=\"24px\" viewBox=\"0 -960 960 960\">\n",
              "    <path d=\"M120-120v-720h720v720H120Zm60-500h600v-160H180v160Zm220 220h160v-160H400v160Zm0 220h160v-160H400v160ZM180-400h160v-160H180v160Zm440 0h160v-160H620v160ZM180-180h160v-160H180v160Zm440 0h160v-160H620v160Z\"/>\n",
              "  </svg>\n",
              "    </button>\n",
              "\n",
              "  <style>\n",
              "    .colab-df-container {\n",
              "      display:flex;\n",
              "      gap: 12px;\n",
              "    }\n",
              "\n",
              "    .colab-df-convert {\n",
              "      background-color: #E8F0FE;\n",
              "      border: none;\n",
              "      border-radius: 50%;\n",
              "      cursor: pointer;\n",
              "      display: none;\n",
              "      fill: #1967D2;\n",
              "      height: 32px;\n",
              "      padding: 0 0 0 0;\n",
              "      width: 32px;\n",
              "    }\n",
              "\n",
              "    .colab-df-convert:hover {\n",
              "      background-color: #E2EBFA;\n",
              "      box-shadow: 0px 1px 2px rgba(60, 64, 67, 0.3), 0px 1px 3px 1px rgba(60, 64, 67, 0.15);\n",
              "      fill: #174EA6;\n",
              "    }\n",
              "\n",
              "    .colab-df-buttons div {\n",
              "      margin-bottom: 4px;\n",
              "    }\n",
              "\n",
              "    [theme=dark] .colab-df-convert {\n",
              "      background-color: #3B4455;\n",
              "      fill: #D2E3FC;\n",
              "    }\n",
              "\n",
              "    [theme=dark] .colab-df-convert:hover {\n",
              "      background-color: #434B5C;\n",
              "      box-shadow: 0px 1px 3px 1px rgba(0, 0, 0, 0.15);\n",
              "      filter: drop-shadow(0px 1px 2px rgba(0, 0, 0, 0.3));\n",
              "      fill: #FFFFFF;\n",
              "    }\n",
              "  </style>\n",
              "\n",
              "    <script>\n",
              "      const buttonEl =\n",
              "        document.querySelector('#df-4bfad4e6-77d1-4505-9051-4877e88b3acd button.colab-df-convert');\n",
              "      buttonEl.style.display =\n",
              "        google.colab.kernel.accessAllowed ? 'block' : 'none';\n",
              "\n",
              "      async function convertToInteractive(key) {\n",
              "        const element = document.querySelector('#df-4bfad4e6-77d1-4505-9051-4877e88b3acd');\n",
              "        const dataTable =\n",
              "          await google.colab.kernel.invokeFunction('convertToInteractive',\n",
              "                                                    [key], {});\n",
              "        if (!dataTable) return;\n",
              "\n",
              "        const docLinkHtml = 'Like what you see? Visit the ' +\n",
              "          '<a target=\"_blank\" href=https://colab.research.google.com/notebooks/data_table.ipynb>data table notebook</a>'\n",
              "          + ' to learn more about interactive tables.';\n",
              "        element.innerHTML = '';\n",
              "        dataTable['output_type'] = 'display_data';\n",
              "        await google.colab.output.renderOutput(dataTable, element);\n",
              "        const docLink = document.createElement('div');\n",
              "        docLink.innerHTML = docLinkHtml;\n",
              "        element.appendChild(docLink);\n",
              "      }\n",
              "    </script>\n",
              "  </div>\n",
              "\n",
              "\n",
              "<div id=\"df-3dfd475e-2ba3-4a82-b738-9977c819a305\">\n",
              "  <button class=\"colab-df-quickchart\" onclick=\"quickchart('df-3dfd475e-2ba3-4a82-b738-9977c819a305')\"\n",
              "            title=\"Suggest charts\"\n",
              "            style=\"display:none;\">\n",
              "\n",
              "<svg xmlns=\"http://www.w3.org/2000/svg\" height=\"24px\"viewBox=\"0 0 24 24\"\n",
              "     width=\"24px\">\n",
              "    <g>\n",
              "        <path d=\"M19 3H5c-1.1 0-2 .9-2 2v14c0 1.1.9 2 2 2h14c1.1 0 2-.9 2-2V5c0-1.1-.9-2-2-2zM9 17H7v-7h2v7zm4 0h-2V7h2v10zm4 0h-2v-4h2v4z\"/>\n",
              "    </g>\n",
              "</svg>\n",
              "  </button>\n",
              "\n",
              "<style>\n",
              "  .colab-df-quickchart {\n",
              "      --bg-color: #E8F0FE;\n",
              "      --fill-color: #1967D2;\n",
              "      --hover-bg-color: #E2EBFA;\n",
              "      --hover-fill-color: #174EA6;\n",
              "      --disabled-fill-color: #AAA;\n",
              "      --disabled-bg-color: #DDD;\n",
              "  }\n",
              "\n",
              "  [theme=dark] .colab-df-quickchart {\n",
              "      --bg-color: #3B4455;\n",
              "      --fill-color: #D2E3FC;\n",
              "      --hover-bg-color: #434B5C;\n",
              "      --hover-fill-color: #FFFFFF;\n",
              "      --disabled-bg-color: #3B4455;\n",
              "      --disabled-fill-color: #666;\n",
              "  }\n",
              "\n",
              "  .colab-df-quickchart {\n",
              "    background-color: var(--bg-color);\n",
              "    border: none;\n",
              "    border-radius: 50%;\n",
              "    cursor: pointer;\n",
              "    display: none;\n",
              "    fill: var(--fill-color);\n",
              "    height: 32px;\n",
              "    padding: 0;\n",
              "    width: 32px;\n",
              "  }\n",
              "\n",
              "  .colab-df-quickchart:hover {\n",
              "    background-color: var(--hover-bg-color);\n",
              "    box-shadow: 0 1px 2px rgba(60, 64, 67, 0.3), 0 1px 3px 1px rgba(60, 64, 67, 0.15);\n",
              "    fill: var(--button-hover-fill-color);\n",
              "  }\n",
              "\n",
              "  .colab-df-quickchart-complete:disabled,\n",
              "  .colab-df-quickchart-complete:disabled:hover {\n",
              "    background-color: var(--disabled-bg-color);\n",
              "    fill: var(--disabled-fill-color);\n",
              "    box-shadow: none;\n",
              "  }\n",
              "\n",
              "  .colab-df-spinner {\n",
              "    border: 2px solid var(--fill-color);\n",
              "    border-color: transparent;\n",
              "    border-bottom-color: var(--fill-color);\n",
              "    animation:\n",
              "      spin 1s steps(1) infinite;\n",
              "  }\n",
              "\n",
              "  @keyframes spin {\n",
              "    0% {\n",
              "      border-color: transparent;\n",
              "      border-bottom-color: var(--fill-color);\n",
              "      border-left-color: var(--fill-color);\n",
              "    }\n",
              "    20% {\n",
              "      border-color: transparent;\n",
              "      border-left-color: var(--fill-color);\n",
              "      border-top-color: var(--fill-color);\n",
              "    }\n",
              "    30% {\n",
              "      border-color: transparent;\n",
              "      border-left-color: var(--fill-color);\n",
              "      border-top-color: var(--fill-color);\n",
              "      border-right-color: var(--fill-color);\n",
              "    }\n",
              "    40% {\n",
              "      border-color: transparent;\n",
              "      border-right-color: var(--fill-color);\n",
              "      border-top-color: var(--fill-color);\n",
              "    }\n",
              "    60% {\n",
              "      border-color: transparent;\n",
              "      border-right-color: var(--fill-color);\n",
              "    }\n",
              "    80% {\n",
              "      border-color: transparent;\n",
              "      border-right-color: var(--fill-color);\n",
              "      border-bottom-color: var(--fill-color);\n",
              "    }\n",
              "    90% {\n",
              "      border-color: transparent;\n",
              "      border-bottom-color: var(--fill-color);\n",
              "    }\n",
              "  }\n",
              "</style>\n",
              "\n",
              "  <script>\n",
              "    async function quickchart(key) {\n",
              "      const quickchartButtonEl =\n",
              "        document.querySelector('#' + key + ' button');\n",
              "      quickchartButtonEl.disabled = true;  // To prevent multiple clicks.\n",
              "      quickchartButtonEl.classList.add('colab-df-spinner');\n",
              "      try {\n",
              "        const charts = await google.colab.kernel.invokeFunction(\n",
              "            'suggestCharts', [key], {});\n",
              "      } catch (error) {\n",
              "        console.error('Error during call to suggestCharts:', error);\n",
              "      }\n",
              "      quickchartButtonEl.classList.remove('colab-df-spinner');\n",
              "      quickchartButtonEl.classList.add('colab-df-quickchart-complete');\n",
              "    }\n",
              "    (() => {\n",
              "      let quickchartButtonEl =\n",
              "        document.querySelector('#df-3dfd475e-2ba3-4a82-b738-9977c819a305 button');\n",
              "      quickchartButtonEl.style.display =\n",
              "        google.colab.kernel.accessAllowed ? 'block' : 'none';\n",
              "    })();\n",
              "  </script>\n",
              "</div>\n",
              "\n",
              "  <div id=\"id_fb01518d-244a-4842-a5e9-74c45c001cec\">\n",
              "    <style>\n",
              "      .colab-df-generate {\n",
              "        background-color: #E8F0FE;\n",
              "        border: none;\n",
              "        border-radius: 50%;\n",
              "        cursor: pointer;\n",
              "        display: none;\n",
              "        fill: #1967D2;\n",
              "        height: 32px;\n",
              "        padding: 0 0 0 0;\n",
              "        width: 32px;\n",
              "      }\n",
              "\n",
              "      .colab-df-generate:hover {\n",
              "        background-color: #E2EBFA;\n",
              "        box-shadow: 0px 1px 2px rgba(60, 64, 67, 0.3), 0px 1px 3px 1px rgba(60, 64, 67, 0.15);\n",
              "        fill: #174EA6;\n",
              "      }\n",
              "\n",
              "      [theme=dark] .colab-df-generate {\n",
              "        background-color: #3B4455;\n",
              "        fill: #D2E3FC;\n",
              "      }\n",
              "\n",
              "      [theme=dark] .colab-df-generate:hover {\n",
              "        background-color: #434B5C;\n",
              "        box-shadow: 0px 1px 3px 1px rgba(0, 0, 0, 0.15);\n",
              "        filter: drop-shadow(0px 1px 2px rgba(0, 0, 0, 0.3));\n",
              "        fill: #FFFFFF;\n",
              "      }\n",
              "    </style>\n",
              "    <button class=\"colab-df-generate\" onclick=\"generateWithVariable('df')\"\n",
              "            title=\"Generate code using this dataframe.\"\n",
              "            style=\"display:none;\">\n",
              "\n",
              "  <svg xmlns=\"http://www.w3.org/2000/svg\" height=\"24px\"viewBox=\"0 0 24 24\"\n",
              "       width=\"24px\">\n",
              "    <path d=\"M7,19H8.4L18.45,9,17,7.55,7,17.6ZM5,21V16.75L18.45,3.32a2,2,0,0,1,2.83,0l1.4,1.43a1.91,1.91,0,0,1,.58,1.4,1.91,1.91,0,0,1-.58,1.4L9.25,21ZM18.45,9,17,7.55Zm-12,3A5.31,5.31,0,0,0,4.9,8.1,5.31,5.31,0,0,0,1,6.5,5.31,5.31,0,0,0,4.9,4.9,5.31,5.31,0,0,0,6.5,1,5.31,5.31,0,0,0,8.1,4.9,5.31,5.31,0,0,0,12,6.5,5.46,5.46,0,0,0,6.5,12Z\"/>\n",
              "  </svg>\n",
              "    </button>\n",
              "    <script>\n",
              "      (() => {\n",
              "      const buttonEl =\n",
              "        document.querySelector('#id_fb01518d-244a-4842-a5e9-74c45c001cec button.colab-df-generate');\n",
              "      buttonEl.style.display =\n",
              "        google.colab.kernel.accessAllowed ? 'block' : 'none';\n",
              "\n",
              "      buttonEl.onclick = () => {\n",
              "        google.colab.notebook.generateWithVariable('df');\n",
              "      }\n",
              "      })();\n",
              "    </script>\n",
              "  </div>\n",
              "\n",
              "    </div>\n",
              "  </div>\n"
            ],
            "application/vnd.google.colaboratory.intrinsic+json": {
              "type": "dataframe",
              "variable_name": "df",
              "summary": "{\n  \"name\": \"df\",\n  \"rows\": 752,\n  \"fields\": [\n    {\n      \"column\": \"id\",\n      \"properties\": {\n        \"dtype\": \"number\",\n        \"std\": 3455,\n        \"min\": 1,\n        \"max\": 11415,\n        \"num_unique_values\": 752,\n        \"samples\": [\n          588,\n          595,\n          488\n        ],\n        \"semantic_type\": \"\",\n        \"description\": \"\"\n      }\n    },\n    {\n      \"column\": \"Season\",\n      \"properties\": {\n        \"dtype\": \"category\",\n        \"num_unique_values\": 12,\n        \"samples\": [\n          \"IPL-2018\",\n          \"IPL-2016\",\n          \"IPL-2017\"\n        ],\n        \"semantic_type\": \"\",\n        \"description\": \"\"\n      }\n    },\n    {\n      \"column\": \"city\",\n      \"properties\": {\n        \"dtype\": \"category\",\n        \"num_unique_values\": 32,\n        \"samples\": [\n          \"Sharjah\",\n          \"Centurion\",\n          \"Kochi\"\n        ],\n        \"semantic_type\": \"\",\n        \"description\": \"\"\n      }\n    },\n    {\n      \"column\": \"date\",\n      \"properties\": {\n        \"dtype\": \"string\",\n        \"num_unique_values\": 544,\n        \"samples\": [\n          \"15-04-2018\",\n          \"16-05-2012\",\n          \"01-06-2014\"\n        ],\n        \"semantic_type\": \"\",\n        \"description\": \"\"\n      }\n    },\n    {\n      \"column\": \"team1\",\n      \"properties\": {\n        \"dtype\": \"category\",\n        \"num_unique_values\": 15,\n        \"samples\": [\n          \"Rajasthan Royals\",\n          \"Kochi Tuskers Kerala\",\n          \"Sunrisers Hyderabad\"\n        ],\n        \"semantic_type\": \"\",\n        \"description\": \"\"\n      }\n    },\n    {\n      \"column\": \"team2\",\n      \"properties\": {\n        \"dtype\": \"category\",\n        \"num_unique_values\": 15,\n        \"samples\": [\n          \"Chennai Super Kings\",\n          \"Pune Warriors\",\n          \"Royal Challengers Bangalore\"\n        ],\n        \"semantic_type\": \"\",\n        \"description\": \"\"\n      }\n    },\n    {\n      \"column\": \"toss_winner\",\n      \"properties\": {\n        \"dtype\": \"category\",\n        \"num_unique_values\": 15,\n        \"samples\": [\n          \"Rajasthan Royals\",\n          \"Kochi Tuskers Kerala\",\n          \"Royal Challengers Bangalore\"\n        ],\n        \"semantic_type\": \"\",\n        \"description\": \"\"\n      }\n    },\n    {\n      \"column\": \"toss_decision\",\n      \"properties\": {\n        \"dtype\": \"category\",\n        \"num_unique_values\": 2,\n        \"samples\": [\n          \"bat\",\n          \"field\"\n        ],\n        \"semantic_type\": \"\",\n        \"description\": \"\"\n      }\n    },\n    {\n      \"column\": \"result\",\n      \"properties\": {\n        \"dtype\": \"category\",\n        \"num_unique_values\": 2,\n        \"samples\": [\n          \"tie\",\n          \"normal\"\n        ],\n        \"semantic_type\": \"\",\n        \"description\": \"\"\n      }\n    },\n    {\n      \"column\": \"dl_applied\",\n      \"properties\": {\n        \"dtype\": \"number\",\n        \"std\": 0,\n        \"min\": 0,\n        \"max\": 1,\n        \"num_unique_values\": 2,\n        \"samples\": [\n          1,\n          0\n        ],\n        \"semantic_type\": \"\",\n        \"description\": \"\"\n      }\n    },\n    {\n      \"column\": \"winner\",\n      \"properties\": {\n        \"dtype\": \"category\",\n        \"num_unique_values\": 15,\n        \"samples\": [\n          \"Rajasthan Royals\",\n          \"Pune Warriors\"\n        ],\n        \"semantic_type\": \"\",\n        \"description\": \"\"\n      }\n    },\n    {\n      \"column\": \"win_by_runs\",\n      \"properties\": {\n        \"dtype\": \"number\",\n        \"std\": 23,\n        \"min\": 0,\n        \"max\": 146,\n        \"num_unique_values\": 89,\n        \"samples\": [\n          53,\n          40\n        ],\n        \"semantic_type\": \"\",\n        \"description\": \"\"\n      }\n    },\n    {\n      \"column\": \"win_by_wickets\",\n      \"properties\": {\n        \"dtype\": \"number\",\n        \"std\": 3,\n        \"min\": 0,\n        \"max\": 10,\n        \"num_unique_values\": 11,\n        \"samples\": [\n          4,\n          0\n        ],\n        \"semantic_type\": \"\",\n        \"description\": \"\"\n      }\n    },\n    {\n      \"column\": \"player_of_match\",\n      \"properties\": {\n        \"dtype\": \"category\",\n        \"num_unique_values\": 226,\n        \"samples\": [\n          \"JJ Bumrah\",\n          \"MA Agarwal\"\n        ],\n        \"semantic_type\": \"\",\n        \"description\": \"\"\n      }\n    },\n    {\n      \"column\": \"venue\",\n      \"properties\": {\n        \"dtype\": \"category\",\n        \"num_unique_values\": 41,\n        \"samples\": [\n          \"Barabati Stadium\",\n          \"Dr DY Patil Sports Academy\"\n        ],\n        \"semantic_type\": \"\",\n        \"description\": \"\"\n      }\n    },\n    {\n      \"column\": \"umpire1\",\n      \"properties\": {\n        \"dtype\": \"category\",\n        \"num_unique_values\": 61,\n        \"samples\": [\n          \"AY Dandekar\",\n          \"KN Ananthapadmanabhan\"\n        ],\n        \"semantic_type\": \"\",\n        \"description\": \"\"\n      }\n    },\n    {\n      \"column\": \"umpire2\",\n      \"properties\": {\n        \"dtype\": \"category\",\n        \"num_unique_values\": 65,\n        \"samples\": [\n          \"O Nandan\",\n          \"Nanda Kishore\"\n        ],\n        \"semantic_type\": \"\",\n        \"description\": \"\"\n      }\n    },\n    {\n      \"column\": \"umpire3\",\n      \"properties\": {\n        \"dtype\": \"category\",\n        \"num_unique_values\": 25,\n        \"samples\": [\n          \"Chris Gaffaney\",\n          \"Marais Erasmus\"\n        ],\n        \"semantic_type\": \"\",\n        \"description\": \"\"\n      }\n    }\n  ]\n}"
            }
          },
          "metadata": {},
          "execution_count": 6
        }
      ],
      "source": [
        "df"
      ]
    },
    {
      "cell_type": "code",
      "execution_count": null,
      "id": "25726f77-9b87-4f5b-993f-bf803e073a71",
      "metadata": {
        "id": "25726f77-9b87-4f5b-993f-bf803e073a71"
      },
      "outputs": [],
      "source": [
        "coulmns = [\"Season\", \"city\", \"team1\", \"team2\", \"toss_winner\", \"toss_decision\", \"win_by_runs\", \"win_by_wickets\"]\n",
        "result =[ \"winner\"]"
      ]
    },
    {
      "cell_type": "code",
      "execution_count": null,
      "id": "7f20ba64-a20d-4631-8f17-40fb9f986812",
      "metadata": {
        "id": "7f20ba64-a20d-4631-8f17-40fb9f986812"
      },
      "outputs": [],
      "source": [
        "from sklearn.preprocessing import LabelEncoder\n",
        "\n",
        "# List of categorical columns to encode\n",
        "cat_cols = ['Season','city', 'toss_decision', 'result', 'player_of_match', 'umpire1', 'umpire2', 'umpire3']\n",
        "\n",
        "# Apply Label Encoding\n",
        "le = LabelEncoder()\n",
        "for col in cat_cols:\n",
        "    df[col] = le.fit_transform(df[col].astype(str))  # Convert to string before encoding"
      ]
    },
    {
      "cell_type": "code",
      "execution_count": null,
      "id": "82aef095-62c6-4380-b938-e272462c8e25",
      "metadata": {
        "id": "82aef095-62c6-4380-b938-e272462c8e25"
      },
      "outputs": [],
      "source": [
        "X = df[coulmns]\n",
        "y = df[result]"
      ]
    },
    {
      "cell_type": "code",
      "execution_count": null,
      "id": "129775fb-b8b2-4c7f-af5a-b05a64384a3d",
      "metadata": {
        "id": "129775fb-b8b2-4c7f-af5a-b05a64384a3d"
      },
      "outputs": [],
      "source": [
        "from sklearn.model_selection import train_test_split\n",
        "\n",
        "X_train, X_test, y_train, y_test = train_test_split(X, y, test_size=0.2, random_state=42)"
      ]
    },
    {
      "cell_type": "code",
      "execution_count": null,
      "id": "69679fdc-9bd2-4d83-8c3d-a03fa965bcbf",
      "metadata": {
        "id": "69679fdc-9bd2-4d83-8c3d-a03fa965bcbf"
      },
      "outputs": [],
      "source": [
        "from sklearn.preprocessing import StandardScaler\n",
        "sc= StandardScaler()\n",
        "X_train = sc.fit_transform(X_train)\n",
        "X_test = sc.transform(X_test)"
      ]
    },
    {
      "cell_type": "code",
      "execution_count": null,
      "id": "6b5ccf8b-9d0c-47e1-909e-08a54a3fe55d",
      "metadata": {
        "colab": {
          "base_uri": "https://localhost:8080/"
        },
        "id": "6b5ccf8b-9d0c-47e1-909e-08a54a3fe55d",
        "outputId": "ef7c7579-c76f-46b7-f13f-1b9bdc81e699"
      },
      "outputs": [
        {
          "output_type": "stream",
          "name": "stdout",
          "text": [
            "   id    Season  city        date  team1  team2  toss_winner toss_decision  \\\n",
            "0   1  IPL-2017    14  05-04-2017     14     13           13         field   \n",
            "1   2  IPL-2017    26  06-04-2017      8     11           11         field   \n",
            "2   3  IPL-2017    28  07-04-2017      4      7            7         field   \n",
            "3   4  IPL-2017    15  08-04-2017     11      5            5         field   \n",
            "4   5  IPL-2017     2  08-04-2017     13      3           13           bat   \n",
            "5   6  IPL-2017    14  09-04-2017      4     14           14         field   \n",
            "6   7  IPL-2017    23  09-04-2017      7      8            8         field   \n",
            "7   8  IPL-2017    15  10-04-2017     13      5           13           bat   \n",
            "8   9  IPL-2017    26  11-04-2017      3     11           11         field   \n",
            "9  10  IPL-2017    23  12-04-2017     14      8            8         field   \n",
            "\n",
            "   result  dl_applied  winner  win_by_runs  win_by_wickets player_of_match  \\\n",
            "0  normal           0      14           35               0    Yuvraj Singh   \n",
            "1  normal           0      11            0               7       SPD Smith   \n",
            "2  normal           0       7            0              10         CA Lynn   \n",
            "3  normal           0       5            0               6      GJ Maxwell   \n",
            "4  normal           0      13           15               0       KM Jadhav   \n",
            "5  normal           0      14            0               9     Rashid Khan   \n",
            "6  normal           0       8            0               4          N Rana   \n",
            "7  normal           0       5            0               8        AR Patel   \n",
            "8  normal           0       3           97               0       SV Samson   \n",
            "9  normal           0       8            0               4       JJ Bumrah   \n",
            "\n",
            "                                       venue         umpire1        umpire2  \\\n",
            "0  Rajiv Gandhi International Stadium, Uppal     AY Dandekar       NJ Llong   \n",
            "1    Maharashtra Cricket Association Stadium  A Nand Kishore         S Ravi   \n",
            "2     Saurashtra Cricket Association Stadium     Nitin Menon      CK Nandan   \n",
            "3                     Holkar Cricket Stadium    AK Chaudhary  C Shamshuddin   \n",
            "4                      M Chinnaswamy Stadium             NaN            NaN   \n",
            "5  Rajiv Gandhi International Stadium, Uppal      A Deshmukh       NJ Llong   \n",
            "6                           Wankhede Stadium     Nitin Menon      CK Nandan   \n",
            "7                     Holkar Cricket Stadium    AK Chaudhary  C Shamshuddin   \n",
            "8    Maharashtra Cricket Association Stadium     AY Dandekar         S Ravi   \n",
            "9                           Wankhede Stadium     Nitin Menon      CK Nandan   \n",
            "\n",
            "  umpire3  \n",
            "0     NaN  \n",
            "1     NaN  \n",
            "2     NaN  \n",
            "3     NaN  \n",
            "4     NaN  \n",
            "5     NaN  \n",
            "6     NaN  \n",
            "7     NaN  \n",
            "8     NaN  \n",
            "9     NaN  \n"
          ]
        }
      ],
      "source": [
        "from sklearn.preprocessing import LabelEncoder\n",
        "\n",
        "# Apply Label Encoding\n",
        "le = LabelEncoder()\n",
        "for col in [\"city\", \"team1\", \"team2\", \"toss_winner\", \"winner\"]:  # Also encode target variable\n",
        "    df[col] = le.fit_transform(df[col])\n",
        "\n",
        "print(df.head(10))  # Check if encoding worked\n"
      ]
    },
    {
      "cell_type": "code",
      "execution_count": null,
      "id": "226d134d-ba76-4d66-b52b-256530f521ff",
      "metadata": {
        "colab": {
          "base_uri": "https://localhost:8080/",
          "height": 525
        },
        "id": "226d134d-ba76-4d66-b52b-256530f521ff",
        "outputId": "802140e0-addd-49e0-f135-64473883bd9b"
      },
      "outputs": [
        {
          "output_type": "display_data",
          "data": {
            "text/plain": [
              "<Figure size 1000x500 with 1 Axes>"
            ],
            "image/png": "[encoded data removed]"
          },
          "metadata": {}
        }
      ],
      "source": [
        "import matplotlib.pyplot as plt\n",
        "import seaborn as sns\n",
        "\n",
        "plt.figure(figsize=(10, 5))\n",
        "sns.countplot(x=df[\"Season\"], palette=\"coolwarm\")\n",
        "plt.title(\"Number of Matches Played Each Season\")\n",
        "plt.xlabel(\"Season\")\n",
        "plt.ylabel(\"Number of Matches\")\n",
        "plt.xticks(rotation=45)\n",
        "plt.show()\n"
      ]
    },
    {
      "cell_type": "code",
      "execution_count": null,
      "id": "b6fdb883-3ee5-4aab-8752-1408c7e29ea0",
      "metadata": {
        "colab": {
          "base_uri": "https://localhost:8080/",
          "height": 458
        },
        "id": "b6fdb883-3ee5-4aab-8752-1408c7e29ea0",
        "outputId": "340547ca-c645-449f-fee5-abf11d9759ad"
      },
      "outputs": [
        {
          "output_type": "execute_result",
          "data": {
            "text/plain": [
              "0      14\n",
              "1       8\n",
              "2       4\n",
              "3      11\n",
              "4      13\n",
              "       ..\n",
              "751     7\n",
              "752     0\n",
              "753    14\n",
              "754     2\n",
              "755     8\n",
              "Name: team1, Length: 752, dtype: int64"
            ],
            "text/html": [
              "<div>\n",
              "<style scoped>\n",
              "    .dataframe tbody tr th:only-of-type {\n",
              "        vertical-align: middle;\n",
              "    }\n",
              "\n",
              "    .dataframe tbody tr th {\n",
              "        vertical-align: top;\n",
              "    }\n",
              "\n",
              "    .dataframe thead th {\n",
              "        text-align: right;\n",
              "    }\n",
              "</style>\n",
              "<table border=\"1\" class=\"dataframe\">\n",
              "  <thead>\n",
              "    <tr style=\"text-align: right;\">\n",
              "      <th></th>\n",
              "      <th>team1</th>\n",
              "    </tr>\n",
              "  </thead>\n",
              "  <tbody>\n",
              "    <tr>\n",
              "      <th>0</th>\n",
              "      <td>14</td>\n",
              "    </tr>\n",
              "    <tr>\n",
              "      <th>1</th>\n",
              "      <td>8</td>\n",
              "    </tr>\n",
              "    <tr>\n",
              "      <th>2</th>\n",
              "      <td>4</td>\n",
              "    </tr>\n",
              "    <tr>\n",
              "      <th>3</th>\n",
              "      <td>11</td>\n",
              "    </tr>\n",
              "    <tr>\n",
              "      <th>4</th>\n",
              "      <td>13</td>\n",
              "    </tr>\n",
              "    <tr>\n",
              "      <th>...</th>\n",
              "      <td>...</td>\n",
              "    </tr>\n",
              "    <tr>\n",
              "      <th>751</th>\n",
              "      <td>7</td>\n",
              "    </tr>\n",
              "    <tr>\n",
              "      <th>752</th>\n",
              "      <td>0</td>\n",
              "    </tr>\n",
              "    <tr>\n",
              "      <th>753</th>\n",
              "      <td>14</td>\n",
              "    </tr>\n",
              "    <tr>\n",
              "      <th>754</th>\n",
              "      <td>2</td>\n",
              "    </tr>\n",
              "    <tr>\n",
              "      <th>755</th>\n",
              "      <td>8</td>\n",
              "    </tr>\n",
              "  </tbody>\n",
              "</table>\n",
              "<p>752 rows × 1 columns</p>\n",
              "</div><br><label><b>dtype:</b> int64</label>"
            ]
          },
          "metadata": {},
          "execution_count": 14
        }
      ],
      "source": [
        "df['team1']"
      ]
    },
    {
      "cell_type": "code",
      "execution_count": null,
      "id": "9d8a8769-256c-4a06-b7d3-40324344a795",
      "metadata": {
        "colab": {
          "base_uri": "https://localhost:8080/",
          "height": 487
        },
        "id": "9d8a8769-256c-4a06-b7d3-40324344a795",
        "outputId": "46a4665b-c5f8-4b11-a1b0-3efad1668b96"
      },
      "outputs": [
        {
          "output_type": "display_data",
          "data": {
            "text/plain": [
              "<Figure size 1200x500 with 1 Axes>"
            ],
            "image/png": "[encoded data removed]"
          },
          "metadata": {}
        }
      ],
      "source": [
        "plt.figure(figsize=(12, 5))\n",
        "sns.countplot(y=df[\"winner\"], order=df[\"winner\"].value_counts().index, palette=\"viridis\")\n",
        "plt.title(\"Most Successful IPL Teams Based on Wins\")\n",
        "plt.xlabel(\"Number of Wins\")\n",
        "plt.ylabel(\"Teams\")\n",
        "plt.show()\n"
      ]
    },
    {
      "cell_type": "code",
      "execution_count": null,
      "id": "95f3d653-413c-4d20-971c-37f9ab32cb8f",
      "metadata": {
        "colab": {
          "base_uri": "https://localhost:8080/",
          "height": 410
        },
        "id": "95f3d653-413c-4d20-971c-37f9ab32cb8f",
        "outputId": "6539616d-49e0-40df-c758-9ef0d26dedae"
      },
      "outputs": [
        {
          "output_type": "display_data",
          "data": {
            "text/plain": [
              "<Figure size 600x400 with 1 Axes>"
            ],
            "image/png": "[encoded data removed]"
          },
          "metadata": {}
        }
      ],
      "source": [
        "plt.figure(figsize=(6, 4))\n",
        "sns.countplot(x=df[\"toss_decision\"], palette=\"pastel\")\n",
        "plt.title(\"Toss Decisions (Bat or Field)\")\n",
        "plt.xticks([0, 1], [\"Bat\", \"Field\"])\n",
        "plt.show()\n"
      ]
    },
    {
      "cell_type": "code",
      "execution_count": null,
      "id": "5aa468c1-9033-4fe1-b11d-10305123469f",
      "metadata": {
        "colab": {
          "base_uri": "https://localhost:8080/",
          "height": 410
        },
        "id": "5aa468c1-9033-4fe1-b11d-10305123469f",
        "outputId": "32e13a0e-bcd9-4cb7-ae09-779fa786a1b2"
      },
      "outputs": [
        {
          "output_type": "display_data",
          "data": {
            "text/plain": [
              "<Figure size 600x400 with 1 Axes>"
            ],
            "image/png": "[encoded data removed]"
          },
          "metadata": {}
        }
      ],
      "source": [
        "plt.figure(figsize=(6, 4))\n",
        "sns.countplot(x=(df[\"toss_winner\"] == df[\"winner\"]), palette=\"coolwarm\")\n",
        "plt.xticks([0, 1], [\"Lost\", \"Won\"])\n",
        "plt.title(\"Does Winning the Toss Help Win the Match?\")\n",
        "plt.show()\n"
      ]
    },
    {
      "cell_type": "code",
      "execution_count": null,
      "id": "3f2f1994-00f2-49f1-b47a-834582038b43",
      "metadata": {
        "id": "3f2f1994-00f2-49f1-b47a-834582038b43"
      },
      "outputs": [],
      "source": [
        "from sklearn.metrics import confusion_matrix, classification_report\n",
        "import seaborn as sns\n",
        "import matplotlib.pyplot as plt\n",
        "import pandas as pd"
      ]
    },
    {
      "cell_type": "code",
      "execution_count": null,
      "id": "dd569523-f395-4a10-817a-976588d32b3b",
      "metadata": {
        "id": "dd569523-f395-4a10-817a-976588d32b3b"
      },
      "outputs": [],
      "source": [
        "from sklearn.ensemble import RandomForestClassifier"
      ]
    },
    {
      "cell_type": "markdown",
      "source": [
        "#  Train Logistic Regression"
      ],
      "metadata": {
        "id": "h7-l_FtU_a5b"
      },
      "id": "h7-l_FtU_a5b"
    },
    {
      "cell_type": "code",
      "execution_count": null,
      "id": "20679987-fede-40cf-b4dd-90863bdea764",
      "metadata": {
        "colab": {
          "base_uri": "https://localhost:8080/"
        },
        "id": "20679987-fede-40cf-b4dd-90863bdea764",
        "outputId": "4ab604cb-9634-4e84-f645-c05fff1d227f"
      },
      "outputs": [
        {
          "output_type": "stream",
          "name": "stdout",
          "text": [
            "Logistic Regression Accuracy: 0.2649\n"
          ]
        }
      ],
      "source": [
        "# Train Logistic Regression\n",
        "log_reg = LogisticRegression(max_iter=500)\n",
        "log_reg.fit(X_train, y_train)\n",
        "y_pred = log_reg.predict(X_test)\n",
        "\n",
        "# Accuracy\n",
        "accuracy = accuracy_score(y_test, y_pred)\n",
        "print(f\"Logistic Regression Accuracy: {accuracy:.4f}\")\n"
      ]
    },
    {
      "cell_type": "markdown",
      "source": [
        "#  Random Forest Model"
      ],
      "metadata": {
        "id": "YU-YlurL_MsK"
      },
      "id": "YU-YlurL_MsK"
    },
    {
      "cell_type": "code",
      "execution_count": null,
      "id": "2f68ad50-fd30-4eb3-96a8-42352fdc85ea",
      "metadata": {
        "colab": {
          "base_uri": "https://localhost:8080/"
        },
        "id": "2f68ad50-fd30-4eb3-96a8-42352fdc85ea",
        "outputId": "077f3e36-56b8-48f7-96e4-43ee18a26c5d"
      },
      "outputs": [
        {
          "output_type": "stream",
          "name": "stdout",
          "text": [
            "Random Forest Accuracy: 0.8344\n"
          ]
        }
      ],
      "source": [
        "from sklearn.ensemble import RandomForestClassifier\n",
        "import xgboost as xgb\n",
        "\n",
        "# Random Forest Model\n",
        "rf_model = RandomForestClassifier(n_estimators=100, random_state=42)\n",
        "rf_model.fit(X_train, y_train)\n",
        "rf_pred = rf_model.predict(X_test)\n",
        "rf_accuracy = accuracy_score(y_test, rf_pred)\n",
        "print(f\"Random Forest Accuracy: {rf_accuracy:.4f}\")\n"
      ]
    },
    {
      "cell_type": "markdown",
      "source": [
        "# XGBoost Model"
      ],
      "metadata": {
        "id": "KQJr8FX__DLw"
      },
      "id": "KQJr8FX__DLw"
    },
    {
      "cell_type": "code",
      "execution_count": null,
      "id": "ee0d860f-7dac-4ed7-b77a-0da9de2e1240",
      "metadata": {
        "colab": {
          "base_uri": "https://localhost:8080/"
        },
        "id": "ee0d860f-7dac-4ed7-b77a-0da9de2e1240",
        "outputId": "71032fa4-8b2f-46b2-d2ef-be1e5e2d8b68"
      },
      "outputs": [
        {
          "output_type": "stream",
          "name": "stdout",
          "text": [
            "XGBoost Accuracy: 0.9669\n"
          ]
        }
      ],
      "source": [
        "# XGBoost Model\n",
        "xgb_model = xgb.XGBClassifier(use_label_encoder=False, eval_metric=\"mlogloss\", n_estimators=100)\n",
        "xgb_model.fit(X_train, y_train)\n",
        "xgb_pred = xgb_model.predict(X_test)\n",
        "xgb_accuracy = accuracy_score(y_test, xgb_pred)\n",
        "print(f\"XGBoost Accuracy: {xgb_accuracy:.4f}\")"
      ]
    },
    {
      "cell_type": "code",
      "source": [],
      "metadata": {
        "id": "UpJFQJyR-fOv"
      },
      "id": "UpJFQJyR-fOv",
      "execution_count": null,
      "outputs": []
    },
    {
      "cell_type": "markdown",
      "source": [
        "# Support Vector Machine (SVM)"
      ],
      "metadata": {
        "id": "XZrUqhNf-y9o"
      },
      "id": "XZrUqhNf-y9o"
    },
    {
      "cell_type": "code",
      "execution_count": null,
      "id": "5f745996-74eb-4a3c-892b-44b9a2f5ea6f",
      "metadata": {
        "colab": {
          "base_uri": "https://localhost:8080/"
        },
        "id": "5f745996-74eb-4a3c-892b-44b9a2f5ea6f",
        "outputId": "f5e23581-d490-4403-e05d-e5bdb876e786"
      },
      "outputs": [
        {
          "output_type": "stream",
          "name": "stdout",
          "text": [
            "SVM Accuracy: 0.5099\n"
          ]
        }
      ],
      "source": [
        "# Support Vector Machine (SVM)\n",
        "svm_model = SVC()\n",
        "svm_model.fit(X_train, y_train)\n",
        "y_pred_svm = svm_model.predict(X_test)\n",
        "svm_accuracy = accuracy_score(y_test, y_pred_svm)\n",
        "print(f\"SVM Accuracy: {svm_accuracy:.4f}\")"
      ]
    },
    {
      "cell_type": "markdown",
      "source": [
        "## K - Nearest Neighbors (KNN)"
      ],
      "metadata": {
        "id": "ZnvggQDT-IEq"
      },
      "id": "ZnvggQDT-IEq"
    },
    {
      "cell_type": "code",
      "execution_count": null,
      "id": "0e95b8ce-4c2c-496c-8441-74022e02f06d",
      "metadata": {
        "colab": {
          "base_uri": "https://localhost:8080/"
        },
        "id": "0e95b8ce-4c2c-496c-8441-74022e02f06d",
        "outputId": "e63e3069-30a1-44ab-e814-4e786851c2a9"
      },
      "outputs": [
        {
          "output_type": "stream",
          "name": "stdout",
          "text": [
            "KNN Accuracy: 0.3974\n"
          ]
        }
      ],
      "source": [
        "# K-Nearest Neighbors (KNN)\n",
        "knn_model = KNeighborsClassifier(n_neighbors=5)\n",
        "knn_model.fit(X_train, y_train)\n",
        "y_pred_knn = knn_model.predict(X_test)\n",
        "knn_accuracy = accuracy_score(y_test, y_pred_knn)\n",
        "print(f\"KNN Accuracy: {knn_accuracy:.4f}\")\n"
      ]
    },
    {
      "cell_type": "code",
      "execution_count": null,
      "id": "4132ec51-d604-412e-ba9b-b2a51a314b8b",
      "metadata": {
        "id": "4132ec51-d604-412e-ba9b-b2a51a314b8b"
      },
      "outputs": [],
      "source": []
    }
  ],
  "metadata": {
    "kernelspec": {
      "display_name": "Python 3 (ipykernel)",
      "language": "python",
      "name": "python3"
    },
    "language_info": {
      "codemirror_mode": {
        "name": "ipython",
        "version": 3
      },
      "file_extension": ".py",
      "mimetype": "text/x-python",
      "name": "python",
      "nbconvert_exporter": "python",
      "pygments_lexer": "ipython3",
      "version": "3.11.7"
    },
    "colab": {
      "provenance": []
    }
  },
  "nbformat": 4,
  "nbformat_minor": 5
}